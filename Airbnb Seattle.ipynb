{
 "cells": [
  {
   "cell_type": "code",
   "execution_count": 1,
   "id": "c463b07a",
   "metadata": {},
   "outputs": [
    {
     "name": "stderr",
     "output_type": "stream",
     "text": [
      "Python 3.6.8 :: Anaconda, Inc.\n"
     ]
    }
   ],
   "source": [
    "!python -V"
   ]
  },
  {
   "cell_type": "code",
   "execution_count": 2,
   "id": "b4fda122",
   "metadata": {},
   "outputs": [],
   "source": [
    "import pandas as pd\n",
    "import numpy as np\n",
    "import matplotlib.pyplot as plt\n",
    "import seaborn as sns\n",
    "import time\n",
    "import datetime\n",
    "import pickle\n",
    "from geopy.distance import geodesic\n",
    "from tqdm import tqdm_notebook"
   ]
  },
  {
   "cell_type": "code",
   "execution_count": 3,
   "id": "d84c0a2f",
   "metadata": {},
   "outputs": [],
   "source": [
    "from sklearn.impute import SimpleImputer\n",
    "from sklearn.pipeline import Pipeline\n",
    "from sklearn.compose import ColumnTransformer\n",
    "from sklearn.model_selection import train_test_split\n",
    "from sklearn.preprocessing import OneHotEncoder\n",
    "from catboost import CatBoostRegressor\n",
    "from sklearn.ensemble import RandomForestRegressor\n",
    "from sklearn.linear_model import Ridge\n",
    "from sklearn.metrics import r2_score,mean_squared_error,mean_absolute_error,mean_absolute_percentage_error\n",
    "from sklearn.model_selection import RandomizedSearchCV\n",
    "\n"
   ]
  },
  {
   "cell_type": "markdown",
   "id": "0a145b28",
   "metadata": {},
   "source": [
    "# 1 - Intro\n",
    "\n",
    "I'll work with the famous Airbnb Seattle dataset, this dataset contains two files:\n",
    "1. calendar.csv\n",
    "2. listings.csv  \n",
    "\n",
    "The purpose of this task is to predict the price of Seattle Airbnb rentals based on the data provided and any external dataset(s with relevant information.\n",
    "\n"
   ]
  },
  {
   "cell_type": "markdown",
   "id": "5e50f286",
   "metadata": {},
   "source": [
    "# 2 - Helper Functions"
   ]
  },
  {
   "cell_type": "code",
   "execution_count": 4,
   "id": "16c4930a",
   "metadata": {},
   "outputs": [],
   "source": [
    "def change_to_boolean(df,cols):\n",
    "    '''\n",
    "    function that receives dataframe df and columns where to change 't' to 1 and 'f' to 0\n",
    "    cols = list of columns\n",
    "    '''\n",
    "    for col in cols:\n",
    "        df.loc[:,col] = df[col].apply(lambda s: 1 if s=='t' else 0)\n",
    "\n",
    "def change_from_dollar(df,cols):\n",
    "    '''\n",
    "    function that receives a dataframe df and columns where to change from price string format \"$1,000.00\" to float\n",
    "    '''\n",
    "    \n",
    "    for col in cols:\n",
    "        df.loc[:,col] = df[col].apply(lambda s: s if s is np.nan else float(s.replace(',','')[1:]))\n",
    "        \n",
    "def change_from_percentage(df, cols):\n",
    "    '''\n",
    "    function that receives a dataframe df and columns where to change from string format '34%' to float 34\n",
    "    '''\n",
    "    for col in cols:\n",
    "        df.loc[:,col] = df[col].apply(lambda s: s if s is np.nan else float(s.replace('%','')))\n",
    "        \n",
    "def transform_and_return(df,features,model):\n",
    "    '''\n",
    "    Function that receives a dataframe, its features and an already fitted transformer and applies the\n",
    "    transformer and returns the output as a dataframe\n",
    "    '''\n",
    "    \n",
    "    df =model.transform(df)\n",
    "    df = pd.DataFrame(df,columns=features)\n",
    "    df.reset_index(drop=True,inplace=True)\n",
    "    return df\n",
    "\n",
    "    \n",
    "def agregate_categories(df1,df2,df3,cols):\n",
    "    '''\n",
    "    function that agregates categories in variables that have lots of categories\n",
    "    \n",
    "    '''\n",
    "\n",
    "    for col in cols:\n",
    "\n",
    "        value_c = df1[col].value_counts()\n",
    "        vals = value_c.index[:5]\n",
    "        df1[col] =df1[col].where(df1[col].isin(vals), 'other')\n",
    "        df2[col] =df2[col].where(df2[col].isin(vals), 'other')\n",
    "        df3[col] =df3[col].where(df3[col].isin(vals), 'other')\n",
    "\n",
    "def dataframe_with_dummies(df,dummies,encoder,features):\n",
    "    \"\"\"\n",
    "    function that receives df dataframe with the independent features and does OHE transformation with\n",
    "    the already fitted encoder \"encoder\" and returns a dataframe with all of the OHE features, the rest of the features\n",
    "    of the df dataframe \n",
    "\n",
    "    \"\"\"\n",
    "    df_dummies = pd.DataFrame(data = encoder.transform(df[dummies]).toarray(),columns = encoder.get_feature_names(dummies))                        \n",
    "    df = pd.concat([df[features], df_dummies], axis=1)\n",
    "    df.columns = features + list(encoder.get_feature_names(dummies))\n",
    "    return df       \n",
    "\n",
    "def plot_feature_importance(importance,names,model_type,num_features):\n",
    "\n",
    "    #Create arrays from feature importance and feature names\n",
    "    feature_importance = np.array(importance)\n",
    "    feature_names = np.array(names)\n",
    "\n",
    "    #Create a DataFrame using a Dictionary\n",
    "    data={'feature_names':feature_names,'feature_importance':feature_importance}\n",
    "    fi_df = pd.DataFrame(data)\n",
    "\n",
    "    #Sort the DataFrame in order decreasing feature importance\n",
    "    fi_df.sort_values(by=['feature_importance'], ascending=False,inplace=True)\n",
    "    fi_df = fi_df.iloc[:num_features,:num_features]\n",
    "    \n",
    "    #Define size of bar plot\n",
    "    plt.figure(figsize=(10,8))\n",
    "    #Plot Searborn bar chart\n",
    "    sns.barplot(x=fi_df['feature_importance'], y=fi_df['feature_names'])\n",
    "    #Add chart labels\n",
    "    plt.title(model_type + ' FEATURE IMPORTANCE')\n",
    "    plt.xlabel('FEATURE IMPORTANCE')\n",
    "    plt.ylabel('FEATURE NAMES')\n",
    "    plt.show()\n",
    "    return list(fi_df['feature_names'])\n",
    "\n",
    "def get_best_features(importance,names,model_type,num_features):\n",
    "\n",
    "    #Create arrays from feature importance and feature names\n",
    "    feature_importance = np.array(importance)\n",
    "    feature_names = np.array(names)\n",
    "\n",
    "    #Create a DataFrame using a Dictionary\n",
    "    data={'feature_names':feature_names,'feature_importance':feature_importance}\n",
    "    fi_df = pd.DataFrame(data)\n",
    "\n",
    "    #Sort the DataFrame in order decreasing feature importance\n",
    "    fi_df.sort_values(by=['feature_importance'], ascending=False,inplace=True)\n",
    "    fi_df = fi_df.iloc[:num_features,:num_features]\n",
    "    \n",
    "\n",
    "    return list(fi_df['feature_names'])\n",
    "    \n",
    "def distance_latlon(point1, point2):\n",
    "    '''\n",
    "    Function that receives the latitude and longitude of 2 points (point1 and point2 are tuples) and returns  \n",
    "    the distance in kilometers\n",
    "    '''\n",
    "    \n",
    "    return geodesic(point1, point2).km\n",
    "\n",
    "def model_output(y_val,y_preds):\n",
    "    \n",
    "    R2 = r2_score(y_val,y_preds)\n",
    "    MSE = mean_squared_error(y_val,y_preds)\n",
    "    MAE = mean_absolute_error(y_val,y_preds)\n",
    "    MAPE = mean_absolute_percentage_error(y_val,y_preds)\n",
    "    print('R^2: ',R2)\n",
    "    print('MSE: ',MSE)\n",
    "    print('MAE: ',MAE)\n",
    "    print('MAPE: ',MAPE)"
   ]
  },
  {
   "cell_type": "code",
   "execution_count": 5,
   "id": "d5a1ffaa",
   "metadata": {},
   "outputs": [],
   "source": [
    "\n",
    "# to impute later on\n",
    "mostf_filler = Pipeline(steps=[\n",
    "    ('imputer',SimpleImputer(strategy='most_frequent'))\n",
    "])\n",
    "\n",
    "mean_filler = Pipeline(steps=[\n",
    "    ('imputer',SimpleImputer(strategy='mean'))\n",
    "])\n"
   ]
  },
  {
   "cell_type": "markdown",
   "id": "7c745779",
   "metadata": {},
   "source": [
    "# 3 - Loading the data"
   ]
  },
  {
   "cell_type": "code",
   "execution_count": 6,
   "id": "1cdf6cfc",
   "metadata": {},
   "outputs": [],
   "source": [
    "calendar = pd.read_csv('calendar.csv')\n",
    "listings = pd.read_csv('listings.csv')\n",
    "\n",
    "# added this option so i could scroll through all the columns with head() or sample() methods\n",
    "pd.set_option('max_columns',None)"
   ]
  },
  {
   "cell_type": "markdown",
   "id": "ade07965",
   "metadata": {},
   "source": [
    "# 4 - Cleaning the data"
   ]
  },
  {
   "cell_type": "markdown",
   "id": "ecdd5577",
   "metadata": {},
   "source": [
    "## 4.1 - Listings DataFrame"
   ]
  },
  {
   "cell_type": "code",
   "execution_count": 7,
   "id": "417de691",
   "metadata": {},
   "outputs": [
    {
     "data": {
      "text/plain": [
       "(3818, 92)"
      ]
     },
     "execution_count": 7,
     "metadata": {},
     "output_type": "execute_result"
    }
   ],
   "source": [
    "#shape\n",
    "listings.shape"
   ]
  },
  {
   "cell_type": "code",
   "execution_count": 8,
   "id": "95b536b1",
   "metadata": {},
   "outputs": [
    {
     "data": {
      "text/html": [
       "<div>\n",
       "<style scoped>\n",
       "    .dataframe tbody tr th:only-of-type {\n",
       "        vertical-align: middle;\n",
       "    }\n",
       "\n",
       "    .dataframe tbody tr th {\n",
       "        vertical-align: top;\n",
       "    }\n",
       "\n",
       "    .dataframe thead th {\n",
       "        text-align: right;\n",
       "    }\n",
       "</style>\n",
       "<table border=\"1\" class=\"dataframe\">\n",
       "  <thead>\n",
       "    <tr style=\"text-align: right;\">\n",
       "      <th></th>\n",
       "      <th>id</th>\n",
       "      <th>listing_url</th>\n",
       "      <th>scrape_id</th>\n",
       "      <th>last_scraped</th>\n",
       "      <th>name</th>\n",
       "      <th>summary</th>\n",
       "      <th>space</th>\n",
       "      <th>description</th>\n",
       "      <th>experiences_offered</th>\n",
       "      <th>neighborhood_overview</th>\n",
       "      <th>notes</th>\n",
       "      <th>transit</th>\n",
       "      <th>thumbnail_url</th>\n",
       "      <th>medium_url</th>\n",
       "      <th>picture_url</th>\n",
       "      <th>xl_picture_url</th>\n",
       "      <th>host_id</th>\n",
       "      <th>host_url</th>\n",
       "      <th>host_name</th>\n",
       "      <th>host_since</th>\n",
       "      <th>host_location</th>\n",
       "      <th>host_about</th>\n",
       "      <th>host_response_time</th>\n",
       "      <th>host_response_rate</th>\n",
       "      <th>host_acceptance_rate</th>\n",
       "      <th>host_is_superhost</th>\n",
       "      <th>host_thumbnail_url</th>\n",
       "      <th>host_picture_url</th>\n",
       "      <th>host_neighbourhood</th>\n",
       "      <th>host_listings_count</th>\n",
       "      <th>host_total_listings_count</th>\n",
       "      <th>host_verifications</th>\n",
       "      <th>host_has_profile_pic</th>\n",
       "      <th>host_identity_verified</th>\n",
       "      <th>street</th>\n",
       "      <th>neighbourhood</th>\n",
       "      <th>neighbourhood_cleansed</th>\n",
       "      <th>neighbourhood_group_cleansed</th>\n",
       "      <th>city</th>\n",
       "      <th>state</th>\n",
       "      <th>zipcode</th>\n",
       "      <th>market</th>\n",
       "      <th>smart_location</th>\n",
       "      <th>country_code</th>\n",
       "      <th>country</th>\n",
       "      <th>latitude</th>\n",
       "      <th>longitude</th>\n",
       "      <th>is_location_exact</th>\n",
       "      <th>property_type</th>\n",
       "      <th>room_type</th>\n",
       "      <th>accommodates</th>\n",
       "      <th>bathrooms</th>\n",
       "      <th>bedrooms</th>\n",
       "      <th>beds</th>\n",
       "      <th>bed_type</th>\n",
       "      <th>amenities</th>\n",
       "      <th>square_feet</th>\n",
       "      <th>price</th>\n",
       "      <th>weekly_price</th>\n",
       "      <th>monthly_price</th>\n",
       "      <th>security_deposit</th>\n",
       "      <th>cleaning_fee</th>\n",
       "      <th>guests_included</th>\n",
       "      <th>extra_people</th>\n",
       "      <th>minimum_nights</th>\n",
       "      <th>maximum_nights</th>\n",
       "      <th>calendar_updated</th>\n",
       "      <th>has_availability</th>\n",
       "      <th>availability_30</th>\n",
       "      <th>availability_60</th>\n",
       "      <th>availability_90</th>\n",
       "      <th>availability_365</th>\n",
       "      <th>calendar_last_scraped</th>\n",
       "      <th>number_of_reviews</th>\n",
       "      <th>first_review</th>\n",
       "      <th>last_review</th>\n",
       "      <th>review_scores_rating</th>\n",
       "      <th>review_scores_accuracy</th>\n",
       "      <th>review_scores_cleanliness</th>\n",
       "      <th>review_scores_checkin</th>\n",
       "      <th>review_scores_communication</th>\n",
       "      <th>review_scores_location</th>\n",
       "      <th>review_scores_value</th>\n",
       "      <th>requires_license</th>\n",
       "      <th>license</th>\n",
       "      <th>jurisdiction_names</th>\n",
       "      <th>instant_bookable</th>\n",
       "      <th>cancellation_policy</th>\n",
       "      <th>require_guest_profile_picture</th>\n",
       "      <th>require_guest_phone_verification</th>\n",
       "      <th>calculated_host_listings_count</th>\n",
       "      <th>reviews_per_month</th>\n",
       "    </tr>\n",
       "  </thead>\n",
       "  <tbody>\n",
       "    <tr>\n",
       "      <th>0</th>\n",
       "      <td>241032</td>\n",
       "      <td>https://www.airbnb.com/rooms/241032</td>\n",
       "      <td>20160104002432</td>\n",
       "      <td>2016-01-04</td>\n",
       "      <td>Stylish Queen Anne Apartment</td>\n",
       "      <td>NaN</td>\n",
       "      <td>Make your self at home in this charming one-be...</td>\n",
       "      <td>Make your self at home in this charming one-be...</td>\n",
       "      <td>none</td>\n",
       "      <td>NaN</td>\n",
       "      <td>NaN</td>\n",
       "      <td>NaN</td>\n",
       "      <td>NaN</td>\n",
       "      <td>NaN</td>\n",
       "      <td>https://a1.muscache.com/ac/pictures/67560560/c...</td>\n",
       "      <td>NaN</td>\n",
       "      <td>956883</td>\n",
       "      <td>https://www.airbnb.com/users/show/956883</td>\n",
       "      <td>Maija</td>\n",
       "      <td>2011-08-11</td>\n",
       "      <td>Seattle, Washington, United States</td>\n",
       "      <td>I am an artist, interior designer, and run a s...</td>\n",
       "      <td>within a few hours</td>\n",
       "      <td>96%</td>\n",
       "      <td>100%</td>\n",
       "      <td>f</td>\n",
       "      <td>https://a0.muscache.com/ac/users/956883/profil...</td>\n",
       "      <td>https://a0.muscache.com/ac/users/956883/profil...</td>\n",
       "      <td>Queen Anne</td>\n",
       "      <td>3.0</td>\n",
       "      <td>3.0</td>\n",
       "      <td>['email', 'phone', 'reviews', 'kba']</td>\n",
       "      <td>t</td>\n",
       "      <td>t</td>\n",
       "      <td>Gilman Dr W, Seattle, WA 98119, United States</td>\n",
       "      <td>Queen Anne</td>\n",
       "      <td>West Queen Anne</td>\n",
       "      <td>Queen Anne</td>\n",
       "      <td>Seattle</td>\n",
       "      <td>WA</td>\n",
       "      <td>98119</td>\n",
       "      <td>Seattle</td>\n",
       "      <td>Seattle, WA</td>\n",
       "      <td>US</td>\n",
       "      <td>United States</td>\n",
       "      <td>47.636289</td>\n",
       "      <td>-122.371025</td>\n",
       "      <td>t</td>\n",
       "      <td>Apartment</td>\n",
       "      <td>Entire home/apt</td>\n",
       "      <td>4</td>\n",
       "      <td>1.0</td>\n",
       "      <td>1.0</td>\n",
       "      <td>1.0</td>\n",
       "      <td>Real Bed</td>\n",
       "      <td>{TV,\"Cable TV\",Internet,\"Wireless Internet\",\"A...</td>\n",
       "      <td>NaN</td>\n",
       "      <td>$85.00</td>\n",
       "      <td>NaN</td>\n",
       "      <td>NaN</td>\n",
       "      <td>NaN</td>\n",
       "      <td>NaN</td>\n",
       "      <td>2</td>\n",
       "      <td>$5.00</td>\n",
       "      <td>1</td>\n",
       "      <td>365</td>\n",
       "      <td>4 weeks ago</td>\n",
       "      <td>t</td>\n",
       "      <td>14</td>\n",
       "      <td>41</td>\n",
       "      <td>71</td>\n",
       "      <td>346</td>\n",
       "      <td>2016-01-04</td>\n",
       "      <td>207</td>\n",
       "      <td>2011-11-01</td>\n",
       "      <td>2016-01-02</td>\n",
       "      <td>95.0</td>\n",
       "      <td>10.0</td>\n",
       "      <td>10.0</td>\n",
       "      <td>10.0</td>\n",
       "      <td>10.0</td>\n",
       "      <td>9.0</td>\n",
       "      <td>10.0</td>\n",
       "      <td>f</td>\n",
       "      <td>NaN</td>\n",
       "      <td>WASHINGTON</td>\n",
       "      <td>f</td>\n",
       "      <td>moderate</td>\n",
       "      <td>f</td>\n",
       "      <td>f</td>\n",
       "      <td>2</td>\n",
       "      <td>4.07</td>\n",
       "    </tr>\n",
       "    <tr>\n",
       "      <th>1</th>\n",
       "      <td>953595</td>\n",
       "      <td>https://www.airbnb.com/rooms/953595</td>\n",
       "      <td>20160104002432</td>\n",
       "      <td>2016-01-04</td>\n",
       "      <td>Bright &amp; Airy Queen Anne Apartment</td>\n",
       "      <td>Chemically sensitive? We've removed the irrita...</td>\n",
       "      <td>Beautiful, hypoallergenic apartment in an extr...</td>\n",
       "      <td>Chemically sensitive? We've removed the irrita...</td>\n",
       "      <td>none</td>\n",
       "      <td>Queen Anne is a wonderful, truly functional vi...</td>\n",
       "      <td>What's up with the free pillows?  Our home was...</td>\n",
       "      <td>Convenient bus stops are just down the block, ...</td>\n",
       "      <td>https://a0.muscache.com/ac/pictures/14409893/f...</td>\n",
       "      <td>https://a0.muscache.com/im/pictures/14409893/f...</td>\n",
       "      <td>https://a0.muscache.com/ac/pictures/14409893/f...</td>\n",
       "      <td>https://a0.muscache.com/ac/pictures/14409893/f...</td>\n",
       "      <td>5177328</td>\n",
       "      <td>https://www.airbnb.com/users/show/5177328</td>\n",
       "      <td>Andrea</td>\n",
       "      <td>2013-02-21</td>\n",
       "      <td>Seattle, Washington, United States</td>\n",
       "      <td>Living east coast/left coast/overseas.  Time i...</td>\n",
       "      <td>within an hour</td>\n",
       "      <td>98%</td>\n",
       "      <td>100%</td>\n",
       "      <td>t</td>\n",
       "      <td>https://a0.muscache.com/ac/users/5177328/profi...</td>\n",
       "      <td>https://a0.muscache.com/ac/users/5177328/profi...</td>\n",
       "      <td>Queen Anne</td>\n",
       "      <td>6.0</td>\n",
       "      <td>6.0</td>\n",
       "      <td>['email', 'phone', 'facebook', 'linkedin', 're...</td>\n",
       "      <td>t</td>\n",
       "      <td>t</td>\n",
       "      <td>7th Avenue West, Seattle, WA 98119, United States</td>\n",
       "      <td>Queen Anne</td>\n",
       "      <td>West Queen Anne</td>\n",
       "      <td>Queen Anne</td>\n",
       "      <td>Seattle</td>\n",
       "      <td>WA</td>\n",
       "      <td>98119</td>\n",
       "      <td>Seattle</td>\n",
       "      <td>Seattle, WA</td>\n",
       "      <td>US</td>\n",
       "      <td>United States</td>\n",
       "      <td>47.639123</td>\n",
       "      <td>-122.365666</td>\n",
       "      <td>t</td>\n",
       "      <td>Apartment</td>\n",
       "      <td>Entire home/apt</td>\n",
       "      <td>4</td>\n",
       "      <td>1.0</td>\n",
       "      <td>1.0</td>\n",
       "      <td>1.0</td>\n",
       "      <td>Real Bed</td>\n",
       "      <td>{TV,Internet,\"Wireless Internet\",Kitchen,\"Free...</td>\n",
       "      <td>NaN</td>\n",
       "      <td>$150.00</td>\n",
       "      <td>$1,000.00</td>\n",
       "      <td>$3,000.00</td>\n",
       "      <td>$100.00</td>\n",
       "      <td>$40.00</td>\n",
       "      <td>1</td>\n",
       "      <td>$0.00</td>\n",
       "      <td>2</td>\n",
       "      <td>90</td>\n",
       "      <td>today</td>\n",
       "      <td>t</td>\n",
       "      <td>13</td>\n",
       "      <td>13</td>\n",
       "      <td>16</td>\n",
       "      <td>291</td>\n",
       "      <td>2016-01-04</td>\n",
       "      <td>43</td>\n",
       "      <td>2013-08-19</td>\n",
       "      <td>2015-12-29</td>\n",
       "      <td>96.0</td>\n",
       "      <td>10.0</td>\n",
       "      <td>10.0</td>\n",
       "      <td>10.0</td>\n",
       "      <td>10.0</td>\n",
       "      <td>10.0</td>\n",
       "      <td>10.0</td>\n",
       "      <td>f</td>\n",
       "      <td>NaN</td>\n",
       "      <td>WASHINGTON</td>\n",
       "      <td>f</td>\n",
       "      <td>strict</td>\n",
       "      <td>t</td>\n",
       "      <td>t</td>\n",
       "      <td>6</td>\n",
       "      <td>1.48</td>\n",
       "    </tr>\n",
       "  </tbody>\n",
       "</table>\n",
       "</div>"
      ],
      "text/plain": [
       "       id                          listing_url       scrape_id last_scraped  \\\n",
       "0  241032  https://www.airbnb.com/rooms/241032  20160104002432   2016-01-04   \n",
       "1  953595  https://www.airbnb.com/rooms/953595  20160104002432   2016-01-04   \n",
       "\n",
       "                                 name  \\\n",
       "0        Stylish Queen Anne Apartment   \n",
       "1  Bright & Airy Queen Anne Apartment   \n",
       "\n",
       "                                             summary  \\\n",
       "0                                                NaN   \n",
       "1  Chemically sensitive? We've removed the irrita...   \n",
       "\n",
       "                                               space  \\\n",
       "0  Make your self at home in this charming one-be...   \n",
       "1  Beautiful, hypoallergenic apartment in an extr...   \n",
       "\n",
       "                                         description experiences_offered  \\\n",
       "0  Make your self at home in this charming one-be...                none   \n",
       "1  Chemically sensitive? We've removed the irrita...                none   \n",
       "\n",
       "                               neighborhood_overview  \\\n",
       "0                                                NaN   \n",
       "1  Queen Anne is a wonderful, truly functional vi...   \n",
       "\n",
       "                                               notes  \\\n",
       "0                                                NaN   \n",
       "1  What's up with the free pillows?  Our home was...   \n",
       "\n",
       "                                             transit  \\\n",
       "0                                                NaN   \n",
       "1  Convenient bus stops are just down the block, ...   \n",
       "\n",
       "                                       thumbnail_url  \\\n",
       "0                                                NaN   \n",
       "1  https://a0.muscache.com/ac/pictures/14409893/f...   \n",
       "\n",
       "                                          medium_url  \\\n",
       "0                                                NaN   \n",
       "1  https://a0.muscache.com/im/pictures/14409893/f...   \n",
       "\n",
       "                                         picture_url  \\\n",
       "0  https://a1.muscache.com/ac/pictures/67560560/c...   \n",
       "1  https://a0.muscache.com/ac/pictures/14409893/f...   \n",
       "\n",
       "                                      xl_picture_url  host_id  \\\n",
       "0                                                NaN   956883   \n",
       "1  https://a0.muscache.com/ac/pictures/14409893/f...  5177328   \n",
       "\n",
       "                                    host_url host_name  host_since  \\\n",
       "0   https://www.airbnb.com/users/show/956883     Maija  2011-08-11   \n",
       "1  https://www.airbnb.com/users/show/5177328    Andrea  2013-02-21   \n",
       "\n",
       "                        host_location  \\\n",
       "0  Seattle, Washington, United States   \n",
       "1  Seattle, Washington, United States   \n",
       "\n",
       "                                          host_about  host_response_time  \\\n",
       "0  I am an artist, interior designer, and run a s...  within a few hours   \n",
       "1  Living east coast/left coast/overseas.  Time i...      within an hour   \n",
       "\n",
       "  host_response_rate host_acceptance_rate host_is_superhost  \\\n",
       "0                96%                 100%                 f   \n",
       "1                98%                 100%                 t   \n",
       "\n",
       "                                  host_thumbnail_url  \\\n",
       "0  https://a0.muscache.com/ac/users/956883/profil...   \n",
       "1  https://a0.muscache.com/ac/users/5177328/profi...   \n",
       "\n",
       "                                    host_picture_url host_neighbourhood  \\\n",
       "0  https://a0.muscache.com/ac/users/956883/profil...         Queen Anne   \n",
       "1  https://a0.muscache.com/ac/users/5177328/profi...         Queen Anne   \n",
       "\n",
       "   host_listings_count  host_total_listings_count  \\\n",
       "0                  3.0                        3.0   \n",
       "1                  6.0                        6.0   \n",
       "\n",
       "                                  host_verifications host_has_profile_pic  \\\n",
       "0               ['email', 'phone', 'reviews', 'kba']                    t   \n",
       "1  ['email', 'phone', 'facebook', 'linkedin', 're...                    t   \n",
       "\n",
       "  host_identity_verified                                             street  \\\n",
       "0                      t      Gilman Dr W, Seattle, WA 98119, United States   \n",
       "1                      t  7th Avenue West, Seattle, WA 98119, United States   \n",
       "\n",
       "  neighbourhood neighbourhood_cleansed neighbourhood_group_cleansed     city  \\\n",
       "0    Queen Anne        West Queen Anne                   Queen Anne  Seattle   \n",
       "1    Queen Anne        West Queen Anne                   Queen Anne  Seattle   \n",
       "\n",
       "  state zipcode   market smart_location country_code        country  \\\n",
       "0    WA   98119  Seattle    Seattle, WA           US  United States   \n",
       "1    WA   98119  Seattle    Seattle, WA           US  United States   \n",
       "\n",
       "    latitude   longitude is_location_exact property_type        room_type  \\\n",
       "0  47.636289 -122.371025                 t     Apartment  Entire home/apt   \n",
       "1  47.639123 -122.365666                 t     Apartment  Entire home/apt   \n",
       "\n",
       "   accommodates  bathrooms  bedrooms  beds  bed_type  \\\n",
       "0             4        1.0       1.0   1.0  Real Bed   \n",
       "1             4        1.0       1.0   1.0  Real Bed   \n",
       "\n",
       "                                           amenities  square_feet    price  \\\n",
       "0  {TV,\"Cable TV\",Internet,\"Wireless Internet\",\"A...          NaN   $85.00   \n",
       "1  {TV,Internet,\"Wireless Internet\",Kitchen,\"Free...          NaN  $150.00   \n",
       "\n",
       "  weekly_price monthly_price security_deposit cleaning_fee  guests_included  \\\n",
       "0          NaN           NaN              NaN          NaN                2   \n",
       "1    $1,000.00     $3,000.00          $100.00       $40.00                1   \n",
       "\n",
       "  extra_people  minimum_nights  maximum_nights calendar_updated  \\\n",
       "0        $5.00               1             365      4 weeks ago   \n",
       "1        $0.00               2              90            today   \n",
       "\n",
       "  has_availability  availability_30  availability_60  availability_90  \\\n",
       "0                t               14               41               71   \n",
       "1                t               13               13               16   \n",
       "\n",
       "   availability_365 calendar_last_scraped  number_of_reviews first_review  \\\n",
       "0               346            2016-01-04                207   2011-11-01   \n",
       "1               291            2016-01-04                 43   2013-08-19   \n",
       "\n",
       "  last_review  review_scores_rating  review_scores_accuracy  \\\n",
       "0  2016-01-02                  95.0                    10.0   \n",
       "1  2015-12-29                  96.0                    10.0   \n",
       "\n",
       "   review_scores_cleanliness  review_scores_checkin  \\\n",
       "0                       10.0                   10.0   \n",
       "1                       10.0                   10.0   \n",
       "\n",
       "   review_scores_communication  review_scores_location  review_scores_value  \\\n",
       "0                         10.0                     9.0                 10.0   \n",
       "1                         10.0                    10.0                 10.0   \n",
       "\n",
       "  requires_license  license jurisdiction_names instant_bookable  \\\n",
       "0                f      NaN         WASHINGTON                f   \n",
       "1                f      NaN         WASHINGTON                f   \n",
       "\n",
       "  cancellation_policy require_guest_profile_picture  \\\n",
       "0            moderate                             f   \n",
       "1              strict                             t   \n",
       "\n",
       "  require_guest_phone_verification  calculated_host_listings_count  \\\n",
       "0                                f                               2   \n",
       "1                                t                               6   \n",
       "\n",
       "   reviews_per_month  \n",
       "0               4.07  \n",
       "1               1.48  "
      ]
     },
     "execution_count": 8,
     "metadata": {},
     "output_type": "execute_result"
    }
   ],
   "source": [
    "# we'll look at the data to have a better understanding\n",
    "listings.head(2)"
   ]
  },
  {
   "cell_type": "code",
   "execution_count": 9,
   "id": "417d40cc",
   "metadata": {},
   "outputs": [
    {
     "name": "stdout",
     "output_type": "stream",
     "text": [
      "<class 'pandas.core.frame.DataFrame'>\n",
      "RangeIndex: 3818 entries, 0 to 3817\n",
      "Data columns (total 92 columns):\n",
      " #   Column                            Non-Null Count  Dtype  \n",
      "---  ------                            --------------  -----  \n",
      " 0   id                                3818 non-null   int64  \n",
      " 1   listing_url                       3818 non-null   object \n",
      " 2   scrape_id                         3818 non-null   int64  \n",
      " 3   last_scraped                      3818 non-null   object \n",
      " 4   name                              3818 non-null   object \n",
      " 5   summary                           3641 non-null   object \n",
      " 6   space                             3249 non-null   object \n",
      " 7   description                       3818 non-null   object \n",
      " 8   experiences_offered               3818 non-null   object \n",
      " 9   neighborhood_overview             2786 non-null   object \n",
      " 10  notes                             2212 non-null   object \n",
      " 11  transit                           2884 non-null   object \n",
      " 12  thumbnail_url                     3498 non-null   object \n",
      " 13  medium_url                        3498 non-null   object \n",
      " 14  picture_url                       3818 non-null   object \n",
      " 15  xl_picture_url                    3498 non-null   object \n",
      " 16  host_id                           3818 non-null   int64  \n",
      " 17  host_url                          3818 non-null   object \n",
      " 18  host_name                         3816 non-null   object \n",
      " 19  host_since                        3816 non-null   object \n",
      " 20  host_location                     3810 non-null   object \n",
      " 21  host_about                        2959 non-null   object \n",
      " 22  host_response_time                3295 non-null   object \n",
      " 23  host_response_rate                3295 non-null   object \n",
      " 24  host_acceptance_rate              3045 non-null   object \n",
      " 25  host_is_superhost                 3816 non-null   object \n",
      " 26  host_thumbnail_url                3816 non-null   object \n",
      " 27  host_picture_url                  3816 non-null   object \n",
      " 28  host_neighbourhood                3518 non-null   object \n",
      " 29  host_listings_count               3816 non-null   float64\n",
      " 30  host_total_listings_count         3816 non-null   float64\n",
      " 31  host_verifications                3818 non-null   object \n",
      " 32  host_has_profile_pic              3816 non-null   object \n",
      " 33  host_identity_verified            3816 non-null   object \n",
      " 34  street                            3818 non-null   object \n",
      " 35  neighbourhood                     3402 non-null   object \n",
      " 36  neighbourhood_cleansed            3818 non-null   object \n",
      " 37  neighbourhood_group_cleansed      3818 non-null   object \n",
      " 38  city                              3818 non-null   object \n",
      " 39  state                             3818 non-null   object \n",
      " 40  zipcode                           3811 non-null   object \n",
      " 41  market                            3818 non-null   object \n",
      " 42  smart_location                    3818 non-null   object \n",
      " 43  country_code                      3818 non-null   object \n",
      " 44  country                           3818 non-null   object \n",
      " 45  latitude                          3818 non-null   float64\n",
      " 46  longitude                         3818 non-null   float64\n",
      " 47  is_location_exact                 3818 non-null   object \n",
      " 48  property_type                     3817 non-null   object \n",
      " 49  room_type                         3818 non-null   object \n",
      " 50  accommodates                      3818 non-null   int64  \n",
      " 51  bathrooms                         3802 non-null   float64\n",
      " 52  bedrooms                          3812 non-null   float64\n",
      " 53  beds                              3817 non-null   float64\n",
      " 54  bed_type                          3818 non-null   object \n",
      " 55  amenities                         3818 non-null   object \n",
      " 56  square_feet                       97 non-null     float64\n",
      " 57  price                             3818 non-null   object \n",
      " 58  weekly_price                      2009 non-null   object \n",
      " 59  monthly_price                     1517 non-null   object \n",
      " 60  security_deposit                  1866 non-null   object \n",
      " 61  cleaning_fee                      2788 non-null   object \n",
      " 62  guests_included                   3818 non-null   int64  \n",
      " 63  extra_people                      3818 non-null   object \n",
      " 64  minimum_nights                    3818 non-null   int64  \n",
      " 65  maximum_nights                    3818 non-null   int64  \n",
      " 66  calendar_updated                  3818 non-null   object \n",
      " 67  has_availability                  3818 non-null   object \n",
      " 68  availability_30                   3818 non-null   int64  \n",
      " 69  availability_60                   3818 non-null   int64  \n",
      " 70  availability_90                   3818 non-null   int64  \n",
      " 71  availability_365                  3818 non-null   int64  \n",
      " 72  calendar_last_scraped             3818 non-null   object \n",
      " 73  number_of_reviews                 3818 non-null   int64  \n",
      " 74  first_review                      3191 non-null   object \n",
      " 75  last_review                       3191 non-null   object \n",
      " 76  review_scores_rating              3171 non-null   float64\n",
      " 77  review_scores_accuracy            3160 non-null   float64\n",
      " 78  review_scores_cleanliness         3165 non-null   float64\n",
      " 79  review_scores_checkin             3160 non-null   float64\n",
      " 80  review_scores_communication       3167 non-null   float64\n",
      " 81  review_scores_location            3163 non-null   float64\n",
      " 82  review_scores_value               3162 non-null   float64\n",
      " 83  requires_license                  3818 non-null   object \n",
      " 84  license                           0 non-null      float64\n",
      " 85  jurisdiction_names                3818 non-null   object \n",
      " 86  instant_bookable                  3818 non-null   object \n",
      " 87  cancellation_policy               3818 non-null   object \n",
      " 88  require_guest_profile_picture     3818 non-null   object \n",
      " 89  require_guest_phone_verification  3818 non-null   object \n",
      " 90  calculated_host_listings_count    3818 non-null   int64  \n",
      " 91  reviews_per_month                 3191 non-null   float64\n",
      "dtypes: float64(17), int64(13), object(62)\n",
      "memory usage: 2.7+ MB\n"
     ]
    }
   ],
   "source": [
    "#we'll check the info\n",
    "listings.info()"
   ]
  },
  {
   "cell_type": "code",
   "execution_count": 10,
   "id": "bfe99934",
   "metadata": {},
   "outputs": [
    {
     "data": {
      "text/plain": [
       "summary                         177\n",
       "space                           569\n",
       "neighborhood_overview          1032\n",
       "notes                          1606\n",
       "transit                         934\n",
       "thumbnail_url                   320\n",
       "medium_url                      320\n",
       "xl_picture_url                  320\n",
       "host_name                         2\n",
       "host_since                        2\n",
       "host_location                     8\n",
       "host_about                      859\n",
       "host_response_time              523\n",
       "host_response_rate              523\n",
       "host_acceptance_rate            773\n",
       "host_is_superhost                 2\n",
       "host_thumbnail_url                2\n",
       "host_picture_url                  2\n",
       "host_neighbourhood              300\n",
       "host_listings_count               2\n",
       "host_total_listings_count         2\n",
       "host_has_profile_pic              2\n",
       "host_identity_verified            2\n",
       "neighbourhood                   416\n",
       "zipcode                           7\n",
       "property_type                     1\n",
       "bathrooms                        16\n",
       "bedrooms                          6\n",
       "beds                              1\n",
       "square_feet                    3721\n",
       "weekly_price                   1809\n",
       "monthly_price                  2301\n",
       "security_deposit               1952\n",
       "cleaning_fee                   1030\n",
       "first_review                    627\n",
       "last_review                     627\n",
       "review_scores_rating            647\n",
       "review_scores_accuracy          658\n",
       "review_scores_cleanliness       653\n",
       "review_scores_checkin           658\n",
       "review_scores_communication     651\n",
       "review_scores_location          655\n",
       "review_scores_value             656\n",
       "license                        3818\n",
       "reviews_per_month               627\n",
       "dtype: int64"
      ]
     },
     "execution_count": 10,
     "metadata": {},
     "output_type": "execute_result"
    }
   ],
   "source": [
    "#let's check the columns with nan values\n",
    "listings.isna().sum()[listings.isna().sum() >0]"
   ]
  },
  {
   "cell_type": "markdown",
   "id": "1d80bb8c",
   "metadata": {},
   "source": [
    "We see that there are a lot of features with nan values.  \n"
   ]
  },
  {
   "cell_type": "markdown",
   "id": "a7998bed",
   "metadata": {},
   "source": [
    "Before dealing with those we'll delete some features weather they have too many nan values or because the information  \n",
    "is useless or in order to be used it's out of the scope of this project (for example use of NLP to get value from data)."
   ]
  },
  {
   "cell_type": "markdown",
   "id": "0c24ce0f",
   "metadata": {},
   "source": [
    "### 4.1.1 - Deleting features\n",
    "**Features i'll delete**  \n",
    "- scrape_id,experiences_offered,city,market,smart_location,country_code,country,requires_license,license  \n",
    "jurisdiction_names: beacuse all raws are the same or almost    \n",
    "\n",
    "- weekly_price,monthly_price because im predicting price so i can't use those features because would be lekeage. I could get a % of the price that goes down with weekly or monthly price, but it also makes sense that if i dont have price, i also don't have weekly or monthly, so makes no sense to use it.  \n",
    "(Later on i could create a model that uses price as a feature and predict weekly or monthly price)    \n",
    "\n",
    "- i'll also delete security_deposit and cleaning_fee because they have to many nan values    \n",
    "\n",
    "- I'll also delete features with long strings that i dont find as useful (maybe if i would use nlp, but that's not the case).  \n",
    "  Features like :'name','transit','street','neighbourhood_cleansed','picture_url','neighborhood_overview',     'space','host_about','thumbnail_url','host_picture_url','description','medium_url','host_thumbnail_url','xl_picture_url',  'notes','summary','neighbourhood_group_cleansed', 'host_url','listing_url'  \n",
    "  \n",
    "- Also some features that i don't see so much use for them:  \n",
    "'first_review','last_scraped','calendar_last_scraped','last_review','host_name'"
   ]
  },
  {
   "cell_type": "code",
   "execution_count": 11,
   "id": "74ed90b8",
   "metadata": {},
   "outputs": [],
   "source": [
    "to_delete = ['name','transit','street','neighbourhood_cleansed','picture_url','neighborhood_overview', 'space','host_about',\n",
    "             'thumbnail_url','host_picture_url','description','medium_url','host_thumbnail_url','xl_picture_url','notes',\n",
    "             'summary','neighbourhood_group_cleansed','host_url','listing_url','first_review',\n",
    "             'calendar_last_scraped','last_review','host_name','calendar_updated','state','host_id','host_location',\n",
    "             'scrape_id','square_feet','weekly_price','monthly_price','license','experiences_offered','city','market',\n",
    "             'smart_location','country_code','country','requires_license','jurisdiction_names', 'security_deposit',\n",
    "             'cleaning_fee','has_availability','host_acceptance_rate']\n",
    "listings.drop(columns=to_delete,inplace=True)\n"
   ]
  },
  {
   "cell_type": "code",
   "execution_count": 12,
   "id": "a1e5f019",
   "metadata": {},
   "outputs": [
    {
     "data": {
      "text/plain": [
       "(3818, 48)"
      ]
     },
     "execution_count": 12,
     "metadata": {},
     "output_type": "execute_result"
    }
   ],
   "source": [
    "listings.shape"
   ]
  },
  {
   "cell_type": "code",
   "execution_count": 13,
   "id": "455f05cc",
   "metadata": {},
   "outputs": [],
   "source": [
    "#first i'll change features that have values 't' and 'f' to 1 and 0\n",
    "to_boolean = ['host_is_superhost','host_has_profile_pic','host_identity_verified','is_location_exact',\n",
    "             'instant_bookable','require_guest_profile_picture','require_guest_phone_verification']\n",
    "change_to_boolean(listings,to_boolean)"
   ]
  },
  {
   "cell_type": "code",
   "execution_count": 14,
   "id": "b2106095",
   "metadata": {},
   "outputs": [],
   "source": [
    "# change features that have % to float\n",
    "change_from_percentage(listings,['host_response_rate'])"
   ]
  },
  {
   "cell_type": "code",
   "execution_count": 15,
   "id": "18af33f5",
   "metadata": {},
   "outputs": [],
   "source": [
    "#change features that have format $1000,00 to float\n",
    "change_from_dollar(listings,['price','extra_people'])"
   ]
  },
  {
   "cell_type": "markdown",
   "id": "84740f0a",
   "metadata": {},
   "source": [
    "### 4.1.2 - BATHROOMS AND BEDROOMS  \n",
    "Some values in bathrooms and bedrooms makes no sense."
   ]
  },
  {
   "cell_type": "code",
   "execution_count": 16,
   "id": "c2aa8d55",
   "metadata": {},
   "outputs": [
    {
     "name": "stdout",
     "output_type": "stream",
     "text": [
      "Bathrooms and bedrooms are 0\n"
     ]
    },
    {
     "data": {
      "text/html": [
       "<div>\n",
       "<style scoped>\n",
       "    .dataframe tbody tr th:only-of-type {\n",
       "        vertical-align: middle;\n",
       "    }\n",
       "\n",
       "    .dataframe tbody tr th {\n",
       "        vertical-align: top;\n",
       "    }\n",
       "\n",
       "    .dataframe thead th {\n",
       "        text-align: right;\n",
       "    }\n",
       "</style>\n",
       "<table border=\"1\" class=\"dataframe\">\n",
       "  <thead>\n",
       "    <tr style=\"text-align: right;\">\n",
       "      <th></th>\n",
       "      <th>room_type</th>\n",
       "      <th>bathrooms</th>\n",
       "      <th>bedrooms</th>\n",
       "      <th>accommodates</th>\n",
       "      <th>price</th>\n",
       "    </tr>\n",
       "  </thead>\n",
       "  <tbody>\n",
       "    <tr>\n",
       "      <th>1924</th>\n",
       "      <td>Entire home/apt</td>\n",
       "      <td>0.0</td>\n",
       "      <td>0.0</td>\n",
       "      <td>4</td>\n",
       "      <td>265.0</td>\n",
       "    </tr>\n",
       "    <tr>\n",
       "      <th>2202</th>\n",
       "      <td>Entire home/apt</td>\n",
       "      <td>0.0</td>\n",
       "      <td>0.0</td>\n",
       "      <td>2</td>\n",
       "      <td>75.0</td>\n",
       "    </tr>\n",
       "  </tbody>\n",
       "</table>\n",
       "</div>"
      ],
      "text/plain": [
       "            room_type  bathrooms  bedrooms  accommodates  price\n",
       "1924  Entire home/apt        0.0       0.0             4  265.0\n",
       "2202  Entire home/apt        0.0       0.0             2   75.0"
      ]
     },
     "metadata": {},
     "output_type": "display_data"
    },
    {
     "name": "stdout",
     "output_type": "stream",
     "text": [
      "Bathrooms are 0, bedrooms are not\n"
     ]
    },
    {
     "data": {
      "text/html": [
       "<div>\n",
       "<style scoped>\n",
       "    .dataframe tbody tr th:only-of-type {\n",
       "        vertical-align: middle;\n",
       "    }\n",
       "\n",
       "    .dataframe tbody tr th {\n",
       "        vertical-align: top;\n",
       "    }\n",
       "\n",
       "    .dataframe thead th {\n",
       "        text-align: right;\n",
       "    }\n",
       "</style>\n",
       "<table border=\"1\" class=\"dataframe\">\n",
       "  <thead>\n",
       "    <tr style=\"text-align: right;\">\n",
       "      <th></th>\n",
       "      <th>room_type</th>\n",
       "      <th>bathrooms</th>\n",
       "      <th>bedrooms</th>\n",
       "      <th>accommodates</th>\n",
       "      <th>price</th>\n",
       "    </tr>\n",
       "  </thead>\n",
       "  <tbody>\n",
       "    <tr>\n",
       "      <th>1069</th>\n",
       "      <td>Shared room</td>\n",
       "      <td>0.0</td>\n",
       "      <td>1.0</td>\n",
       "      <td>8</td>\n",
       "      <td>38.0</td>\n",
       "    </tr>\n",
       "    <tr>\n",
       "      <th>1446</th>\n",
       "      <td>Private room</td>\n",
       "      <td>0.0</td>\n",
       "      <td>1.0</td>\n",
       "      <td>2</td>\n",
       "      <td>65.0</td>\n",
       "    </tr>\n",
       "    <tr>\n",
       "      <th>2276</th>\n",
       "      <td>Private room</td>\n",
       "      <td>0.0</td>\n",
       "      <td>1.0</td>\n",
       "      <td>2</td>\n",
       "      <td>40.0</td>\n",
       "    </tr>\n",
       "    <tr>\n",
       "      <th>2409</th>\n",
       "      <td>Private room</td>\n",
       "      <td>0.0</td>\n",
       "      <td>1.0</td>\n",
       "      <td>1</td>\n",
       "      <td>50.0</td>\n",
       "    </tr>\n",
       "    <tr>\n",
       "      <th>2560</th>\n",
       "      <td>Private room</td>\n",
       "      <td>0.0</td>\n",
       "      <td>1.0</td>\n",
       "      <td>2</td>\n",
       "      <td>55.0</td>\n",
       "    </tr>\n",
       "    <tr>\n",
       "      <th>2562</th>\n",
       "      <td>Private room</td>\n",
       "      <td>0.0</td>\n",
       "      <td>1.0</td>\n",
       "      <td>2</td>\n",
       "      <td>55.0</td>\n",
       "    </tr>\n",
       "  </tbody>\n",
       "</table>\n",
       "</div>"
      ],
      "text/plain": [
       "         room_type  bathrooms  bedrooms  accommodates  price\n",
       "1069   Shared room        0.0       1.0             8   38.0\n",
       "1446  Private room        0.0       1.0             2   65.0\n",
       "2276  Private room        0.0       1.0             2   40.0\n",
       "2409  Private room        0.0       1.0             1   50.0\n",
       "2560  Private room        0.0       1.0             2   55.0\n",
       "2562  Private room        0.0       1.0             2   55.0"
      ]
     },
     "metadata": {},
     "output_type": "display_data"
    },
    {
     "name": "stdout",
     "output_type": "stream",
     "text": [
      "Bedrooms are 0, bathrooms are not\n"
     ]
    },
    {
     "data": {
      "text/html": [
       "<div>\n",
       "<style scoped>\n",
       "    .dataframe tbody tr th:only-of-type {\n",
       "        vertical-align: middle;\n",
       "    }\n",
       "\n",
       "    .dataframe tbody tr th {\n",
       "        vertical-align: top;\n",
       "    }\n",
       "\n",
       "    .dataframe thead th {\n",
       "        text-align: right;\n",
       "    }\n",
       "</style>\n",
       "<table border=\"1\" class=\"dataframe\">\n",
       "  <thead>\n",
       "    <tr style=\"text-align: right;\">\n",
       "      <th></th>\n",
       "      <th>room_type</th>\n",
       "      <th>bathrooms</th>\n",
       "      <th>bedrooms</th>\n",
       "      <th>accommodates</th>\n",
       "      <th>price</th>\n",
       "    </tr>\n",
       "  </thead>\n",
       "  <tbody>\n",
       "    <tr>\n",
       "      <th>3</th>\n",
       "      <td>Entire home/apt</td>\n",
       "      <td>1.0</td>\n",
       "      <td>0.0</td>\n",
       "      <td>3</td>\n",
       "      <td>100.0</td>\n",
       "    </tr>\n",
       "    <tr>\n",
       "      <th>39</th>\n",
       "      <td>Entire home/apt</td>\n",
       "      <td>1.0</td>\n",
       "      <td>0.0</td>\n",
       "      <td>2</td>\n",
       "      <td>80.0</td>\n",
       "    </tr>\n",
       "    <tr>\n",
       "      <th>45</th>\n",
       "      <td>Entire home/apt</td>\n",
       "      <td>1.0</td>\n",
       "      <td>0.0</td>\n",
       "      <td>2</td>\n",
       "      <td>100.0</td>\n",
       "    </tr>\n",
       "    <tr>\n",
       "      <th>47</th>\n",
       "      <td>Entire home/apt</td>\n",
       "      <td>1.0</td>\n",
       "      <td>0.0</td>\n",
       "      <td>2</td>\n",
       "      <td>110.0</td>\n",
       "    </tr>\n",
       "    <tr>\n",
       "      <th>50</th>\n",
       "      <td>Entire home/apt</td>\n",
       "      <td>1.0</td>\n",
       "      <td>0.0</td>\n",
       "      <td>2</td>\n",
       "      <td>99.0</td>\n",
       "    </tr>\n",
       "    <tr>\n",
       "      <th>...</th>\n",
       "      <td>...</td>\n",
       "      <td>...</td>\n",
       "      <td>...</td>\n",
       "      <td>...</td>\n",
       "      <td>...</td>\n",
       "    </tr>\n",
       "    <tr>\n",
       "      <th>3795</th>\n",
       "      <td>Entire home/apt</td>\n",
       "      <td>1.0</td>\n",
       "      <td>0.0</td>\n",
       "      <td>4</td>\n",
       "      <td>200.0</td>\n",
       "    </tr>\n",
       "    <tr>\n",
       "      <th>3797</th>\n",
       "      <td>Entire home/apt</td>\n",
       "      <td>1.0</td>\n",
       "      <td>0.0</td>\n",
       "      <td>2</td>\n",
       "      <td>70.0</td>\n",
       "    </tr>\n",
       "    <tr>\n",
       "      <th>3804</th>\n",
       "      <td>Entire home/apt</td>\n",
       "      <td>1.0</td>\n",
       "      <td>0.0</td>\n",
       "      <td>2</td>\n",
       "      <td>125.0</td>\n",
       "    </tr>\n",
       "    <tr>\n",
       "      <th>3807</th>\n",
       "      <td>Entire home/apt</td>\n",
       "      <td>1.0</td>\n",
       "      <td>0.0</td>\n",
       "      <td>2</td>\n",
       "      <td>109.0</td>\n",
       "    </tr>\n",
       "    <tr>\n",
       "      <th>3816</th>\n",
       "      <td>Entire home/apt</td>\n",
       "      <td>1.0</td>\n",
       "      <td>0.0</td>\n",
       "      <td>2</td>\n",
       "      <td>99.0</td>\n",
       "    </tr>\n",
       "  </tbody>\n",
       "</table>\n",
       "<p>370 rows × 5 columns</p>\n",
       "</div>"
      ],
      "text/plain": [
       "            room_type  bathrooms  bedrooms  accommodates  price\n",
       "3     Entire home/apt        1.0       0.0             3  100.0\n",
       "39    Entire home/apt        1.0       0.0             2   80.0\n",
       "45    Entire home/apt        1.0       0.0             2  100.0\n",
       "47    Entire home/apt        1.0       0.0             2  110.0\n",
       "50    Entire home/apt        1.0       0.0             2   99.0\n",
       "...               ...        ...       ...           ...    ...\n",
       "3795  Entire home/apt        1.0       0.0             4  200.0\n",
       "3797  Entire home/apt        1.0       0.0             2   70.0\n",
       "3804  Entire home/apt        1.0       0.0             2  125.0\n",
       "3807  Entire home/apt        1.0       0.0             2  109.0\n",
       "3816  Entire home/apt        1.0       0.0             2   99.0\n",
       "\n",
       "[370 rows x 5 columns]"
      ]
     },
     "execution_count": 16,
     "metadata": {},
     "output_type": "execute_result"
    }
   ],
   "source": [
    "print('Bathrooms and bedrooms are 0')\n",
    "display(listings[(listings.bathrooms ==0) & (listings.bedrooms==0)][['room_type','bathrooms','bedrooms','accommodates','price']])\n",
    "\n",
    "print('Bathrooms are 0, bedrooms are not')\n",
    "display(listings[(listings.bathrooms ==0) & (listings.bedrooms!=0)][['room_type','bathrooms','bedrooms','accommodates','price']])\n",
    "\n",
    "print('Bedrooms are 0, bathrooms are not')\n",
    "listings[(listings.bathrooms !=0) & (listings.bedrooms==0)][['room_type','bathrooms','bedrooms','accommodates','price']]"
   ]
  },
  {
   "cell_type": "markdown",
   "id": "d7bd16de",
   "metadata": {},
   "source": [
    "#### **Summary**  \n",
    "\n",
    "It makes sense that the rows there bathrooms and bedrooms are 0 really should be nan's. They accommodate people, have value,  \n",
    "so we have to change those values to nan's.  \n",
    "Also the rows that have bedrooms=0 and bathrooms not 0 doesn't make sense. These values should be nan's instead of 0.  \n",
    "The case of rows with bedrooms not 0 but bathrooms 0 could make sense if the room_type is a private or shared room.   \n",
    "Let's check this out."
   ]
  },
  {
   "cell_type": "code",
   "execution_count": 17,
   "id": "bab9ac19",
   "metadata": {},
   "outputs": [
    {
     "data": {
      "text/plain": [
       "array(['Shared room', 'Private room'], dtype=object)"
      ]
     },
     "execution_count": 17,
     "metadata": {},
     "output_type": "execute_result"
    }
   ],
   "source": [
    "# checking the room type of these rows\n",
    "listings[(listings.bathrooms ==0) & (listings.bedrooms!=0)].room_type.unique()"
   ]
  },
  {
   "cell_type": "markdown",
   "id": "75243cbe",
   "metadata": {},
   "source": [
    "So now that we concluded this small analysis we'll change the values."
   ]
  },
  {
   "cell_type": "code",
   "execution_count": 18,
   "id": "fd41c928",
   "metadata": {},
   "outputs": [],
   "source": [
    "#first we'll change the value of the bathrooms where also bedrooms is 0\n",
    "my_index = listings[(listings.bathrooms==0)&(listings.bedrooms==0)].index\n",
    "listings.loc[my_index,'bathrooms'] = listings[(listings.bathrooms==0)&(listings.bedrooms==0)].bathrooms.apply(lambda x: np.nan if x ==0 else x)\n",
    "\n",
    "#now we'll change all of the values where bedrooms are 0\n",
    "my_index = listings[(listings.bedrooms==0)].index\n",
    "listings.loc[my_index,'bedrooms'] = listings[(listings.bedrooms==0)].bedrooms.apply(lambda x: np.nan if x ==0 else x)\n"
   ]
  },
  {
   "cell_type": "code",
   "execution_count": 19,
   "id": "851ee174",
   "metadata": {},
   "outputs": [
    {
     "data": {
      "text/plain": [
       "(0, 48)"
      ]
     },
     "execution_count": 19,
     "metadata": {},
     "output_type": "execute_result"
    }
   ],
   "source": [
    "listings[listings.bedrooms==0].shape"
   ]
  },
  {
   "cell_type": "markdown",
   "id": "f023917b",
   "metadata": {},
   "source": [
    "### 4.1.3 - Dealining with nan's \n"
   ]
  },
  {
   "cell_type": "code",
   "execution_count": 20,
   "id": "ca801752",
   "metadata": {},
   "outputs": [],
   "source": [
    "#there are features that makes sense to fill 'NA' or the like. These are features that\n",
    "#i plan to use those afterwards for feature creation, i'll just impute an auxiliar value for now to be able\n",
    "#to process the data \n",
    "to_fill_NA = ['host_neighbourhood','neighbourhood']\n",
    "\n",
    "for col in to_fill_NA:\n",
    "    listings[col].fillna('NA',inplace=True)\n"
   ]
  },
  {
   "cell_type": "code",
   "execution_count": 21,
   "id": "0f3b4363",
   "metadata": {},
   "outputs": [],
   "source": [
    "#there are 2 rows that they dont have info about the host so since there are so few instead of imputing something\n",
    "#i'll just drop them\n",
    "listings = listings[~listings.host_since.isna()]\n",
    "\n",
    "#i'll also drop rows with nan zipcode since there are so little nan rows and i dont want to use later on some demographic data\n",
    "#that could be mistaken \n",
    "listings = listings[~listings.zipcode.isna()]\n",
    "#also eliminate mistaken zipcode value\n",
    "listings = listings[~(listings.zipcode=='99\\n98122')]\n",
    "\n",
    "listings.reset_index(drop=True,inplace=True)\n"
   ]
  },
  {
   "cell_type": "markdown",
   "id": "360dfdbd",
   "metadata": {},
   "source": [
    "#### Train test split  \n",
    "In order that there would be no data lekeage i'll split the data before imputing values"
   ]
  },
  {
   "cell_type": "code",
   "execution_count": 22,
   "id": "556cfd91",
   "metadata": {},
   "outputs": [],
   "source": [
    "listings_train_val, listings_test = train_test_split(listings, test_size=.2,random_state=12)\n",
    "listings_train, listings_val = train_test_split(listings_train_val, test_size=.2,random_state=12)\n"
   ]
  },
  {
   "cell_type": "code",
   "execution_count": 23,
   "id": "47f7b3fa",
   "metadata": {},
   "outputs": [],
   "source": [
    "#features to fill the nans with mean \n",
    "\n",
    "fill_with_mean = ['host_response_rate','review_scores_rating','review_scores_accuracy',\n",
    "                 'review_scores_cleanliness','review_scores_checkin','review_scores_communication',\n",
    "                 'review_scores_location','review_scores_value','reviews_per_month']\n",
    "\n",
    "#features to fill the nans with most frequent \n",
    "fill_with_most_frequent = ['host_response_time','bathrooms','bedrooms','beds','property_type']"
   ]
  },
  {
   "cell_type": "code",
   "execution_count": 24,
   "id": "072920eb",
   "metadata": {},
   "outputs": [],
   "source": [
    "the_rest = list(set(listings.columns) - set(fill_with_mean)- set(fill_with_most_frequent))\n",
    "features = fill_with_most_frequent +fill_with_mean +the_rest"
   ]
  },
  {
   "cell_type": "code",
   "execution_count": 25,
   "id": "5929ef56",
   "metadata": {},
   "outputs": [],
   "source": [
    "listings_train = listings_train[features]\n",
    "listings_val = listings_val[features]\n",
    "listings_test = listings_test[features]"
   ]
  },
  {
   "cell_type": "code",
   "execution_count": 26,
   "id": "e7ef790c",
   "metadata": {},
   "outputs": [],
   "source": [
    "transformers = ColumnTransformer([\n",
    "            ('mostf', mostf_filler, fill_with_most_frequent),\n",
    "            ('mean',mean_filler,fill_with_mean),\n",
    "            ('the_rest','passthrough',the_rest)\n",
    "    ])\n",
    "\n",
    "model = transformers.fit(listings_train)\n",
    "listings_train = transform_and_return(listings_train,features,model)\n",
    "listings_val = transform_and_return(listings_val,features,model)\n",
    "listings_test = transform_and_return(listings_test,features,model)"
   ]
  },
  {
   "cell_type": "code",
   "execution_count": 27,
   "id": "0b4f4224",
   "metadata": {},
   "outputs": [
    {
     "name": "stdout",
     "output_type": "stream",
     "text": [
      "Series([], dtype: int64)\n",
      "Series([], dtype: int64)\n",
      "Series([], dtype: int64)\n"
     ]
    }
   ],
   "source": [
    "#check the nans\n",
    "print(listings_train.isna().sum()[listings_train.isna().sum()>0])\n",
    "print(listings_val.isna().sum()[listings_val.isna().sum()>0])\n",
    "print(listings_test.isna().sum()[listings_test.isna().sum()>0])\n",
    "\n"
   ]
  },
  {
   "cell_type": "markdown",
   "id": "434e57c8",
   "metadata": {},
   "source": [
    "We see that we have no Nans.  \n",
    "That's it for now. Now we'll check the Calendar DataFrame"
   ]
  },
  {
   "cell_type": "markdown",
   "id": "3ef550f2",
   "metadata": {},
   "source": [
    "Last step, converting some feature in correct datatype"
   ]
  },
  {
   "cell_type": "code",
   "execution_count": 28,
   "id": "c3712808",
   "metadata": {},
   "outputs": [],
   "source": [
    "for df in [listings_train,listings_val,listings_test]:\n",
    "    for col in listings_train.columns:\n",
    "        try:\n",
    "            for df in [listings_train,listings_val,listings_test]:\n",
    "                df.loc[:,col] = pd.to_numeric(df[col])\n",
    "        except:\n",
    "            pass\n",
    "        "
   ]
  },
  {
   "cell_type": "markdown",
   "id": "65694228",
   "metadata": {},
   "source": [
    "## 4.2 - **Calendar DataFrame**"
   ]
  },
  {
   "cell_type": "code",
   "execution_count": 29,
   "id": "d8c01e70",
   "metadata": {},
   "outputs": [
    {
     "name": "stdout",
     "output_type": "stream",
     "text": [
      "shape (1393570, 4)\n"
     ]
    },
    {
     "data": {
      "text/html": [
       "<div>\n",
       "<style scoped>\n",
       "    .dataframe tbody tr th:only-of-type {\n",
       "        vertical-align: middle;\n",
       "    }\n",
       "\n",
       "    .dataframe tbody tr th {\n",
       "        vertical-align: top;\n",
       "    }\n",
       "\n",
       "    .dataframe thead th {\n",
       "        text-align: right;\n",
       "    }\n",
       "</style>\n",
       "<table border=\"1\" class=\"dataframe\">\n",
       "  <thead>\n",
       "    <tr style=\"text-align: right;\">\n",
       "      <th></th>\n",
       "      <th>listing_id</th>\n",
       "      <th>date</th>\n",
       "      <th>available</th>\n",
       "      <th>price</th>\n",
       "    </tr>\n",
       "  </thead>\n",
       "  <tbody>\n",
       "    <tr>\n",
       "      <th>0</th>\n",
       "      <td>241032</td>\n",
       "      <td>2016-01-04</td>\n",
       "      <td>t</td>\n",
       "      <td>$85.00</td>\n",
       "    </tr>\n",
       "    <tr>\n",
       "      <th>1</th>\n",
       "      <td>241032</td>\n",
       "      <td>2016-01-05</td>\n",
       "      <td>t</td>\n",
       "      <td>$85.00</td>\n",
       "    </tr>\n",
       "    <tr>\n",
       "      <th>2</th>\n",
       "      <td>241032</td>\n",
       "      <td>2016-01-06</td>\n",
       "      <td>f</td>\n",
       "      <td>NaN</td>\n",
       "    </tr>\n",
       "    <tr>\n",
       "      <th>3</th>\n",
       "      <td>241032</td>\n",
       "      <td>2016-01-07</td>\n",
       "      <td>f</td>\n",
       "      <td>NaN</td>\n",
       "    </tr>\n",
       "    <tr>\n",
       "      <th>4</th>\n",
       "      <td>241032</td>\n",
       "      <td>2016-01-08</td>\n",
       "      <td>f</td>\n",
       "      <td>NaN</td>\n",
       "    </tr>\n",
       "  </tbody>\n",
       "</table>\n",
       "</div>"
      ],
      "text/plain": [
       "   listing_id        date available   price\n",
       "0      241032  2016-01-04         t  $85.00\n",
       "1      241032  2016-01-05         t  $85.00\n",
       "2      241032  2016-01-06         f     NaN\n",
       "3      241032  2016-01-07         f     NaN\n",
       "4      241032  2016-01-08         f     NaN"
      ]
     },
     "execution_count": 29,
     "metadata": {},
     "output_type": "execute_result"
    }
   ],
   "source": [
    "print('shape',calendar.shape)\n",
    "calendar.head()"
   ]
  },
  {
   "cell_type": "markdown",
   "id": "f19f3295",
   "metadata": {},
   "source": [
    "We see that calendar has the id of one listing, the date of the listing, a \"boolean\" that explains if it is available and in case it is gives the price.  "
   ]
  },
  {
   "cell_type": "code",
   "execution_count": 30,
   "id": "734e3de7",
   "metadata": {},
   "outputs": [
    {
     "name": "stdout",
     "output_type": "stream",
     "text": [
      "<class 'pandas.core.frame.DataFrame'>\n",
      "RangeIndex: 1393570 entries, 0 to 1393569\n",
      "Data columns (total 4 columns):\n",
      " #   Column      Non-Null Count    Dtype \n",
      "---  ------      --------------    ----- \n",
      " 0   listing_id  1393570 non-null  int64 \n",
      " 1   date        1393570 non-null  object\n",
      " 2   available   1393570 non-null  object\n",
      " 3   price       934542 non-null   object\n",
      "dtypes: int64(1), object(3)\n",
      "memory usage: 42.5+ MB\n"
     ]
    }
   ],
   "source": [
    "#we'll check the column types \n",
    "calendar.info()"
   ]
  },
  {
   "cell_type": "code",
   "execution_count": 31,
   "id": "cd8973f7",
   "metadata": {},
   "outputs": [],
   "source": [
    "#changing values in 'available' from 't' and 'f' to 1,0\n",
    "change_to_boolean(calendar,['available'])\n",
    "\n",
    "# changing type of 'date' from object to datetime. (i'll need this later on to manipulate this feature)\n",
    "calendar['date']= pd.to_datetime(calendar['date'])\n",
    "\n",
    "#change format from price\n",
    "change_from_dollar(calendar,['price'])"
   ]
  },
  {
   "cell_type": "code",
   "execution_count": 32,
   "id": "bae78d24",
   "metadata": {},
   "outputs": [],
   "source": [
    "# assert to check if price is only nan when listing not available and only not nan when it is\n",
    "assert calendar[calendar.price.isna()].available.unique() == [0]\n",
    "assert calendar[~calendar.price.isna()].available.unique() == [1]"
   ]
  },
  {
   "cell_type": "markdown",
   "id": "d06ae864",
   "metadata": {},
   "source": [
    "We see that the nans really mean that there is no price because it's not available.  \n",
    "We'll fill the value of the average for each property. \n",
    "For that we'll group by id and get the average.  "
   ]
  },
  {
   "cell_type": "code",
   "execution_count": 33,
   "id": "eade809b",
   "metadata": {},
   "outputs": [
    {
     "data": {
      "text/html": [
       "<div>\n",
       "<style scoped>\n",
       "    .dataframe tbody tr th:only-of-type {\n",
       "        vertical-align: middle;\n",
       "    }\n",
       "\n",
       "    .dataframe tbody tr th {\n",
       "        vertical-align: top;\n",
       "    }\n",
       "\n",
       "    .dataframe thead th {\n",
       "        text-align: right;\n",
       "    }\n",
       "</style>\n",
       "<table border=\"1\" class=\"dataframe\">\n",
       "  <thead>\n",
       "    <tr style=\"text-align: right;\">\n",
       "      <th></th>\n",
       "      <th>listing_id</th>\n",
       "      <th>avg_price</th>\n",
       "    </tr>\n",
       "  </thead>\n",
       "  <tbody>\n",
       "    <tr>\n",
       "      <th>0</th>\n",
       "      <td>3335</td>\n",
       "      <td>120.000000</td>\n",
       "    </tr>\n",
       "    <tr>\n",
       "      <th>1</th>\n",
       "      <td>4291</td>\n",
       "      <td>82.000000</td>\n",
       "    </tr>\n",
       "    <tr>\n",
       "      <th>2</th>\n",
       "      <td>5682</td>\n",
       "      <td>53.944984</td>\n",
       "    </tr>\n",
       "    <tr>\n",
       "      <th>3</th>\n",
       "      <td>6606</td>\n",
       "      <td>92.849315</td>\n",
       "    </tr>\n",
       "    <tr>\n",
       "      <th>4</th>\n",
       "      <td>7369</td>\n",
       "      <td>85.000000</td>\n",
       "    </tr>\n",
       "    <tr>\n",
       "      <th>...</th>\n",
       "      <td>...</td>\n",
       "      <td>...</td>\n",
       "    </tr>\n",
       "    <tr>\n",
       "      <th>3813</th>\n",
       "      <td>10332096</td>\n",
       "      <td>40.000000</td>\n",
       "    </tr>\n",
       "    <tr>\n",
       "      <th>3814</th>\n",
       "      <td>10334184</td>\n",
       "      <td>120.000000</td>\n",
       "    </tr>\n",
       "    <tr>\n",
       "      <th>3815</th>\n",
       "      <td>10339144</td>\n",
       "      <td>NaN</td>\n",
       "    </tr>\n",
       "    <tr>\n",
       "      <th>3816</th>\n",
       "      <td>10339145</td>\n",
       "      <td>237.904110</td>\n",
       "    </tr>\n",
       "    <tr>\n",
       "      <th>3817</th>\n",
       "      <td>10340165</td>\n",
       "      <td>43.000000</td>\n",
       "    </tr>\n",
       "  </tbody>\n",
       "</table>\n",
       "<p>3818 rows × 2 columns</p>\n",
       "</div>"
      ],
      "text/plain": [
       "      listing_id   avg_price\n",
       "0           3335  120.000000\n",
       "1           4291   82.000000\n",
       "2           5682   53.944984\n",
       "3           6606   92.849315\n",
       "4           7369   85.000000\n",
       "...          ...         ...\n",
       "3813    10332096   40.000000\n",
       "3814    10334184  120.000000\n",
       "3815    10339144         NaN\n",
       "3816    10339145  237.904110\n",
       "3817    10340165   43.000000\n",
       "\n",
       "[3818 rows x 2 columns]"
      ]
     },
     "metadata": {},
     "output_type": "display_data"
    }
   ],
   "source": [
    "avg_price_per_id = calendar.groupby(calendar.listing_id).mean()\n",
    "avg_price_per_id.reset_index(level=0, inplace=True)\n",
    "avg_price_per_id = avg_price_per_id[['listing_id','price']]\n",
    "avg_price_per_id.columns = ['listing_id','avg_price']\n",
    "display(avg_price_per_id)"
   ]
  },
  {
   "cell_type": "markdown",
   "id": "727a321f",
   "metadata": {},
   "source": [
    "We see that there are properties that are not available for the whole year, therefore there's no value in the average.  \n",
    "We'll delete those rows since we can't use that data."
   ]
  },
  {
   "cell_type": "code",
   "execution_count": 34,
   "id": "f97acc18",
   "metadata": {},
   "outputs": [
    {
     "data": {
      "text/html": [
       "<div>\n",
       "<style scoped>\n",
       "    .dataframe tbody tr th:only-of-type {\n",
       "        vertical-align: middle;\n",
       "    }\n",
       "\n",
       "    .dataframe tbody tr th {\n",
       "        vertical-align: top;\n",
       "    }\n",
       "\n",
       "    .dataframe thead th {\n",
       "        text-align: right;\n",
       "    }\n",
       "</style>\n",
       "<table border=\"1\" class=\"dataframe\">\n",
       "  <thead>\n",
       "    <tr style=\"text-align: right;\">\n",
       "      <th></th>\n",
       "      <th>listing_id</th>\n",
       "      <th>date</th>\n",
       "      <th>available</th>\n",
       "      <th>price</th>\n",
       "    </tr>\n",
       "  </thead>\n",
       "  <tbody>\n",
       "    <tr>\n",
       "      <th>0</th>\n",
       "      <td>241032</td>\n",
       "      <td>2016-01-04</td>\n",
       "      <td>1</td>\n",
       "      <td>85.0</td>\n",
       "    </tr>\n",
       "    <tr>\n",
       "      <th>1</th>\n",
       "      <td>241032</td>\n",
       "      <td>2016-01-05</td>\n",
       "      <td>1</td>\n",
       "      <td>85.0</td>\n",
       "    </tr>\n",
       "    <tr>\n",
       "      <th>2</th>\n",
       "      <td>241032</td>\n",
       "      <td>2016-01-06</td>\n",
       "      <td>0</td>\n",
       "      <td>NaN</td>\n",
       "    </tr>\n",
       "    <tr>\n",
       "      <th>3</th>\n",
       "      <td>241032</td>\n",
       "      <td>2016-01-07</td>\n",
       "      <td>0</td>\n",
       "      <td>NaN</td>\n",
       "    </tr>\n",
       "    <tr>\n",
       "      <th>4</th>\n",
       "      <td>241032</td>\n",
       "      <td>2016-01-08</td>\n",
       "      <td>0</td>\n",
       "      <td>NaN</td>\n",
       "    </tr>\n",
       "  </tbody>\n",
       "</table>\n",
       "</div>"
      ],
      "text/plain": [
       "   listing_id       date  available  price\n",
       "0      241032 2016-01-04          1   85.0\n",
       "1      241032 2016-01-05          1   85.0\n",
       "2      241032 2016-01-06          0    NaN\n",
       "3      241032 2016-01-07          0    NaN\n",
       "4      241032 2016-01-08          0    NaN"
      ]
     },
     "metadata": {},
     "output_type": "display_data"
    }
   ],
   "source": [
    "ids_to_delete = list(avg_price_per_id[avg_price_per_id.avg_price.isna()].listing_id)\n",
    "calendar = calendar[~calendar.listing_id.isin(ids_to_delete)]\n",
    "display(calendar.head())\n"
   ]
  },
  {
   "cell_type": "code",
   "execution_count": 35,
   "id": "bc9fd077",
   "metadata": {},
   "outputs": [
    {
     "data": {
      "text/plain": [
       "(1358895, 4)"
      ]
     },
     "execution_count": 35,
     "metadata": {},
     "output_type": "execute_result"
    }
   ],
   "source": [
    "calendar.shape"
   ]
  },
  {
   "cell_type": "code",
   "execution_count": 36,
   "id": "69665039",
   "metadata": {},
   "outputs": [
    {
     "data": {
      "text/html": [
       "<div>\n",
       "<style scoped>\n",
       "    .dataframe tbody tr th:only-of-type {\n",
       "        vertical-align: middle;\n",
       "    }\n",
       "\n",
       "    .dataframe tbody tr th {\n",
       "        vertical-align: top;\n",
       "    }\n",
       "\n",
       "    .dataframe thead th {\n",
       "        text-align: right;\n",
       "    }\n",
       "</style>\n",
       "<table border=\"1\" class=\"dataframe\">\n",
       "  <thead>\n",
       "    <tr style=\"text-align: right;\">\n",
       "      <th></th>\n",
       "      <th>listing_id</th>\n",
       "      <th>date</th>\n",
       "      <th>available</th>\n",
       "      <th>price</th>\n",
       "    </tr>\n",
       "  </thead>\n",
       "  <tbody>\n",
       "    <tr>\n",
       "      <th>0</th>\n",
       "      <td>241032</td>\n",
       "      <td>2016-01-04</td>\n",
       "      <td>1</td>\n",
       "      <td>85.0</td>\n",
       "    </tr>\n",
       "    <tr>\n",
       "      <th>1</th>\n",
       "      <td>241032</td>\n",
       "      <td>2016-01-05</td>\n",
       "      <td>1</td>\n",
       "      <td>85.0</td>\n",
       "    </tr>\n",
       "    <tr>\n",
       "      <th>2</th>\n",
       "      <td>241032</td>\n",
       "      <td>2016-01-06</td>\n",
       "      <td>0</td>\n",
       "      <td>85.0</td>\n",
       "    </tr>\n",
       "    <tr>\n",
       "      <th>3</th>\n",
       "      <td>241032</td>\n",
       "      <td>2016-01-07</td>\n",
       "      <td>0</td>\n",
       "      <td>85.0</td>\n",
       "    </tr>\n",
       "    <tr>\n",
       "      <th>4</th>\n",
       "      <td>241032</td>\n",
       "      <td>2016-01-08</td>\n",
       "      <td>0</td>\n",
       "      <td>85.0</td>\n",
       "    </tr>\n",
       "  </tbody>\n",
       "</table>\n",
       "</div>"
      ],
      "text/plain": [
       "   listing_id       date  available  price\n",
       "0      241032 2016-01-04          1   85.0\n",
       "1      241032 2016-01-05          1   85.0\n",
       "2      241032 2016-01-06          0   85.0\n",
       "3      241032 2016-01-07          0   85.0\n",
       "4      241032 2016-01-08          0   85.0"
      ]
     },
     "execution_count": 36,
     "metadata": {},
     "output_type": "execute_result"
    }
   ],
   "source": [
    "# add avg_price to calendar df\n",
    "calendar = calendar.merge(avg_price_per_id, on='listing_id', how='left')\n",
    "\n",
    "\n",
    "# change value of price feature if it's nan\n",
    "calendar.loc[:,'price'] = calendar.apply(lambda row: row['price'] if not np.isnan(row['price']) else row['avg_price'] ,axis=1)\n",
    "calendar.drop(columns=['avg_price'],inplace=True)\n",
    "calendar.head()"
   ]
  },
  {
   "cell_type": "code",
   "execution_count": 37,
   "id": "4b17008d",
   "metadata": {},
   "outputs": [
    {
     "data": {
      "text/plain": [
       "Series([], dtype: int64)"
      ]
     },
     "execution_count": 37,
     "metadata": {},
     "output_type": "execute_result"
    }
   ],
   "source": [
    "# check nans\n",
    "calendar.isna().sum()[calendar.isna().sum()>0]"
   ]
  },
  {
   "cell_type": "markdown",
   "id": "704ee8d0",
   "metadata": {},
   "source": [
    "We see that there are no nan values."
   ]
  },
  {
   "cell_type": "markdown",
   "id": "a4885195",
   "metadata": {},
   "source": [
    "# 5 - Analysis"
   ]
  },
  {
   "cell_type": "markdown",
   "id": "ef1b5288",
   "metadata": {},
   "source": [
    "## 5.1 - **Price distribution and Price vs features**"
   ]
  },
  {
   "cell_type": "markdown",
   "id": "cd5a7f52",
   "metadata": {},
   "source": [
    "### 5.1.1 - Price Distribution"
   ]
  },
  {
   "cell_type": "code",
   "execution_count": 38,
   "id": "b2a9375c",
   "metadata": {},
   "outputs": [
    {
     "data": {
      "image/png": "[encoded data removed]",
      "text/plain": [
       "<Figure size 504x360 with 1 Axes>"
      ]
     },
     "metadata": {
      "needs_background": "light"
     },
     "output_type": "display_data"
    }
   ],
   "source": [
    "plt.figure(figsize=(7,5))\n",
    "plt.hist(listings_train.price,bins=50)\n",
    "plt.title('Price distribution',size=20)\n",
    "plt.show()"
   ]
  },
  {
   "cell_type": "markdown",
   "id": "38046caa",
   "metadata": {},
   "source": [
    "We see that the price distribution is skewed to the left.   \n",
    "There are also some points that seem to be outliers.  \n",
    "Makes sense to deal with this outliers in the train set in order to train the model without this outliers because  \n",
    "it could affect the model's performance."
   ]
  },
  {
   "cell_type": "code",
   "execution_count": 39,
   "id": "08c6ce3e",
   "metadata": {},
   "outputs": [
    {
     "name": "stdout",
     "output_type": "stream",
     "text": [
      "41 rows deleted\n"
     ]
    }
   ],
   "source": [
    "# i'll eliminate the rows that are below and above 3 times the std of price (not so many rows).\n",
    "#i'll only do this on the train set\n",
    "mean_price = listings_train.price.mean()\n",
    "std_price = listings_train.price.std()\n",
    "min_price = mean_price-3*std_price\n",
    "max_price = mean_price+3*std_price\n",
    "line_d =listings_train.shape[0] -listings_train[(listings_train.price>=min_price)&(listings_train.price<=max_price)].shape[0]\n",
    "print(f'{line_d} rows deleted')\n",
    "listings_train =  listings_train[(listings_train.price>=min_price)&(listings_train.price<=max_price)]"
   ]
  },
  {
   "cell_type": "code",
   "execution_count": 40,
   "id": "c940d6e5",
   "metadata": {},
   "outputs": [
    {
     "data": {
      "image/png": "[encoded data removed]",
      "text/plain": [
       "<Figure size 504x360 with 1 Axes>"
      ]
     },
     "metadata": {
      "needs_background": "light"
     },
     "output_type": "display_data"
    }
   ],
   "source": [
    "plt.figure(figsize=(7,5))\n",
    "plt.hist(listings_train.price,bins=50)\n",
    "plt.title('Price distribution',size=20)\n",
    "plt.show()"
   ]
  },
  {
   "cell_type": "markdown",
   "id": "7c4e06cd",
   "metadata": {},
   "source": [
    "### 5.1.2 - Price vs Features"
   ]
  },
  {
   "cell_type": "markdown",
   "id": "c8d3e758",
   "metadata": {},
   "source": [
    "#### Price vs Numerical Features  "
   ]
  },
  {
   "cell_type": "code",
   "execution_count": 41,
   "id": "010a7a91",
   "metadata": {},
   "outputs": [],
   "source": [
    "# change the order of the features to see price at the end\n",
    "rest = list(set(listings_train.columns) - set(['price']))\n",
    "features = rest + ['price']\n",
    "listings_train =  listings_train[features]\n",
    "listings_val =  listings_val[features]\n",
    "listings_test =  listings_test[features]\n"
   ]
  },
  {
   "cell_type": "code",
   "execution_count": 42,
   "id": "d3861fe5",
   "metadata": {},
   "outputs": [
    {
     "data": {
      "image/png": "[encoded data removed]",
      "text/plain": [
       "<Figure size 1080x720 with 2 Axes>"
      ]
     },
     "metadata": {
      "needs_background": "light"
     },
     "output_type": "display_data"
    }
   ],
   "source": [
    "#let's look at a heatmap with the numerical variables\n",
    "plt.figure(figsize = (15, 10))\n",
    "sns.heatmap(listings_train.corr(), annot = False);"
   ]
  },
  {
   "cell_type": "markdown",
   "id": "dddecc95",
   "metadata": {},
   "source": [
    "Even though there are a lot of features, we can see that there's a high correlation between [price] and  \n",
    "[bedrooms, bathrooms, beds, accomodates] and also a \"high\" negative correlation with reviews_per_month (this  \n",
    "could be due to the possibility that when there are lot's of reviews usually are bad reviews)"
   ]
  },
  {
   "cell_type": "markdown",
   "id": "7d26a53f",
   "metadata": {},
   "source": [
    "Looking at the data i found some features that we can clearly see that have a linear relation with the price.  \n",
    "All of the \"reviews_\" stands to reason that might be highly correlated.  \n",
    "It makes sense that the number of bedrooms, bathrooms, beds, guests included and accommodates are correlated to the price, since those  features clearly impact in the value of a property and/or use of it.    \n",
    "We also find that the host_response_rate is very correlated and that makes sense since people are willing to pay more  \n",
    "to have someone reliable as a host.\n"
   ]
  },
  {
   "cell_type": "code",
   "execution_count": null,
   "id": "c59fb4a8",
   "metadata": {},
   "outputs": [
    {
     "data": {
      "image/png": "[encoded data removed]",
      "text/plain": [
       "<Figure size 432x288 with 1 Axes>"
      ]
     },
     "metadata": {
      "needs_background": "light"
     },
     "output_type": "display_data"
    },
    {
     "data": {
      "image/png": "[encoded data removed]",
      "text/plain": [
       "<Figure size 432x288 with 1 Axes>"
      ]
     },
     "metadata": {
      "needs_background": "light"
     },
     "output_type": "display_data"
    },
    {
     "data": {
      "image/png": "[encoded data removed]",
      "text/plain": [
       "<Figure size 432x288 with 1 Axes>"
      ]
     },
     "metadata": {
      "needs_background": "light"
     },
     "output_type": "display_data"
    }
   ],
   "source": [
    "numerical_to_plot = ['review_scores_checkin', 'review_scores_rating', 'review_scores_communication',\n",
    " 'review_scores_cleanliness', 'host_response_rate', 'bedrooms', 'accommodates', 'guests_included',\n",
    " 'bathrooms', 'beds', 'review_scores_location', 'review_scores_value', 'review_scores_accuracy']\n",
    "\n",
    "\n",
    "for col in numerical_to_plot:\n",
    "    sns.scatterplot(data=listings_train, x=col, y=\"price\")\n",
    "    plt.title(f'Price vs {col}', size=20)\n",
    "    plt.xlabel(f'{col}',size=18)\n",
    "    plt.ylabel('Price',size=18)\n",
    "    plt.show()"
   ]
  },
  {
   "cell_type": "markdown",
   "id": "d36d1af4",
   "metadata": {},
   "source": [
    " "
   ]
  },
  {
   "cell_type": "markdown",
   "id": "f1fd437c",
   "metadata": {},
   "source": [
    "**Reviews vs price**  \n",
    "I found something interesting in the number of reviews vs price.  \n",
    "Let's see the plot:"
   ]
  },
  {
   "cell_type": "code",
   "execution_count": null,
   "id": "94a8a49a",
   "metadata": {},
   "outputs": [],
   "source": [
    "sns.scatterplot(data=listings_train, x='number_of_reviews', y=\"price\")\n",
    "plt.title(f'Price vs number_of_reviews', size=20)\n",
    "plt.xlabel('Number_of_reviews',size=18)\n",
    "plt.ylabel('Price',size=18)\n",
    "plt.show()"
   ]
  },
  {
   "cell_type": "markdown",
   "id": "9141e4ee",
   "metadata": {},
   "source": [
    "We see something interesting.  \n",
    "It seems that there is a slight increase in price as the number of reviews increase. But we also see that  \n",
    "with very low number of reviews, there's really high prices.  \n",
    "This could be explained by the fact that really expensive properties have less people renting it (maybe the same people tend  \n",
    "to rotate renting the property) and therefore there are fewer reviews.  \n",
    "But it could also be that good properties dont have so many complains so we only find high prices in properties with  \n",
    "not so many reviews.  \n",
    "Anyway, we see that a model could learn that if the number of reviews passes some threshold value, the price is   \n",
    "likely to be lower."
   ]
  },
  {
   "cell_type": "markdown",
   "id": "1831d981",
   "metadata": {},
   "source": [
    " "
   ]
  },
  {
   "cell_type": "markdown",
   "id": "662b1d02",
   "metadata": {},
   "source": [
    "**Latitude and Longitude**  \n",
    "Latitude and longitude on it's own is not so simple to use since the actual number doesnt mean anything (unless we are  \n",
    "using tree based models which could also work since it divides the data into subtrees until it gets to leafs).  \n",
    "What we want to see is if the model could learn from these features but with these features in an independent way it's  \n",
    "not likely to be useful since in one latitude point you could have many longitude points and that could cause a huge  \n",
    "price variation.  \n",
    "It's interesting to see if there's an specific area in the city, a polygone let's say, that has higher or lower value."
   ]
  },
  {
   "cell_type": "code",
   "execution_count": null,
   "id": "72360da6",
   "metadata": {},
   "outputs": [],
   "source": [
    "sns.scatterplot(data=listings_train[listings_train.price<=250], x=\"latitude\", y=\"longitude\", alpha=0.2)\n",
    "sns.scatterplot(data=listings_train[listings_train.price>250], x=\"latitude\", y=\"longitude\", hue=\"price\",sizes=(10, 200), size='price',alpha=1)\n",
    "\n",
    "plt.legend(loc='upper right',title='price')\n",
    "plt.title('Longitude vs Latitude with price as hue')\n",
    "plt.show()\n",
    "\n"
   ]
  },
  {
   "cell_type": "markdown",
   "id": "d5961c47",
   "metadata": {},
   "source": [
    "Clearly there seems to be like a \"downtown\" where the properties with higher price tend to be.  \n",
    "In order to determine this specificly we could use something more sophisticated (like a clustering algorithm)  \n",
    "but for the sake of this we'll simplify this using the plot so later on we'll create a new feature  \n",
    "**is_downtown** that is 1 if it's in the area and 0 if not.  \n",
    "Let's define the limits:  \n",
    "  - latitude: 47.60 to 47.67  \n",
    "  - longitude: -122.4 to -122.275  \n",
    "  \n",
    "Also we could see that the \"center\" of our supposed \"downtown\" has coordanates around latitude = 47.64 and longitude -122.3375.  I'll use that later one to create new feature called **distance_to_center**. It's true that from the center (being the center a place that's more expensive) you could move in 2 opposite ways and one is an expensive neighbourhood and the other direction is \n",
    "a cheap one, but still the distance to downtown life could add value to the property inspite it's intrinsic qualities."
   ]
  },
  {
   "cell_type": "markdown",
   "id": "7ec525c6",
   "metadata": {},
   "source": [
    "#### Price vs Categorical"
   ]
  },
  {
   "cell_type": "markdown",
   "id": "28e975c5",
   "metadata": {},
   "source": [
    "Here we can see some of the categorical variables that have a clear difference in their categories with respect price."
   ]
  },
  {
   "cell_type": "code",
   "execution_count": null,
   "id": "f0915dd9",
   "metadata": {},
   "outputs": [],
   "source": [
    "features_to_plot = ['cancellation_policy','bed_type','room_type','property_type']\n",
    "\n",
    "fig, axs = plt.subplots(2, 2,figsize=(10,10))\n",
    "\n",
    "counter = 0\n",
    "for i in range(2):\n",
    "    for j in range(2):\n",
    "        sns.boxplot(ax =axs[i,j] ,x=features_to_plot[counter], y=\"price\", data=listings_train)\n",
    "        axs[i,j].set_title(f'Price vs {features_to_plot[counter]}')\n",
    "        plt.sca(axs[i, j])\n",
    "\n",
    "        plt.xticks(rotation=45)\n",
    "        counter+=1\n",
    "\n",
    "        \n",
    "    \n",
    "plt.show()\n"
   ]
  },
  {
   "cell_type": "markdown",
   "id": "517457a5",
   "metadata": {},
   "source": [
    "We see that the distribution of price in properties with a stricter cancellation policy has higher values  than the rest.  \n",
    "We also see some things that were predictable, like the fact that an entire home/apt is more expensive than a room or that if  \n",
    "the bed is a real bed it's more expensive than a Futon. We also have that a Loft is more expensive than other  \n",
    "property types (we need to diminish the quantity of categories in this feature, but we'll deal with that later on)."
   ]
  },
  {
   "cell_type": "markdown",
   "id": "078a22a8",
   "metadata": {},
   "source": [
    "## 5.2 - Feature distribution"
   ]
  },
  {
   "cell_type": "markdown",
   "id": "bb213b18",
   "metadata": {},
   "source": [
    "### 5.2.1 - Numerical"
   ]
  },
  {
   "cell_type": "markdown",
   "id": "c7e92975",
   "metadata": {},
   "source": [
    "Didn't find something peculiar besides what we already mentioned before."
   ]
  },
  {
   "cell_type": "markdown",
   "id": "c744b334",
   "metadata": {},
   "source": [
    "### 5.2.2 - Categorical  \n",
    "Some small things to comment:"
   ]
  },
  {
   "cell_type": "code",
   "execution_count": null,
   "id": "7a741b69",
   "metadata": {},
   "outputs": [],
   "source": [
    "#property type\n",
    "\n",
    "sns.displot(data = listings_train, x=\"property_type\")\n",
    "plt.xticks(rotation=45)\n",
    "plt.title('Distribution of property_type ')\n",
    "plt.show()"
   ]
  },
  {
   "cell_type": "markdown",
   "id": "5aacf306",
   "metadata": {},
   "source": [
    "We see that besides 'apartment' and 'house', all of the other rest of properties are not so frequent. Even though some of  \n",
    "these categories had different price distributions as we saw above, it makes sense to diminish the ammount of categories.  \n",
    "We'll deal with this later on."
   ]
  },
  {
   "cell_type": "code",
   "execution_count": null,
   "id": "b01a40c6",
   "metadata": {},
   "outputs": [],
   "source": [
    "sns.displot(data = listings_train, x=\"bed_type\")\n",
    "plt.xticks(rotation=45)\n",
    "plt.title('Distribution of bed_type ')\n",
    "\n",
    "plt.show()"
   ]
  },
  {
   "cell_type": "markdown",
   "id": "f3d56424",
   "metadata": {},
   "source": [
    "Almost all the values are Real Bed. It makes sense to change this feature to 1 if it is Real Bed or 0 if not."
   ]
  },
  {
   "cell_type": "markdown",
   "id": "4686c85f",
   "metadata": {},
   "source": [
    "## 5.3 Price information in Calendar dataframe"
   ]
  },
  {
   "cell_type": "markdown",
   "id": "57c91d76",
   "metadata": {},
   "source": [
    "In the listings dataset we have only the price for 1 date, but in the calendar dataset we have more dates with their respective prices.  "
   ]
  },
  {
   "cell_type": "markdown",
   "id": "50729e54",
   "metadata": {},
   "source": [
    "### 5.3.1 - **Percentage of occupancy**  \n",
    "It would be interesting to see if there's a clear relationship between the price of a property and the % of days it was booked  in 1 year as seen in the calendar df."
   ]
  },
  {
   "cell_type": "code",
   "execution_count": null,
   "id": "63abec45",
   "metadata": {},
   "outputs": [],
   "source": [
    "\n",
    "right_df =calendar.available.groupby(calendar['listing_id']).apply(lambda x: x.sum()/x.count()).reset_index(level=0)\n",
    "right_df.columns=['id','occupancy']\n",
    "right_df.head()\n",
    "\n",
    "listings_train = listings_train.merge(right_df, on='id', how='left')\n",
    "listings_val = listings_val.merge(right_df, on='id', how='left')\n",
    "listings_test = listings_test.merge(right_df, on='id', how='left')\n",
    "features = features +['occupancy']"
   ]
  },
  {
   "cell_type": "code",
   "execution_count": null,
   "id": "7472930d",
   "metadata": {},
   "outputs": [],
   "source": [
    "# Fill Na in new feature with mean\n",
    "for df in [listings_train,listings_val,listings_test]:\n",
    "    df.fillna(listings_train.occupancy.mean(),inplace=True)\n"
   ]
  },
  {
   "cell_type": "code",
   "execution_count": null,
   "id": "31f0b5d1",
   "metadata": {},
   "outputs": [],
   "source": [
    "sns.scatterplot(data=listings_train, x='occupancy', y=\"price\")\n",
    "plt.title(f'Price vs occupancy', size=20)\n",
    "plt.xlabel('occupancy',size=18)\n",
    "plt.ylabel('Price',size=18)\n",
    "plt.show()"
   ]
  },
  {
   "cell_type": "markdown",
   "id": "b2d2a791",
   "metadata": {},
   "source": [
    "I don't see a linear relationship, but i'll keep this feature because there could be a non linear impact on the price."
   ]
  },
  {
   "cell_type": "markdown",
   "id": "9ae30d97",
   "metadata": {},
   "source": [
    "### 5.3.2 -  Price change though the year"
   ]
  },
  {
   "cell_type": "markdown",
   "id": "1e8fc556",
   "metadata": {},
   "source": [
    "It would be interesting to see if in average there is seasonality in weekends and in some period during the year."
   ]
  },
  {
   "cell_type": "code",
   "execution_count": null,
   "id": "00185f03",
   "metadata": {},
   "outputs": [],
   "source": [
    "avg_price_per_date = pd.DataFrame(calendar.groupby(calendar.date).price.mean().values,index=calendar.groupby(calendar.date).price.mean().index, columns = ['avg_price_per_date'])\n",
    "plt.plot(avg_price_per_date)\n",
    "\n",
    "plt.show()"
   ]
  },
  {
   "cell_type": "markdown",
   "id": "6cf6fe6a",
   "metadata": {},
   "source": [
    "It seems clear that in average there's an increase during summer and maybe during new years.  \n",
    "It's also seems to be clear that in every week there's an increse and then it goes down. This must be the weekend effect.  \n",
    "There could also be a small trend.  \n",
    "In order to improve our model we could add to the model the date of the listing and then add new features like  \n",
    "- weekend or not\n",
    "- summer or not  \n",
    "  \n",
    "and with this information we could add rows (same rows that we have but with a price modified by the listing price avg during summer or the % it increases during weekends. This would be different by each property since according to the particular   \n",
    "attributes of each property the effect of these times would be different)."
   ]
  },
  {
   "cell_type": "markdown",
   "id": "39cd93a2",
   "metadata": {},
   "source": [
    "# 6 - Data Creation"
   ]
  },
  {
   "cell_type": "markdown",
   "id": "4402737c",
   "metadata": {},
   "source": [
    "As we said at the end of the previous section, we have valuable information in order to turn our model into a more complex  \n",
    "model with the ability to distinguish between periods of time. In order to do this we have to create some data."
   ]
  },
  {
   "cell_type": "code",
   "execution_count": null,
   "id": "46337f17",
   "metadata": {},
   "outputs": [],
   "source": [
    "#calendar dataframe\n",
    "#we'll add some features to the calendar dataframe\n",
    "calendar['day_of_week'] = pd.DatetimeIndex(calendar.date).dayofweek\n",
    "calendar['month'] = pd.DatetimeIndex(calendar.date).month\n",
    "calendar['week'] = pd.DatetimeIndex(calendar.date).week\n",
    "calendar['weekend'] = calendar['day_of_week'].apply(lambda x: 1 if x>=5 else 0) "
   ]
  },
  {
   "cell_type": "markdown",
   "id": "73c65047",
   "metadata": {},
   "source": [
    "With this new features we can now plot the average price per week.   \n",
    "Let's see that."
   ]
  },
  {
   "cell_type": "code",
   "execution_count": null,
   "id": "21914730",
   "metadata": {},
   "outputs": [],
   "source": [
    "avg_price_per_week = pd.DataFrame(calendar.groupby(calendar.week).price.mean().values,index=calendar.groupby(calendar.week).price.mean().index, columns = ['avg_price_per_week'])\n",
    "plt.plot(avg_price_per_week,c='g')\n",
    "wi = 23\n",
    "wf = 34\n",
    "plt.title('Weekly average price')\n",
    "plt.xlabel('Weeks')\n",
    "plt.ylabel('Price')\n",
    "plt.axvline(x=wi,color='r',label=f'week {wi}')\n",
    "plt.axvline(x=wf,color='b',label=f'week {wf}')\n",
    "plt.legend()\n",
    "\n",
    "plt.show()"
   ]
  },
  {
   "cell_type": "markdown",
   "id": "78c8d256",
   "metadata": {},
   "source": [
    "We see with this that around week 23 until week 34 the price is at it's peak. For sure it's not precise since there's   \n",
    "a slope, but we can consider this period of time as something of an estimate of the summer rentals.  \n",
    "It really is around 2 weeks before the beggining of summer and 2 weeks before the end of it. That could make sense since people  could get there early and leave a little before the end of summer to their homes to prepare for the new \"year\" (or school, etc).  \n",
    "We'll create a feature that says if it is within that timeframe."
   ]
  },
  {
   "cell_type": "markdown",
   "id": "9c95adb4",
   "metadata": {},
   "source": [
    " "
   ]
  },
  {
   "cell_type": "code",
   "execution_count": null,
   "id": "2c513b15",
   "metadata": {},
   "outputs": [],
   "source": [
    "calendar['summer'] = calendar['week'].apply(lambda x: 1 if ((x>=23) & (x<=34)) else 0) "
   ]
  },
  {
   "cell_type": "code",
   "execution_count": null,
   "id": "f14d8a83",
   "metadata": {},
   "outputs": [],
   "source": [
    "calendar.head()"
   ]
  },
  {
   "cell_type": "markdown",
   "id": "cbacf16f",
   "metadata": {},
   "source": [
    "We see that in the listings dataframes the value for last_scraped is the same for all, so that means that  \n",
    "the price that we are getting is for that specific date."
   ]
  },
  {
   "cell_type": "code",
   "execution_count": null,
   "id": "e9b46bd2",
   "metadata": {},
   "outputs": [],
   "source": [
    "listings_train.last_scraped.unique()\n"
   ]
  },
  {
   "cell_type": "code",
   "execution_count": null,
   "id": "422d58c8",
   "metadata": {},
   "outputs": [],
   "source": [
    "#we'll create features of 'summer', 'weekend'\n",
    "for df in [listings_train,listings_val, listings_test]:\n",
    "    df['weekend'] = 0\n",
    "    df['summer'] = 0"
   ]
  },
  {
   "cell_type": "markdown",
   "id": "d17731c8",
   "metadata": {},
   "source": [
    "I want to add new data in order to enable my model to diffirenciate by periods of time, weather it's summer or not, weather it's weekend or not.  \n",
    "In order to do that i want for each listing in calendar dataframe to get the avg price in summer and not summer, and also if  \n",
    "it's weekend or not.  \n",
    "Since we inputed values when the listing wasnt available, there would be data that's not real, meaning that the data we have  \n",
    "is that it is all the time the same price.  \n",
    "Therefore i have to filter that data and only add data that did have values in each period of time."
   ]
  },
  {
   "cell_type": "code",
   "execution_count": null,
   "id": "2a14ad98",
   "metadata": {},
   "outputs": [],
   "source": [
    "#create dataframe with the price to create new data\n",
    "df_avg_per_id_period = pd.DataFrame(calendar.groupby(['listing_id','summer','weekend']).price.mean()).reset_index(level=[0,1,2])\n",
    "\n",
    "\n",
    "#create dataframe to have the average price in all the combinations (summer=[0,1], weekend =[0,1]) to check if the data is real\n",
    "# meaning that it's highly unlikely that the price would be the same in every mommnent so a fast way to filter  \n",
    "#data that we imputed because it was unavailable it is by filtering listings that have same price than the average\n",
    "check_real_data = df_avg_per_id_period.groupby(df_avg_per_id_period.listing_id).price.mean().reset_index(level=0)\n",
    "check_real_data.columns = ['listing_id','avg_price']\n",
    "\n",
    "# merge the data to have a new column in order to see the rows that represent real data and filtering that\n",
    "df_avg_per_id_period = df_avg_per_id_period.merge(check_real_data,on='listing_id',how='left')\n",
    "df_avg_per_id_period = df_avg_per_id_period[df_avg_per_id_period.price!=df_avg_per_id_period.avg_price]\n"
   ]
  },
  {
   "cell_type": "code",
   "execution_count": null,
   "id": "c05ed877",
   "metadata": {},
   "outputs": [],
   "source": [
    "# helper functions to retrive new data to add\n",
    "def get_data_to_add(listing,avg_per_period,summer, weekend):\n",
    "    '''\n",
    "    Function that receives listing dataframe and with the information in the avg_per_period data frame, converts the  \n",
    "    data in listing to that of the period of summer and weekend that could be 1 or 0 each.  \n",
    "    Then returns the new data to add to the dataset\n",
    "    '''\n",
    "    \n",
    "    features = list(listing.columns)\n",
    "    my_listing = listing.copy()\n",
    "    my_listing.drop(columns=['price'],inplace=True)\n",
    "    my_listing.summer = summer\n",
    "    my_listing.weekend = weekend\n",
    "\n",
    "    add_listing = avg_per_period[(avg_per_period.summer==summer)&(avg_per_period.weekend==weekend)]\n",
    "    add_listing.drop(columns=['summer','weekend','avg_price'],inplace=True)\n",
    "\n",
    "    my_listing =  my_listing.merge(add_listing,left_on='id', right_on='listing_id', how='left')\n",
    "    my_listing = my_listing[~my_listing.price.isna()]\n",
    "    my_listing = my_listing[features]\n",
    "    return my_listing\n",
    "\n",
    "def get_data_all_period(listing, avg_per_period):\n",
    "    '''\n",
    "    Function that for one listing dataframe returns the listing, having added information from same listings in\n",
    "    different periods\n",
    "    '''\n",
    "    my_listing= listing.copy()\n",
    "    for pair in [[1,1],[1,0],[0,1]]:\n",
    "        my_listing = pd.concat([my_listing,get_data_to_add(listing,avg_per_period,pair[0],pair[1])],ignore_index=True)\n",
    "    \n",
    "    return my_listing\n"
   ]
  },
  {
   "cell_type": "code",
   "execution_count": null,
   "id": "a2e758d8",
   "metadata": {},
   "outputs": [],
   "source": [
    "listings_train = get_data_all_period(listings_train,df_avg_per_id_period)\n",
    "listings_val = get_data_all_period(listings_val,df_avg_per_id_period)\n",
    "listings_test = get_data_all_period(listings_test,df_avg_per_id_period)"
   ]
  },
  {
   "cell_type": "markdown",
   "id": "698d70c7",
   "metadata": {},
   "source": [
    "# "
   ]
  },
  {
   "cell_type": "markdown",
   "id": "8cb69cea",
   "metadata": {},
   "source": [
    "# 7 - Feature Eng.\n"
   ]
  },
  {
   "cell_type": "markdown",
   "id": "981dd4f5",
   "metadata": {},
   "source": [
    "## 7.1 - Number of confirmations"
   ]
  },
  {
   "cell_type": "markdown",
   "id": "1c0762a3",
   "metadata": {},
   "source": [
    "It could be that the more ways of confirmation a host has, the higher trust people have, and therefore they could be willing to pay more for that.  \n",
    "I'll create a feature called **num_conf** that is the number of different ways of confirmation.   \n",
    "Later on  i'll drop the feature host_verifications"
   ]
  },
  {
   "cell_type": "code",
   "execution_count": null,
   "id": "270d657b",
   "metadata": {},
   "outputs": [],
   "source": [
    "listings_train.shape,listings_val.shape, listings_test.shape"
   ]
  },
  {
   "cell_type": "code",
   "execution_count": null,
   "id": "cd788e99",
   "metadata": {},
   "outputs": [],
   "source": [
    "listings_train.head(2)"
   ]
  },
  {
   "cell_type": "code",
   "execution_count": null,
   "id": "dda65faa",
   "metadata": {},
   "outputs": [],
   "source": [
    "listings_train.loc[:,'num_conf'] = listings_train.host_verifications.apply(lambda s: s.count(',')+1)\n",
    "listings_val.loc[:,'num_conf'] = listings_val.host_verifications.apply(lambda s: s.count(',')+1)\n",
    "listings_test.loc[:,'num_conf'] = listings_test.host_verifications.apply(lambda s: s.count(',')+1)\n"
   ]
  },
  {
   "cell_type": "markdown",
   "id": "e4cf3157",
   "metadata": {},
   "source": [
    "## 7.2 - Years of host being active"
   ]
  },
  {
   "cell_type": "markdown",
   "id": "4de6fb20",
   "metadata": {},
   "source": [
    "How long a host has been host could also increase the trust, and as explained before, could have inpact in price.  \n",
    "\n",
    "I'll create feature **'years_host'** that will represent the amount of years the host has been active.  \n",
    "Ii'll use the date of last scraped as the date to compare."
   ]
  },
  {
   "cell_type": "code",
   "execution_count": null,
   "id": "0c0b0afd",
   "metadata": {},
   "outputs": [],
   "source": [
    "#since i'm adding new data, summer or not, weekend or not, then i cant have NOW as it is in the commented code.\n",
    "#i'll leave it in case i eliminate the added data\n",
    "NOW =2016\n",
    "listings_train.loc[:,'years_host'] = listings_train.host_since.apply(lambda x:(NOW - int(x[:4])))\n",
    "listings_val.loc[:,'years_host'] = listings_val.host_since.apply(lambda x:(NOW - int(x[:4])))\n",
    "listings_test.loc[:,'years_host'] = listings_test.host_since.apply(lambda x:(NOW - int(x[:4])))\n",
    "\n",
    "\n",
    "\n",
    "\n",
    "# NOW =pd.Timestamp('2016-01-04')\n",
    "# seconds_in_year = 3600*34*365\n",
    "# listings_train.loc[:,'years_host'] = listings_train.host_since.apply(lambda x:(NOW - x).total_seconds()/(seconds_in_year))\n",
    "# listings_val.loc[:,'years_host'] = listings_val.host_since.apply(lambda x:(NOW - x).total_seconds()/(seconds_in_year))\n",
    "# listings_test.loc[:,'years_host'] = listings_test.host_since.apply(lambda x:(NOW - x).total_seconds()/(seconds_in_year))"
   ]
  },
  {
   "cell_type": "markdown",
   "id": "8e316e4f",
   "metadata": {},
   "source": [
    "# PUT AFTERWARDS"
   ]
  },
  {
   "cell_type": "markdown",
   "id": "5d462f21",
   "metadata": {},
   "source": [
    "Bed type really has 1 value with a lot of data and not so much with different kinds of options (couch, futon...etc).  \n",
    "I'll just change it to 1 or 0 depending if it is \"Real bed\" or not"
   ]
  },
  {
   "cell_type": "code",
   "execution_count": null,
   "id": "43e1f6a0",
   "metadata": {},
   "outputs": [],
   "source": [
    "listings_train.loc[:,'bed_type'] = listings_train.bed_type.apply(lambda s: 1 if s=='Real Bed' else 0)\n",
    "listings_val.loc[:,'bed_type'] = listings_val.bed_type.apply(lambda s: 1 if s=='Real Bed' else 0)\n",
    "listings_test.loc[:,'bed_type'] = listings_test.bed_type.apply(lambda s: 1 if s=='Real Bed' else 0)"
   ]
  },
  {
   "cell_type": "markdown",
   "id": "1cbdda93",
   "metadata": {},
   "source": [
    "## 7.3 - Same Neighbourhood"
   ]
  },
  {
   "cell_type": "markdown",
   "id": "0e81ed72",
   "metadata": {},
   "source": [
    "I want to use the features 'host_neighbourhood','neighbourhood' to create a new feature that is 1 if they are in the same  \n",
    "neighbourhood or not. This makes sense since that adds more value because the host is more available to do things."
   ]
  },
  {
   "cell_type": "code",
   "execution_count": null,
   "id": "04d70f68",
   "metadata": {},
   "outputs": [],
   "source": [
    "listings_train['same_neighbourhood'] =(listings_train.host_neighbourhood ==listings_train.neighbourhood)\n",
    "listings_train.loc[:,'same_neighbourhood'] = listings_train.same_neighbourhood.apply(lambda x: 1 if x==True else 0)\n",
    "listings_val['same_neighbourhood'] =(listings_val.host_neighbourhood ==listings_val.neighbourhood)\n",
    "listings_val.loc[:,'same_neighbourhood'] = listings_val.same_neighbourhood.apply(lambda x: 1 if x==True else 0)\n",
    "listings_test['same_neighbourhood'] =(listings_test.host_neighbourhood ==listings_test.neighbourhood)\n",
    "listings_test.loc[:,'same_neighbourhood'] = listings_test.same_neighbourhood.apply(lambda x: 1 if x==True else 0)"
   ]
  },
  {
   "cell_type": "markdown",
   "id": "e3c6730c",
   "metadata": {},
   "source": [
    "## 7.4 - Binary features from Amenities"
   ]
  },
  {
   "cell_type": "markdown",
   "id": "0958cf6e",
   "metadata": {},
   "source": [
    "**Amenities**  \n",
    "This feature could include many useful information. For sure with this we could create more features.  \n",
    "First, let us explore a bit"
   ]
  },
  {
   "cell_type": "code",
   "execution_count": null,
   "id": "01d47588",
   "metadata": {},
   "outputs": [],
   "source": [
    "listings_train.amenities[0]"
   ]
  },
  {
   "cell_type": "code",
   "execution_count": null,
   "id": "7c388454",
   "metadata": {},
   "outputs": [],
   "source": [
    "listings_train.amenities[2]"
   ]
  },
  {
   "cell_type": "markdown",
   "id": "cfb763ea",
   "metadata": {},
   "source": [
    "Just looking at 2 different values we could see that there are many details that in order to search in a proper way it   \n",
    "could get a little more complicated. For example in the first example we have TV,\"Cable TV\", meaning that in the item tv the   \n",
    "type of tv is cable. But in the second example we only have TV within the cable tv.  \n",
    "In order to make it more simple, for example, we could create if it has tv or not instead of doing a more complicated search looking for the exact type of tv it has.  The same with internet.    \n",
    "  \n",
    " Let's see all of the different amenities in our train set"
   ]
  },
  {
   "cell_type": "code",
   "execution_count": null,
   "id": "6b0bcfd1",
   "metadata": {},
   "outputs": [],
   "source": [
    "my_set = set()\n",
    "for index in range(listings_train.shape[0]):\n",
    "    s = listings_train.amenities[index]\n",
    "    s = s.replace('\"','').replace('{','').replace('}','')\n",
    "    my_set = my_set.union(set(s.split(',')))\n",
    "\n",
    "my_set    "
   ]
  },
  {
   "cell_type": "markdown",
   "id": "2dd31e36",
   "metadata": {},
   "source": [
    "We'll create many binary features"
   ]
  },
  {
   "cell_type": "code",
   "execution_count": null,
   "id": "87600842",
   "metadata": {},
   "outputs": [],
   "source": [
    "for df in [listings_train,listings_val, listings_test]:\n",
    "    df.loc[:,'has_ac'] = df.amenities.apply(lambda s: 1 if 'conditioning' in s.lower() else 0)\n",
    "    df.loc[:,'has_internet'] = df.amenities.apply(lambda s: 1 if 'internet' in s.lower() else 0)\n",
    "    df.loc[:,'has_pool'] = df.amenities.apply(lambda s: 1 if 'pool' in s.lower() else 0)\n",
    "    df.loc[:,'has_tv'] = df.amenities.apply(lambda s: 1 if 'tv' in s.lower() else 0)\n",
    "    df.loc[:,'smoking_allowed'] = df.amenities.apply(lambda s: 1 if 'smoking' in s.lower() else 0)\n",
    "    df.loc[:,'washer'] = df.amenities.apply(lambda s: 1 if 'washer' in s.lower() else 0)\n",
    "    df.loc[:,'smoke_detector'] = df.amenities.apply(lambda s: 1 if 'detector' in s.lower() else 0)\n",
    "    df.loc[:,'pet_allowed'] = df.amenities.apply(lambda s: 1 if 'pet' in s.lower() else 0)\n",
    "    df.loc[:,'kitchen'] = df.amenities.apply(lambda s: 1 if 'kitchen' in s.lower() else 0)\n",
    "    df.loc[:,'iron'] = df.amenities.apply(lambda s: 1 if 'iron' in s.lower() else 0)\n",
    "    df.loc[:,'fireplace'] = df.amenities.apply(lambda s: 1 if 'fireplace' in s.lower() else 0)\n",
    "    df.loc[:,'hot_tub'] = df.amenities.apply(lambda s: 1 if 'tub' in s.lower() else 0)\n",
    "    df.loc[:,'heating'] = df.amenities.apply(lambda s: 1 if 'heating' in s.lower() else 0)\n",
    "    df.loc[:,'gym'] = df.amenities.apply(lambda s: 1 if 'gym' in s.lower() else 0)\n",
    "    df.loc[:,'parking'] = df.amenities.apply(lambda s: 1 if 'parking' in s.lower() else 0)\n",
    "    df.loc[:,'elevator'] = df.amenities.apply(lambda s: 1 if 'elevator' in s.lower() else 0)\n",
    "    df.loc[:,'doorman'] = df.amenities.apply(lambda s: 1 if 'doorman' in s.lower() else 0)\n",
    "    df.loc[:,'breakfast'] = df.amenities.apply(lambda s: 1 if 'breakfast' in s.lower() else 0)    "
   ]
  },
  {
   "cell_type": "code",
   "execution_count": null,
   "id": "653e383f",
   "metadata": {},
   "outputs": [],
   "source": [
    "#let's look at a heatmap with the numerical variables\n",
    "amenities_list = ['has_ac','has_internet','has_pool','has_tv','smoking_allowed','washer','smoke_detector',\n",
    "                 'pet_allowed','kitchen','iron','fireplace','hot_tub','heating','gym','parking',\n",
    "                 'elevator','doorman','breakfast']\n"
   ]
  },
  {
   "cell_type": "markdown",
   "id": "558b9108",
   "metadata": {},
   "source": [
    "## 7.5 - Listing within downtown or not"
   ]
  },
  {
   "cell_type": "markdown",
   "id": "d1a852a4",
   "metadata": {},
   "source": [
    "**is_downtown**  \n",
    "As explained in the previous section, i'll create a feature called is_downtown.   \n",
    "It's values will be 1 if it's in the area and 0 if not."
   ]
  },
  {
   "cell_type": "code",
   "execution_count": null,
   "id": "c4deaa04",
   "metadata": {},
   "outputs": [],
   "source": [
    "min_lat = 47.60\n",
    "max_lat = 47.66\n",
    "min_lon = -122.40\n",
    "max_lon = -122.275\n",
    "\n",
    "for df in [listings_train,listings_val, listings_test]:\n",
    "    df['is_downtown'] =((df.latitude >= min_lat) & (df.latitude <= max_lat)) &((df.longitude >= min_lon) & (df.longitude <= max_lon))\n",
    "    df.loc[:,'is_downtown'] = df.is_downtown.apply(lambda s: 1 if s==True else 0)\n",
    "\n"
   ]
  },
  {
   "cell_type": "markdown",
   "id": "0d7345bf",
   "metadata": {},
   "source": [
    "## 7.6 - Distance of listing to downtown"
   ]
  },
  {
   "cell_type": "markdown",
   "id": "ad076be1",
   "metadata": {},
   "source": [
    "I'll also create the feature **distance_to_downtown**."
   ]
  },
  {
   "cell_type": "code",
   "execution_count": null,
   "id": "5b2d50ce",
   "metadata": {},
   "outputs": [],
   "source": [
    "CENTER_LAT = 47.64\n",
    "CENTER_LON = -122.3375\n",
    "listings_train['distance_to_downtown'] =((listings_train.latitude - CENTER_LAT) ** 2 + (listings_train.longitude - CENTER_LON) ** 2)**(1/2)\n",
    "listings_val['distance_to_downtown'] =((listings_val.latitude - CENTER_LAT) ** 2 + (listings_val.longitude - CENTER_LON) ** 2)**(1/2)\n",
    "listings_test['distance_to_downtown'] =((listings_test.latitude - CENTER_LAT) ** 2 + (listings_test.longitude - CENTER_LON) ** 2)**(1/2)\n"
   ]
  },
  {
   "cell_type": "markdown",
   "id": "6c4ba372",
   "metadata": {},
   "source": [
    "## 7.7 - Adding from YELP API"
   ]
  },
  {
   "cell_type": "markdown",
   "id": "13d0c27b",
   "metadata": {},
   "source": [
    "I'm going to use the YELP API to add information about restaurants.   \n",
    "With this information i'll create a new feature. For each listing there would be a feature that gives the average rating  \n",
    "of the restaurants in the zipcode of the property."
   ]
  },
  {
   "cell_type": "markdown",
   "id": "d0c95d5e",
   "metadata": {},
   "source": [
    "### 7.7.1 - Creating new auxiliar feature"
   ]
  },
  {
   "cell_type": "code",
   "execution_count": null,
   "id": "ec94f077",
   "metadata": {},
   "outputs": [],
   "source": [
    "# i'll add a new feature that's really a copy of zipcode to use in the creation of features with Yelp API\n",
    "listings_train['zipcode2'] = listings_train.zipcode\n",
    "listings_val['zipcode2'] = listings_val.zipcode\n",
    "listings_test['zipcode2'] = listings_test.zipcode\n"
   ]
  },
  {
   "cell_type": "markdown",
   "id": "1c54f532",
   "metadata": {},
   "source": [
    "### 7.7.1 - Getting data from API"
   ]
  },
  {
   "cell_type": "code",
   "execution_count": null,
   "id": "5b8f8c39",
   "metadata": {},
   "outputs": [],
   "source": [
    "import requests\n",
    "import json\n",
    "\n",
    "\n",
    "api_key='B6FdYh1q4CLceKS84XrCQMxindMSIThCTT1jWphGoMbMrJAneCxV4D-jrmbxvdwBPrXhbUMHVWcdfC0YtiwaDb1pMEnJn8I4JUmF7w7i9NitlSu0FM4i1OUJRyO7YXYx'\n",
    "headers = {'Authorization': f'Bearer {api_key}'}\n",
    "url='https://api.yelp.com/v3/businesses/search'\n",
    "names = []\n",
    "ratings = []\n",
    "latitudes = []\n",
    "longitudes = []\n",
    "prices = []\n",
    "zip_codes = []\n",
    "\n",
    "#"
   ]
  },
  {
   "cell_type": "code",
   "execution_count": null,
   "id": "47b93822",
   "metadata": {},
   "outputs": [],
   "source": [
    "# since i saved the data with this already changed i commented this code snippet\n",
    "\n",
    "offset = 0\n",
    "while offset <= 30000:\n",
    "    params={'term':'Restaurants', 'location': 'seattle', 'limit': 50, 'radious':10000,'offset': offset}\n",
    "    response = requests.get(url, params=params, headers=headers)\n",
    "    data = response.json()\n",
    "    n = 0\n",
    "    while n < 50:\n",
    "#         print(n)\n",
    "        try:\n",
    "            restaurant = data['businesses'][n]\n",
    "            \n",
    "            #first create variable so in case one element is not there it will go to except\n",
    "            \n",
    "            price = restaurant['price']\n",
    "            zipcode = restaurant['location']['zip_code']\n",
    "            name = restaurant['name']\n",
    "            rating = restaurant['rating']\n",
    "            lat = restaurant['coordinates']['latitude']\n",
    "            lon = restaurant['coordinates']['longitude']\n",
    "            \n",
    "            prices.append(price)\n",
    "            zip_codes.append(zipcode)\n",
    "            names.append(name)\n",
    "            ratings.append(rating)\n",
    "            latitudes.append(lat)\n",
    "            longitudes.append(lon)\n",
    "            n+=1\n",
    "        except:\n",
    "            ## some of the data gathered are not going to have the necessary information\n",
    "            ## so we skip those \n",
    "            n+=1\n",
    "    offset += 50"
   ]
  },
  {
   "cell_type": "code",
   "execution_count": null,
   "id": "1fe72120",
   "metadata": {},
   "outputs": [],
   "source": [
    "yelpdata = pd.DataFrame({'name':names,'rating':ratings,'zipcode':zip_codes,'prices':prices,'lat':latitudes,\n",
    "                         'lon':longitudes})\n",
    "# we'll drop duplicates just in case\n",
    "yelpdata = yelpdata.drop_duplicates(ignore_index=True)"
   ]
  },
  {
   "cell_type": "code",
   "execution_count": null,
   "id": "320603e7",
   "metadata": {},
   "outputs": [],
   "source": [
    "# we'll change the price from $,$$.. to 1,2..\n",
    "# since i saved the data with this already changed i commented this code snippet\n",
    "\n",
    "yelpdata.loc[:,'prices'] = yelpdata.prices.apply(lambda s:len(s))\n",
    "#"
   ]
  },
  {
   "cell_type": "code",
   "execution_count": null,
   "id": "0718d1fb",
   "metadata": {},
   "outputs": [],
   "source": [
    "yelpdata.shape"
   ]
  },
  {
   "cell_type": "markdown",
   "id": "422bb023",
   "metadata": {},
   "source": [
    "We got data from 786 restaurants in seattle."
   ]
  },
  {
   "cell_type": "code",
   "execution_count": null,
   "id": "1a8d6ec1",
   "metadata": {},
   "outputs": [],
   "source": [
    "yelpdata.head()"
   ]
  },
  {
   "cell_type": "markdown",
   "id": "96512753",
   "metadata": {},
   "source": [
    "### 7.7.2 - Creation of rating and prices features."
   ]
  },
  {
   "cell_type": "code",
   "execution_count": null,
   "id": "5be6849b",
   "metadata": {},
   "outputs": [],
   "source": [
    "# the easiest way to use this data is by grouping by zipcode and get the average rating and prices\n",
    "rating_df = yelpdata.rating.groupby(yelpdata['zipcode']).mean().reset_index(level=0)\n",
    "price_df = yelpdata.prices.groupby(yelpdata['zipcode']).mean().reset_index(level=0)\n",
    "\n",
    "rating_price_df = rating_df.merge(price_df, on='zipcode')"
   ]
  },
  {
   "cell_type": "code",
   "execution_count": null,
   "id": "9cf79574",
   "metadata": {},
   "outputs": [],
   "source": [
    "rating_price_df.columns = ['code','avg_rating_per_zipcode','avg_prices_per_zipcode']"
   ]
  },
  {
   "cell_type": "code",
   "execution_count": null,
   "id": "1978d08c",
   "metadata": {},
   "outputs": [],
   "source": [
    "rating_price_df.head()"
   ]
  },
  {
   "cell_type": "code",
   "execution_count": null,
   "id": "02d5cf19",
   "metadata": {},
   "outputs": [],
   "source": [
    "for df in [listings_train, listings_val, listings_test]:\n",
    "    df.loc[:,'zipcode2'] = df.zipcode2.apply(lambda s: str(s))\n",
    "#     df.loc[:,:] = df.merge(rating_price_df,left_on='zipcode2',right_on='zipcode',how='left')\n",
    "listings_train= listings_train.merge(rating_price_df,left_on='zipcode2',right_on='code',how='left')\n",
    "listings_val = listings_val.merge(rating_price_df,left_on='zipcode2',right_on='code',how='left')\n",
    "listings_test = listings_test.merge(rating_price_df,left_on='zipcode2',right_on='code',how='left')"
   ]
  },
  {
   "cell_type": "markdown",
   "id": "6988e89a",
   "metadata": {},
   "source": [
    "### 7.7.3 - "
   ]
  },
  {
   "cell_type": "code",
   "execution_count": null,
   "id": "fc66b380",
   "metadata": {},
   "outputs": [],
   "source": [
    "RADIUS = 1\n",
    "\n",
    "ratings = [[],[],[]]\n",
    "prices = [[],[],[]]\n",
    "counts = [[],[],[]]\n",
    "    \n",
    "for num,df in enumerate([listings_train,listings_val, listings_test]):\n",
    "    for index,elem in tqdm_notebook(enumerate(list(df.zipcode))):\n",
    "        point1 = (df.latitude[index],df.longitude[index])        \n",
    "        my_data = yelpdata.copy()\n",
    "        my_series = my_data.apply(lambda row: distance_latlon(point1,(row['lat'],row['lon'])),axis=1)\n",
    "        my_series = my_series[my_series <RADIUS]\n",
    "        my_index = my_series.index\n",
    "        my_data = my_data.iloc[my_index]\n",
    "        ratings[num].append(my_data.rating.mean())\n",
    "        prices[num].append(my_data.prices.mean())\n",
    "        counts[num].append(my_data.rating.count())\n",
    "    print(f'Finished with dataframe')\n",
    "#     df.loc[:,'avg_rating_radius'] = pd.Series(ratings)\n",
    "#     df.loc[:'avg_prices_radius'] = pd.Series(prices)\n",
    "#     df.loc[:,'restaurant_radius'] =  pd.Series(counts)\n",
    "       "
   ]
  },
  {
   "cell_type": "code",
   "execution_count": null,
   "id": "5ad1e1d8",
   "metadata": {},
   "outputs": [],
   "source": [
    "listings_train['avg_rating_radius'] = pd.Series(ratings[0])\n",
    "listings_val['avg_rating_radius'] = pd.Series(ratings[1])\n",
    "listings_test['avg_rating_radius'] = pd.Series(ratings[2])\n",
    "\n",
    "listings_train['avg_prices_radius'] = pd.Series(prices[0])\n",
    "listings_val['avg_prices_radius'] = pd.Series(prices[1])\n",
    "listings_test['avg_prices_radius'] = pd.Series(prices[2])\n",
    "\n",
    "listings_train['restaurants_radius'] = pd.Series(counts[0])\n",
    "listings_val['restaurants_radius'] = pd.Series(counts[1])\n",
    "listings_test['restaurants_radius'] = pd.Series(counts[2])"
   ]
  },
  {
   "cell_type": "code",
   "execution_count": null,
   "id": "7e54ea93",
   "metadata": {},
   "outputs": [],
   "source": [
    "listings_train.head(1)"
   ]
  },
  {
   "cell_type": "markdown",
   "id": "e85bbd71",
   "metadata": {},
   "source": [
    "# 8 - **Last adjustments**  "
   ]
  },
  {
   "cell_type": "markdown",
   "id": "51009775",
   "metadata": {},
   "source": [
    "## 8.1 **DELETE** features no longer useful"
   ]
  },
  {
   "cell_type": "code",
   "execution_count": null,
   "id": "39d44729",
   "metadata": {},
   "outputs": [],
   "source": [
    "to_delete = ['host_verifications','host_since','host_neighbourhood','amenities','id','last_scraped',\n",
    "            'zipcode2','code']\n",
    "\n",
    "for df in [listings_train, listings_val, listings_test]:\n",
    "    for col in to_delete:\n",
    "        \n",
    "        #deleting last_scraped, no longer useful\n",
    "        df.drop(columns=[col],inplace=True)\n",
    "        #making sure all elements in zipcode are strings so there wont be an error doing onehotencoder\n",
    "    \n",
    "    \n",
    "# listings_train.drop(columns=to_delete,inplace=True)\n",
    "# listings_val.drop(columns=to_delete,inplace=True)\n",
    "# listings_test.drop(columns=to_delete,inplace=True)"
   ]
  },
  {
   "cell_type": "markdown",
   "id": "77c42fa7",
   "metadata": {},
   "source": [
    "## 8.2 - Inpute values in features created.  \n",
    "In some of the features created there are nan values since during the merge (left_joins) some values on the left df were not  \n",
    "in the right df."
   ]
  },
  {
   "cell_type": "code",
   "execution_count": null,
   "id": "9a8590a8",
   "metadata": {},
   "outputs": [],
   "source": [
    "listings_train.isna().sum()[listings_train.isna().sum()>0]"
   ]
  },
  {
   "cell_type": "code",
   "execution_count": null,
   "id": "d8aaed2c",
   "metadata": {},
   "outputs": [],
   "source": [
    "for df in [listings_train, listings_val, listings_test]:\n",
    "    for col in ['avg_rating_per_zipcode','avg_prices_per_zipcode','avg_rating_radius','avg_prices_radius']:\n",
    "        df[col].fillna(listings_train[col].mean(),inplace=True)\n"
   ]
  },
  {
   "cell_type": "markdown",
   "id": "e76731b6",
   "metadata": {},
   "source": [
    "## 8.3 - Change categories of features"
   ]
  },
  {
   "cell_type": "code",
   "execution_count": null,
   "id": "d8a7a98a",
   "metadata": {},
   "outputs": [],
   "source": [
    "# property_type change to apartment, house, other\n",
    "#we see that the only categories with more than 5% are Apartment and house\n",
    "display(listings_train.property_type.value_counts()[listings_train.property_type.value_counts()>listings_train.shape[0]*0.05])\n",
    "\n",
    "# we'll change the data\n",
    "for df in [listings_train, listings_val, listings_test]:\n",
    "    df.loc[:,'property_type'] = df.property_type.apply(lambda s: s if ((s=='Apartment') or (s=='House')) else 'Other')"
   ]
  },
  {
   "cell_type": "code",
   "execution_count": null,
   "id": "37d17bcb",
   "metadata": {},
   "outputs": [],
   "source": [
    "# features with 2 many categories we'll aggragate features with not so many data into \"other\" category.\n",
    "#this could be done more precise, but we'll keep only 5 categories including other  \n",
    "\n",
    "aggregate = ['neighbourhood','zipcode']\n",
    "agregate_categories(listings_train,listings_val, listings_test,aggregate)\n",
    "listings_train.loc[:,'neighbourhood'] = listings_train.neighbourhood.apply(lambda s: s if s!='NA' else 'other')\n",
    "listings_val.loc[:,'neighbourhood'] = listings_val.neighbourhood.apply(lambda s: s if s!='NA' else 'other')\n",
    "listings_test.loc[:,'neighbourhood'] = listings_test.neighbourhood.apply(lambda s: s if s!='NA' else 'other')"
   ]
  },
  {
   "cell_type": "code",
   "execution_count": null,
   "id": "5dc99f28",
   "metadata": {},
   "outputs": [],
   "source": [
    "#deal with ordinal features\n",
    "\n",
    "\n",
    "host_resp_dict = {'a few days or more':1, 'within a day':2, 'within a few hours':3, 'within an hour':4}\n",
    "listings_train.loc[:,'host_response_time'] = listings_train.host_response_time.apply(lambda x: host_resp_dict[x])\n",
    "listings_val.loc[:,'host_response_time'] = listings_val.host_response_time.apply(lambda x: host_resp_dict[x])\n",
    "listings_test.loc[:,'host_response_time'] = listings_test.host_response_time.apply(lambda x: host_resp_dict[x])\n",
    "\n",
    "cancellation_dict = {'flexible':1, 'moderate':2, 'strict':3}\n",
    "listings_train.loc[:,'cancellation_policy'] = listings_train.cancellation_policy.apply(lambda x: cancellation_dict[x])\n",
    "listings_val.loc[:,'cancellation_policy'] = listings_val.cancellation_policy.apply(lambda x: cancellation_dict[x])\n",
    "listings_test.loc[:,'cancellation_policy'] = listings_test.cancellation_policy.apply(lambda x: cancellation_dict[x])\n",
    "\n",
    "\n",
    "\n",
    "# nominal = ['property_type','neighbourhood','zipcode','room_type']\n"
   ]
  },
  {
   "cell_type": "markdown",
   "id": "c29b41bb",
   "metadata": {},
   "source": [
    "## 8.4 - OneHotEncoding"
   ]
  },
  {
   "cell_type": "code",
   "execution_count": null,
   "id": "f5bbb377",
   "metadata": {},
   "outputs": [],
   "source": [
    "for df in [listings_train, listings_val, listings_test]:\n",
    "    #deleting last_scraped, no longer useful\n",
    "#     df.drop(columns=['last_scraped'],inplace=True)\n",
    "    #making sure all elements in zipcode are strings so there wont be an error doing onehotencoder\n",
    "    df.loc[:,'zipcode'] = df.zipcode.apply(lambda s: str(s))"
   ]
  },
  {
   "cell_type": "code",
   "execution_count": null,
   "id": "e4287657",
   "metadata": {},
   "outputs": [],
   "source": [
    "#onehotencoding the nominal features  \n",
    "enc = OneHotEncoder(handle_unknown='ignore')\n",
    "nominal = ['property_type','neighbourhood','zipcode','room_type']\n",
    "enc.fit(listings_train[nominal])\n",
    "features_ = list(set(listings_train.columns) - set(nominal))\n",
    "listings_train =  dataframe_with_dummies(listings_train,nominal,enc,features_)\n",
    "listings_val =  dataframe_with_dummies(listings_val,nominal,enc,features_)\n",
    "listings_test =  dataframe_with_dummies(listings_test,nominal,enc,features_)"
   ]
  },
  {
   "cell_type": "markdown",
   "id": "aa6898e8",
   "metadata": {},
   "source": [
    "**NOW** we are done with the new features and the final adjustments, and we are ready for the next question"
   ]
  },
  {
   "cell_type": "code",
   "execution_count": null,
   "id": "1c95dad5",
   "metadata": {},
   "outputs": [],
   "source": [
    "listings_train.head()"
   ]
  },
  {
   "cell_type": "markdown",
   "id": "97c66f51",
   "metadata": {},
   "source": [
    "# 9 - Modelling.\n"
   ]
  },
  {
   "cell_type": "markdown",
   "id": "bf90e037",
   "metadata": {},
   "source": [
    "## 9.1 - Preparation code."
   ]
  },
  {
   "cell_type": "code",
   "execution_count": null,
   "id": "cf6f6f9c",
   "metadata": {},
   "outputs": [],
   "source": [
    "#need to split in X,y\n",
    "X_train = listings_train.loc[:,listings_train.columns!='price']\n",
    "y_train = listings_train.price\n",
    "y_train=y_train.astype('float')\n",
    "\n",
    "X_val = listings_val.loc[:,listings_val.columns!='price']\n",
    "y_val = listings_val.price\n",
    "y_val=y_val.astype('float')\n",
    "\n",
    "X_test = listings_test.loc[:,listings_test.columns!='price']\n",
    "y_test = listings_test.price\n",
    "y_test=y_test.astype('float')\n"
   ]
  },
  {
   "cell_type": "code",
   "execution_count": null,
   "id": "6298f2e1",
   "metadata": {},
   "outputs": [],
   "source": [
    "new_features = amenities_list + ['occupancy', 'weekend', 'summer', 'num_conf' ,'years_host' ,  'same_neighbourhood',\n",
    "                                 'is_downtown' ,'distance_to_downtown', 'avg_rating_per_zipcode' ,\n",
    "                                 'avg_prices_per_zipcode', 'avg_rating_radius', 'avg_prices_radius', 'restaurants_radius']\n",
    "old_features = list(set(X_train.columns) - set(new_features))\n"
   ]
  },
  {
   "cell_type": "code",
   "execution_count": null,
   "id": "607f1a47",
   "metadata": {},
   "outputs": [],
   "source": [
    "X_train = X_train[old_features+new_features]\n",
    "X_val = X_val[old_features+new_features]\n",
    "X_test = X_test[old_features+new_features]"
   ]
  },
  {
   "cell_type": "markdown",
   "id": "c90a4d33",
   "metadata": {},
   "source": [
    "## 9.2 Baseline Model"
   ]
  },
  {
   "cell_type": "markdown",
   "id": "1e1b066a",
   "metadata": {},
   "source": [
    "First i'll run a random forest, but just to get the best 20 features that the model gives as an output. I'll do this in \n",
    "order to choose the features and then run some model with those features to define our baseline model and then see the efect of all the features and of the created features."
   ]
  },
  {
   "cell_type": "code",
   "execution_count": null,
   "id": "88029f8d",
   "metadata": {},
   "outputs": [],
   "source": [
    "simple_rf = RandomForestRegressor()\n",
    "simple_rf.fit(X_train[old_features],y_train)\n",
    "best_20_features = get_best_features(simple_rf.feature_importances_,X_train[old_features].columns,'RF',20)"
   ]
  },
  {
   "cell_type": "code",
   "execution_count": null,
   "id": "a3613354",
   "metadata": {},
   "outputs": [],
   "source": [
    "ridge = Ridge()\n",
    "ridge.fit(X_train[best_20_features],y_train)\n",
    "y_preds = ridge.predict(X_val[best_20_features])\n",
    "print('Output of Metrics for Ridge model with best 20 features.')\n",
    "print('(without created features)\\n')\n",
    "model_output(y_val,y_preds)"
   ]
  },
  {
   "cell_type": "code",
   "execution_count": null,
   "id": "26c1abb0",
   "metadata": {},
   "outputs": [],
   "source": [
    "ridge = Ridge()\n",
    "ridge.fit(X_train[old_features],y_train)\n",
    "y_preds = ridge.predict(X_val[old_features])\n",
    "print('Output of Metrics for Ridge model.')\n",
    "print('(without created features)\\n')\n",
    "model_output(y_val,y_preds)"
   ]
  },
  {
   "cell_type": "code",
   "execution_count": null,
   "id": "47cd3d0c",
   "metadata": {},
   "outputs": [],
   "source": [
    "ridge = Ridge()\n",
    "ridge.fit(X_train[old_features+new_features],y_train)\n",
    "y_preds = ridge.predict(X_val[old_features+new_features])\n",
    "print('Output of Metrics for Ridge model.')\n",
    "print('(with created features)\\n')\n",
    "model_output(y_val,y_preds)"
   ]
  },
  {
   "cell_type": "markdown",
   "id": "dbf07e2f",
   "metadata": {},
   "source": [
    "We can see how the features add value to the model. "
   ]
  },
  {
   "cell_type": "markdown",
   "id": "349e9914",
   "metadata": {},
   "source": [
    "## 9.4 - Random Forest"
   ]
  },
  {
   "cell_type": "markdown",
   "id": "f414b33d",
   "metadata": {},
   "source": [
    "### 9.4.1 - RF with best 20 features"
   ]
  },
  {
   "cell_type": "code",
   "execution_count": null,
   "id": "1062f521",
   "metadata": {},
   "outputs": [],
   "source": [
    "rf1 = RandomForestRegressor()\n",
    "rf1.fit(X_train[best_20_features],y_train)\n",
    "y_preds = rf1.predict(X_val[best_20_features])\n",
    "print('Output of Metrics for Random Forest model with best 20 features.')\n",
    "print('(without created features)\\n')\n",
    "model_output(y_val,y_preds)"
   ]
  },
  {
   "cell_type": "markdown",
   "id": "988b91a9",
   "metadata": {},
   "source": [
    "### 9.4.2 - RF with all features (not including created features)"
   ]
  },
  {
   "cell_type": "code",
   "execution_count": null,
   "id": "18818ce7",
   "metadata": {},
   "outputs": [],
   "source": [
    "rf2 = RandomForestRegressor()\n",
    "rf2.fit(X_train[old_features],y_train)\n",
    "y_preds = rf2.predict(X_val[old_features])\n",
    "print('Output of Metrics for Random Forest.')\n",
    "print('(without created features)\\n')\n",
    "model_output(y_val,y_preds)"
   ]
  },
  {
   "cell_type": "markdown",
   "id": "2a34b36a",
   "metadata": {},
   "source": [
    "Interesting that the RF did worst with all of the original features. That could be because of overfitting."
   ]
  },
  {
   "cell_type": "markdown",
   "id": "3b8d280d",
   "metadata": {},
   "source": [
    "### 9.4.3 - RF including created features."
   ]
  },
  {
   "cell_type": "code",
   "execution_count": null,
   "id": "58a29849",
   "metadata": {},
   "outputs": [],
   "source": [
    "rf3 = RandomForestRegressor()\n",
    "rf3.fit(X_train[old_features + new_features],y_train)\n",
    "y_preds = rf3.predict(X_val[old_features + new_features])\n",
    "print('Output of Metrics for Random Forest.')\n",
    "print('(with created features)\\n')\n",
    "model_output(y_val,y_preds)"
   ]
  },
  {
   "cell_type": "markdown",
   "id": "c4a98738",
   "metadata": {},
   "source": [
    "Here we see an incredible improvement with the created features using RF.  "
   ]
  },
  {
   "cell_type": "code",
   "execution_count": null,
   "id": "53b59fd1",
   "metadata": {},
   "outputs": [],
   "source": [
    "# Let's plot it\n",
    "_ =plot_feature_importance(rf3.feature_importances_,X_train[old_features+new_features].columns,'RF',20)"
   ]
  },
  {
   "cell_type": "markdown",
   "id": "0984e3a7",
   "metadata": {},
   "source": [
    "### 9.4.4 - RF best features with created features.   \n",
    "Now let's try to get a subset of features using best features in RF to see if we diminish factors like overfitting.  "
   ]
  },
  {
   "cell_type": "code",
   "execution_count": null,
   "id": "e78e5e57",
   "metadata": {},
   "outputs": [],
   "source": [
    "best_20_features_nf = get_best_features(rf3.feature_importances_,X_train[old_features+new_features].columns,'RF',20)"
   ]
  },
  {
   "cell_type": "code",
   "execution_count": null,
   "id": "e44f9383",
   "metadata": {},
   "outputs": [],
   "source": [
    "rf4 = RandomForestRegressor()\n",
    "rf4.fit(X_train[best_20_features_nf],y_train)\n",
    "y_preds = rf4.predict(X_val[best_20_features_nf])\n",
    "print('Output of Metrics for Random Forest.')\n",
    "print('(with created features)\\n')\n",
    "model_output(y_val,y_preds)"
   ]
  },
  {
   "cell_type": "markdown",
   "id": "2eb5c42f",
   "metadata": {},
   "source": [
    "With these features we made the model worst but not by much. Considering we only used 20 features it's not bad."
   ]
  },
  {
   "cell_type": "code",
   "execution_count": null,
   "id": "1f24e571",
   "metadata": {},
   "outputs": [],
   "source": [
    "best_60_features_nf = get_best_features(rf3.feature_importances_,X_train[old_features+new_features].columns,'RF',60)\n",
    "rf5 = RandomForestRegressor()\n",
    "rf5.fit(X_train[best_60_features_nf],y_train)\n",
    "y_preds = rf5.predict(X_val[best_60_features_nf])\n",
    "print('Output of Metrics for Random Forest.')\n",
    "print('(with created features)\\n')\n",
    "model_output(y_val,y_preds)"
   ]
  },
  {
   "cell_type": "markdown",
   "id": "8509c260",
   "metadata": {},
   "source": [
    "With 60 features we do best than with all of the features."
   ]
  },
  {
   "cell_type": "markdown",
   "id": "9bf632a3",
   "metadata": {},
   "source": [
    "## 9.5 - Catboost"
   ]
  },
  {
   "cell_type": "markdown",
   "id": "fd24cf7f",
   "metadata": {},
   "source": [
    "### 9.5.1 - Catboost with 20 best features."
   ]
  },
  {
   "cell_type": "code",
   "execution_count": null,
   "id": "b27e61a4",
   "metadata": {},
   "outputs": [],
   "source": [
    "cb1 = CatBoostRegressor(verbose=False)\n",
    "cb1.fit(X_train[old_features],y_train)\n",
    "best_20_features_cb = get_best_features(cb1.feature_importances_,X_train[old_features].columns,'CB',20)\n",
    "cb1.fit(X_train[best_20_features_cb],y_train)\n",
    "y_preds = cb1.predict(X_val[best_20_features_cb])\n",
    "print('Output of Metrics for CatBoost model with best 20 features.')\n",
    "print('(without created features)\\n')\n",
    "model_output(y_val,y_preds)"
   ]
  },
  {
   "cell_type": "markdown",
   "id": "34a2a789",
   "metadata": {},
   "source": [
    "Just with 20 best features, Catboost does very good compared with our previous models."
   ]
  },
  {
   "cell_type": "markdown",
   "id": "501387ed",
   "metadata": {},
   "source": [
    "### 9.5.2 - Catboost with all features not created."
   ]
  },
  {
   "cell_type": "code",
   "execution_count": null,
   "id": "8fc8de8b",
   "metadata": {},
   "outputs": [],
   "source": [
    "cb2 = CatBoostRegressor(verbose=False)\n",
    "cb2.fit(X_train[old_features],y_train)\n",
    "y_preds = cb2.predict(X_val[old_features])\n",
    "print('Output of Metrics for CatBoost model.')\n",
    "print('(without created features)\\n')\n",
    "model_output(y_val,y_preds)"
   ]
  },
  {
   "cell_type": "markdown",
   "id": "ad6b81e9",
   "metadata": {},
   "source": [
    "Very interesting that CatBoost with all of the features (except the ones we created) didn't improve much over the 20  \n",
    "best features."
   ]
  },
  {
   "cell_type": "markdown",
   "id": "dcf9a0a3",
   "metadata": {},
   "source": [
    "### 9.5.3 - Catboost including created features."
   ]
  },
  {
   "cell_type": "code",
   "execution_count": null,
   "id": "26a6d3a4",
   "metadata": {},
   "outputs": [],
   "source": [
    "cb3 = CatBoostRegressor(verbose=False)\n",
    "cb3.fit(X_train[old_features + new_features],y_train)\n",
    "y_preds = cb3.predict(X_val[old_features + new_features])\n",
    "print('Output of Metrics for Catboost including created features.')\n",
    "print('(with created features)\\n')\n",
    "model_output(y_val,y_preds)"
   ]
  },
  {
   "cell_type": "markdown",
   "id": "e4cf8e6f",
   "metadata": {},
   "source": [
    "We see that including the created features we increased the R2 by almost 6%."
   ]
  },
  {
   "cell_type": "markdown",
   "id": "54df73c1",
   "metadata": {},
   "source": [
    "### 9.5.4 - Catboost including created features but with best features."
   ]
  },
  {
   "cell_type": "code",
   "execution_count": null,
   "id": "1af74682",
   "metadata": {},
   "outputs": [],
   "source": [
    "best_20_features_nf_cb = plot_feature_importance(cb3.feature_importances_,X_train[old_features+new_features].columns,'CB',20)\n",
    "cb4 = CatBoostRegressor(verbose=False)\n",
    "cb4.fit(X_train[best_20_features_nf_cb],y_train)\n",
    "y_preds = cb4.predict(X_val[best_20_features_nf_cb])\n",
    "print('Output of Metrics for Catboost best features.')\n",
    "print('(with created features)\\n')\n",
    "model_output(y_val,y_preds)"
   ]
  },
  {
   "cell_type": "markdown",
   "id": "3c195f3d",
   "metadata": {},
   "source": [
    "With only 20 features CB gets almost the same result that with all of the features."
   ]
  },
  {
   "cell_type": "code",
   "execution_count": null,
   "id": "2e01dc4e",
   "metadata": {},
   "outputs": [],
   "source": [
    "best_70_features_nf_cb = get_best_features(cb3.feature_importances_,X_train[old_features+new_features].columns,'CB',70)\n",
    "cb4 = CatBoostRegressor(verbose=False)\n",
    "cb4.fit(X_train[best_70_features_nf_cb],y_train)\n",
    "y_preds = cb4.predict(X_val[best_70_features_nf_cb])\n",
    "print('Output of Metrics for Catboost best features.')\n",
    "print('(with created features)\\n')\n",
    "model_output(y_val,y_preds)"
   ]
  },
  {
   "cell_type": "markdown",
   "id": "0914a615",
   "metadata": {},
   "source": [
    "With the best 70 features get's better results"
   ]
  },
  {
   "cell_type": "markdown",
   "id": "ad4efdc0",
   "metadata": {},
   "source": [
    "After having played a little with and seen different results with different ammount of features, we'll see in a more\n",
    "precise way the best ammount of features."
   ]
  },
  {
   "cell_type": "code",
   "execution_count": null,
   "id": "b2e5f371",
   "metadata": {},
   "outputs": [],
   "source": [
    "R2 = []\n",
    "indexes = []\n",
    "best_r2 = 0\n",
    "index_best = 0\n",
    "best_features = []\n",
    "for index in tqdm_notebook(range(70,86,1)):\n",
    "    cbc = CatBoostRegressor(verbose=False)\n",
    "    best_f = get_best_features(cbc.feature_importances_,X_train[old_features+new_features].columns,'CB',index)\n",
    "    cbc = CatBoostRegressor(verbose=False)\n",
    "    cbc.fit(X_train[best_f],y_train)\n",
    "    y_preds = cbc.predict(X_val[best_f])\n",
    "    r2 = r2_score(y_val,y_preds)\n",
    "    R2.append(r2)\n",
    "    indexes.append(index)\n",
    "    if best_r2 < r2 :\n",
    "        best_r2 = r2\n",
    "        index_best = index\n",
    "        best_features = best_f"
   ]
  },
  {
   "cell_type": "code",
   "execution_count": null,
   "id": "1457c0be",
   "metadata": {},
   "outputs": [],
   "source": [
    "plt.plot(np.array(indexes),np.array(R2),marker='o',markerfacecolor='r')\n",
    "plt.title('R2 vs Number of features')\n",
    "plt.xlabel('Number of features')\n",
    "plt.ylabel('R2')\n",
    "plt.show()"
   ]
  },
  {
   "cell_type": "code",
   "execution_count": null,
   "id": "c1c8c941",
   "metadata": {},
   "outputs": [],
   "source": [
    "print(f'The best model had  the best {index_best} features according to Catboost')\n",
    "print(f'The best R2 score was : {best_r2}')\n"
   ]
  },
  {
   "cell_type": "markdown",
   "id": "dd2851a4",
   "metadata": {},
   "source": [
    "# 10 - Hyperparameter Tunning"
   ]
  },
  {
   "cell_type": "code",
   "execution_count": null,
   "id": "3e02e816",
   "metadata": {},
   "outputs": [],
   "source": [
    "cbc = CatBoostRegressor(verbose=False)\n",
    "\n",
    "param_dist = {'depth'         : [4,5,6,7,8,9, 10],\n",
    "                 'learning_rate' : [0.01,0.02,0.03,0.04],\n",
    "                  'iterations'    : [50,100,300,600,1000]\n",
    "                 }\n",
    "rscv = RandomizedSearchCV(cbc , param_dist, scoring='r2', cv =5)\n",
    "rscv.fit(X_train[best_features],y_train)\n",
    "\n",
    "# Print the tuned parameters and score\n",
    "print(rscv.best_params_)\n",
    "print(rscv.best_score_)"
   ]
  },
  {
   "cell_type": "code",
   "execution_count": null,
   "id": "d02d1f4b",
   "metadata": {},
   "outputs": [],
   "source": [
    "cb_final = CatBoostRegressor(verbose=False,iterations=600, depth=6)\n",
    "cb_final.fit(X_train[best_features],y_train)\n",
    "y_preds = cb_final.predict(X_val[best_features])\n",
    "print('Output of Metrics for Catboost best features .')\n",
    "print('(with created features and hypertunning)\\n')\n",
    "model_output(y_val,y_preds)"
   ]
  },
  {
   "cell_type": "code",
   "execution_count": null,
   "id": "79adad03",
   "metadata": {},
   "outputs": [],
   "source": []
  },
  {
   "cell_type": "code",
   "execution_count": null,
   "id": "8992ba93",
   "metadata": {},
   "outputs": [],
   "source": []
  },
  {
   "cell_type": "code",
   "execution_count": null,
   "id": "bf12a66c",
   "metadata": {},
   "outputs": [],
   "source": []
  }
 ],
 "metadata": {
  "kernelspec": {
   "display_name": "P368",
   "language": "python",
   "name": "p368"
  },
  "language_info": {
   "codemirror_mode": {
    "name": "ipython",
    "version": 3
   },
   "file_extension": ".py",
   "mimetype": "text/x-python",
   "name": "python",
   "nbconvert_exporter": "python",
   "pygments_lexer": "ipython3",
   "version": "3.6.8"
  }
 },
 "nbformat": 4,
 "nbformat_minor": 5
}
