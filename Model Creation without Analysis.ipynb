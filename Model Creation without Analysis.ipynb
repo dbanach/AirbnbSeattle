{
 "cells": [
  {
   "cell_type": "markdown",
   "id": "36ea122c",
   "metadata": {},
   "source": [
    "# AIRBNB RENT PREDICTION MODEL\n",
    "## by Daniel Banach"
   ]
  },
  {
   "cell_type": "markdown",
   "id": "4337ed39",
   "metadata": {},
   "source": [
    "# Table Of Contents  \n",
    ">## 1. Introduction.\n",
    ">## 2. Helper Functions and Initial Setup.\n",
    ">## 3. Cleaning Data.\n",
    ">## 4. Minor Adjustments\n",
    ">>###### (What remained from Analysis in original notebook). \n",
    ">## 5. Data Creation.  \n",
    ">## 6. Feature Engineering.\n",
    ">## 7. Last Adjustments.  \n",
    ">## 8. Modeling.  \n",
    ">## 9. Hyperparameter Tunning.\n"
   ]
  },
  {
   "cell_type": "markdown",
   "id": "e9c437d3",
   "metadata": {},
   "source": [
    " "
   ]
  },
  {
   "cell_type": "markdown",
   "id": "0a145b28",
   "metadata": {},
   "source": [
    "# 1 - Intro\n",
    "\n",
    "I'll work with the famous Airbnb Seattle dataset, this dataset contains two files:\n",
    "1. calendar.csv\n",
    "2. listings.csv  \n",
    "\n",
    "The purpose of this project is to predict the price of Seattle Airbnb rentals based on the data provided and also using external data from YELP API.\n",
    "\n"
   ]
  },
  {
   "cell_type": "markdown",
   "id": "5e50f286",
   "metadata": {},
   "source": [
    "# 2 - Helper Functions and Initial Setup"
   ]
  },
  {
   "cell_type": "code",
   "execution_count": 2,
   "id": "c463b07a",
   "metadata": {
    "scrolled": true
   },
   "outputs": [
    {
     "name": "stdout",
     "output_type": "stream",
     "text": [
      "Python 3.7.12\n"
     ]
    }
   ],
   "source": [
    "#check python version\n",
    "!python -V"
   ]
  },
  {
   "cell_type": "code",
   "execution_count": 3,
   "id": "b4fda122",
   "metadata": {},
   "outputs": [],
   "source": [
    "import pandas as pd\n",
    "import numpy as np\n",
    "import matplotlib.pyplot as plt\n",
    "import seaborn as sns\n",
    "import time\n",
    "import datetime\n",
    "import pickle\n",
    "from geopy.distance import geodesic\n",
    "from tqdm import tqdm_notebook\n",
    "import warnings\n",
    "warnings.filterwarnings('ignore')\n",
    "import requests\n",
    "import json"
   ]
  },
  {
   "cell_type": "code",
   "execution_count": 4,
   "id": "d84c0a2f",
   "metadata": {},
   "outputs": [],
   "source": [
    "from sklearn.impute import SimpleImputer\n",
    "from sklearn.pipeline import Pipeline\n",
    "from sklearn.compose import ColumnTransformer\n",
    "from sklearn.model_selection import train_test_split\n",
    "from sklearn.preprocessing import OneHotEncoder\n",
    "from catboost import CatBoostRegressor\n",
    "from sklearn.ensemble import RandomForestRegressor\n",
    "from sklearn.linear_model import Ridge\n",
    "from sklearn.metrics import r2_score,mean_squared_error,mean_absolute_error,mean_absolute_percentage_error\n",
    "from sklearn.model_selection import RandomizedSearchCV"
   ]
  },
  {
   "cell_type": "code",
   "execution_count": 5,
   "id": "e736dda0",
   "metadata": {},
   "outputs": [],
   "source": [
    "# YELP_DATA = if we'll create data from Yelp Api (True) or we'll load it from a file (False).\n",
    "YELP_DATA = False\n"
   ]
  },
  {
   "cell_type": "code",
   "execution_count": 6,
   "id": "1cdf6cfc",
   "metadata": {},
   "outputs": [],
   "source": [
    "calendar = pd.read_csv('calendar.csv')\n",
    "listings = pd.read_csv('listings.csv')\n",
    "\n",
    "# added this option so i could scroll through all the columns with head() or sample() methods\n",
    "pd.set_option('max_columns',None)"
   ]
  },
  {
   "cell_type": "code",
   "execution_count": 7,
   "id": "16c4930a",
   "metadata": {},
   "outputs": [],
   "source": [
    "def change_to_boolean(df,cols):\n",
    "    '''\n",
    "    function that receives dataframe df and columns where to change 't' to 1 and 'f' to 0\n",
    "    cols = list of columns\n",
    "    '''\n",
    "    for col in cols:\n",
    "        df.loc[:,col] = df[col].apply(lambda s: 1 if s=='t' else 0)\n",
    "\n",
    "def change_from_dollar(df,cols):\n",
    "    '''\n",
    "    function that receives a dataframe df and columns where to change from price string format \"$1,000.00\" to float\n",
    "    '''\n",
    "    \n",
    "    for col in cols:\n",
    "        df.loc[:,col] = df[col].apply(lambda s: s if s is np.nan else float(s.replace(',','')[1:]))\n",
    "        \n",
    "def change_from_percentage(df, cols):\n",
    "    '''\n",
    "    function that receives a dataframe df and columns where to change from string format '34%' to float 34\n",
    "    '''\n",
    "    for col in cols:\n",
    "        df.loc[:,col] = df[col].apply(lambda s: s if s is np.nan else float(s.replace('%','')))\n",
    "        \n",
    "def transform_and_return(df,features,model):\n",
    "    '''\n",
    "    Function that receives a dataframe, its features and an already fitted transformer and applies the\n",
    "    transformer and returns the output as a dataframe\n",
    "    '''\n",
    "    \n",
    "    df =model.transform(df)\n",
    "    df = pd.DataFrame(df,columns=features)\n",
    "    df.reset_index(drop=True,inplace=True)\n",
    "    return df\n",
    "\n",
    "    \n",
    "def agregate_categories(df1,df2,df3,cols):\n",
    "    '''\n",
    "    function that agregates categories in variables that have lots of categories\n",
    "    \n",
    "    '''\n",
    "\n",
    "    for col in cols:\n",
    "\n",
    "        value_c = df1[col].value_counts()\n",
    "        vals = value_c.index[:5]\n",
    "        df1[col] =df1[col].where(df1[col].isin(vals), 'other')\n",
    "        df2[col] =df2[col].where(df2[col].isin(vals), 'other')\n",
    "        df3[col] =df3[col].where(df3[col].isin(vals), 'other')\n",
    "\n",
    "def dataframe_with_dummies(df,dummies,encoder,features):\n",
    "    \"\"\"\n",
    "    function that receives df dataframe with the independent features and does OHE transformation with\n",
    "    the already fitted encoder \"encoder\" and returns a dataframe with all of the OHE features, the rest of the features\n",
    "    of the df dataframe \n",
    "\n",
    "    \"\"\"\n",
    "    df_dummies = pd.DataFrame(data = encoder.transform(df[dummies]).toarray(),columns = encoder.get_feature_names(dummies))                        \n",
    "    df = pd.concat([df[features], df_dummies], axis=1)\n",
    "    df.columns = features + list(encoder.get_feature_names(dummies))\n",
    "    return df       \n",
    "\n",
    "def plot_feature_importance(importance,names,model_type,num_features):\n",
    "\n",
    "    #Create arrays from feature importance and feature names\n",
    "    feature_importance = np.array(importance)\n",
    "    feature_names = np.array(names)\n",
    "\n",
    "    #Create a DataFrame using a Dictionary\n",
    "    data={'feature_names':feature_names,'feature_importance':feature_importance}\n",
    "    fi_df = pd.DataFrame(data)\n",
    "\n",
    "    #Sort the DataFrame in order decreasing feature importance\n",
    "    fi_df.sort_values(by=['feature_importance'], ascending=False,inplace=True)\n",
    "    fi_df = fi_df.iloc[:num_features,:num_features]\n",
    "    \n",
    "    #Define size of bar plot\n",
    "    plt.figure(figsize=(10,8))\n",
    "    #Plot Searborn bar chart\n",
    "    sns.barplot(x=fi_df['feature_importance'], y=fi_df['feature_names'])\n",
    "    #Add chart labels\n",
    "    plt.title(model_type + ' FEATURE IMPORTANCE')\n",
    "    plt.xlabel('FEATURE IMPORTANCE')\n",
    "    plt.ylabel('FEATURE NAMES')\n",
    "    plt.show()\n",
    "    return list(fi_df['feature_names'])\n",
    "\n",
    "def get_best_features(importance,names,model_type,num_features):\n",
    "\n",
    "    #Create arrays from feature importance and feature names\n",
    "    feature_importance = np.array(importance)\n",
    "    feature_names = np.array(names)\n",
    "\n",
    "    #Create a DataFrame using a Dictionary\n",
    "    data={'feature_names':feature_names,'feature_importance':feature_importance}\n",
    "    fi_df = pd.DataFrame(data)\n",
    "\n",
    "    #Sort the DataFrame in order decreasing feature importance\n",
    "    fi_df.sort_values(by=['feature_importance'], ascending=False,inplace=True)\n",
    "    fi_df = fi_df.iloc[:num_features,:num_features]\n",
    "    \n",
    "\n",
    "    return list(fi_df['feature_names'])\n",
    "    \n",
    "def distance_latlon(point1, point2):\n",
    "    '''\n",
    "    Function that receives the latitude and longitude of 2 points (point1 and point2 are tuples) and returns  \n",
    "    the distance in kilometers\n",
    "    '''\n",
    "    \n",
    "    return geodesic(point1, point2).km\n",
    "\n",
    "def model_output(y_val,y_preds):\n",
    "    \n",
    "    R2 = r2_score(y_val,y_preds)\n",
    "    MSE = mean_squared_error(y_val,y_preds)\n",
    "    MAE = mean_absolute_error(y_val,y_preds)\n",
    "    MAPE = mean_absolute_percentage_error(y_val,y_preds)\n",
    "    print('R^2: ',R2)\n",
    "    print('MSE: ',MSE)\n",
    "    print('MAE: ',MAE)\n",
    "    print('MAPE: ',MAPE)\n",
    "    \n",
    "    \n",
    "# helper functions to retrive new data to add\n",
    "def get_data_to_add(listing,avg_per_period,summer, weekend):\n",
    "    '''\n",
    "    Function that receives listing dataframe and with the information in the avg_per_period data frame, converts the  \n",
    "    data in listing to that of the period of summer and weekend that could be 1 or 0 each.  \n",
    "    Then returns the new data to add to the dataset\n",
    "    '''\n",
    "    \n",
    "    features = list(listing.columns)\n",
    "    my_listing = listing.copy()\n",
    "    my_listing.drop(columns=['price'],inplace=True)\n",
    "    my_listing.summer = summer\n",
    "    my_listing.weekend = weekend\n",
    "\n",
    "    add_listing = avg_per_period[(avg_per_period.summer==summer)&(avg_per_period.weekend==weekend)]\n",
    "    add_listing.drop(columns=['summer','weekend','avg_price'],inplace=True)\n",
    "\n",
    "    my_listing =  my_listing.merge(add_listing,left_on='id', right_on='listing_id', how='left')\n",
    "    my_listing = my_listing[~my_listing.price.isna()]\n",
    "    my_listing = my_listing[features]\n",
    "    return my_listing\n",
    "\n",
    "def get_data_all_period(listing, avg_per_period):\n",
    "    '''\n",
    "    Function that for one listing dataframe returns the listing, having added information from same listings in\n",
    "    different periods\n",
    "    '''\n",
    "    my_listing= listing.copy()\n",
    "    for pair in [[1,1],[1,0],[0,1]]:\n",
    "        my_listing = pd.concat([my_listing,get_data_to_add(listing,avg_per_period,pair[0],pair[1])],ignore_index=True)\n",
    "    \n",
    "    return my_listing\n"
   ]
  },
  {
   "cell_type": "code",
   "execution_count": 8,
   "id": "d5a1ffaa",
   "metadata": {},
   "outputs": [],
   "source": [
    "# to impute later on\n",
    "mostf_filler = Pipeline(steps=[\n",
    "    ('imputer',SimpleImputer(strategy='most_frequent'))\n",
    "])\n",
    "\n",
    "mean_filler = Pipeline(steps=[\n",
    "    ('imputer',SimpleImputer(strategy='mean'))\n",
    "])"
   ]
  },
  {
   "cell_type": "markdown",
   "id": "ade07965",
   "metadata": {},
   "source": [
    "# 3 - Cleaning the data"
   ]
  },
  {
   "cell_type": "markdown",
   "id": "785511f8",
   "metadata": {},
   "source": [
    "## Deleting"
   ]
  },
  {
   "cell_type": "code",
   "execution_count": 9,
   "id": "74ed90b8",
   "metadata": {},
   "outputs": [],
   "source": [
    "\n",
    "to_delete = ['name','transit','street','neighbourhood_cleansed','picture_url','neighborhood_overview', 'space','host_about',\n",
    "             'thumbnail_url','host_picture_url','description','medium_url','host_thumbnail_url','xl_picture_url','notes',\n",
    "             'summary','neighbourhood_group_cleansed','host_url','listing_url','first_review',\n",
    "             'calendar_last_scraped','last_review','host_name','calendar_updated','state','host_id','host_location',\n",
    "             'scrape_id','square_feet','weekly_price','monthly_price','license','experiences_offered','city','market',\n",
    "             'smart_location','country_code','country','requires_license','jurisdiction_names', 'security_deposit',\n",
    "             'cleaning_fee','has_availability','host_acceptance_rate','host_total_listings_count']\n",
    "listings.drop(columns=to_delete,inplace=True)\n"
   ]
  },
  {
   "cell_type": "markdown",
   "id": "b66e4114",
   "metadata": {},
   "source": [
    "## Changing data type"
   ]
  },
  {
   "cell_type": "code",
   "execution_count": 10,
   "id": "455f05cc",
   "metadata": {},
   "outputs": [],
   "source": [
    "#first i'll change features that have values 't' and 'f' to 1 and 0\n",
    "to_boolean = ['host_is_superhost','host_has_profile_pic','host_identity_verified','is_location_exact',\n",
    "             'instant_bookable','require_guest_profile_picture','require_guest_phone_verification']\n",
    "change_to_boolean(listings,to_boolean)"
   ]
  },
  {
   "cell_type": "code",
   "execution_count": 11,
   "id": "b2106095",
   "metadata": {},
   "outputs": [],
   "source": [
    "# change features that have % to float\n",
    "change_from_percentage(listings,['host_response_rate'])"
   ]
  },
  {
   "cell_type": "code",
   "execution_count": 12,
   "id": "18af33f5",
   "metadata": {},
   "outputs": [],
   "source": [
    "#change features that have format $1000,00 to float\n",
    "change_from_dollar(listings,['price','extra_people'])"
   ]
  },
  {
   "cell_type": "markdown",
   "id": "84740f0a",
   "metadata": {},
   "source": [
    "## Fixing problems with data in BATHROOMS AND BEDROOMS  \n"
   ]
  },
  {
   "cell_type": "code",
   "execution_count": 13,
   "id": "fd41c928",
   "metadata": {},
   "outputs": [],
   "source": [
    "#first we'll change the value of the bathrooms where also bedrooms is 0\n",
    "my_index = listings[(listings.bathrooms==0)&(listings.bedrooms==0)].index\n",
    "listings.loc[my_index,'bathrooms'] = listings[(listings.bathrooms==0)&(listings.bedrooms==0)].bathrooms.apply(lambda x: np.nan if x ==0 else x)\n",
    "\n",
    "#now we'll change all of the values where bedrooms are 0\n",
    "my_index = listings[(listings.bedrooms==0)].index\n",
    "listings.loc[my_index,'bedrooms'] = listings[(listings.bedrooms==0)].bedrooms.apply(lambda x: np.nan if x ==0 else x)\n"
   ]
  },
  {
   "cell_type": "markdown",
   "id": "f023917b",
   "metadata": {},
   "source": [
    "## Dealining with nan's \n"
   ]
  },
  {
   "cell_type": "code",
   "execution_count": 14,
   "id": "ca801752",
   "metadata": {},
   "outputs": [],
   "source": [
    "#there are features that makes sense to fill 'NA' or the like. These are features that\n",
    "#i plan to use those afterwards for feature creation, i'll just impute an auxiliar value for now to be able\n",
    "#to process the data \n",
    "to_fill_NA = ['host_neighbourhood','neighbourhood']\n",
    "\n",
    "for col in to_fill_NA:\n",
    "    listings[col].fillna('NA',inplace=True)\n"
   ]
  },
  {
   "cell_type": "code",
   "execution_count": 15,
   "id": "0f3b4363",
   "metadata": {},
   "outputs": [],
   "source": [
    "#there are 2 rows that they dont have info about the host so since there are so few instead of imputing something\n",
    "#i'll just drop them\n",
    "listings = listings[~listings.host_since.isna()]\n",
    "\n",
    "#i'll also drop rows with nan zipcode since there are so little nan rows and i dont want to use later on some demographic data\n",
    "#that could be mistaken \n",
    "listings = listings[~listings.zipcode.isna()]\n",
    "#also eliminate mistaken zipcode value\n",
    "listings = listings[~(listings.zipcode=='99\\n98122')]\n",
    "\n",
    "listings.reset_index(drop=True,inplace=True)\n"
   ]
  },
  {
   "cell_type": "markdown",
   "id": "360dfdbd",
   "metadata": {},
   "source": [
    "## Train test split  \n",
    "In order that there would be no data lekeage i'll split the data before imputing values"
   ]
  },
  {
   "cell_type": "code",
   "execution_count": 16,
   "id": "556cfd91",
   "metadata": {},
   "outputs": [],
   "source": [
    "listings_train_val, listings_test = train_test_split(listings, test_size=.2,random_state=12)\n",
    "listings_train, listings_val = train_test_split(listings_train_val, test_size=.2,random_state=12)\n"
   ]
  },
  {
   "cell_type": "code",
   "execution_count": 17,
   "id": "47f7b3fa",
   "metadata": {},
   "outputs": [],
   "source": [
    "#features to fill the nans with mean \n",
    "\n",
    "fill_with_mean = ['host_response_rate','review_scores_rating','review_scores_accuracy',\n",
    "                 'review_scores_cleanliness','review_scores_checkin','review_scores_communication',\n",
    "                 'review_scores_location','review_scores_value','reviews_per_month']\n",
    "\n",
    "#features to fill the nans with most frequent \n",
    "fill_with_most_frequent = ['host_response_time','bathrooms','bedrooms','beds','property_type']"
   ]
  },
  {
   "cell_type": "code",
   "execution_count": 18,
   "id": "072920eb",
   "metadata": {},
   "outputs": [],
   "source": [
    "the_rest = list(set(listings.columns) - set(fill_with_mean)- set(fill_with_most_frequent))\n",
    "features = fill_with_most_frequent +fill_with_mean +the_rest"
   ]
  },
  {
   "cell_type": "code",
   "execution_count": 19,
   "id": "5929ef56",
   "metadata": {},
   "outputs": [],
   "source": [
    "listings_train = listings_train[features]\n",
    "listings_val = listings_val[features]\n",
    "listings_test = listings_test[features]"
   ]
  },
  {
   "cell_type": "code",
   "execution_count": 20,
   "id": "e7ef790c",
   "metadata": {},
   "outputs": [],
   "source": [
    "transformers = ColumnTransformer([\n",
    "            ('mostf', mostf_filler, fill_with_most_frequent),\n",
    "            ('mean',mean_filler,fill_with_mean),\n",
    "            ('the_rest','passthrough',the_rest)\n",
    "    ])\n",
    "\n",
    "model = transformers.fit(listings_train)\n",
    "listings_train = transform_and_return(listings_train,features,model)\n",
    "listings_val = transform_and_return(listings_val,features,model)\n",
    "listings_test = transform_and_return(listings_test,features,model)"
   ]
  },
  {
   "cell_type": "code",
   "execution_count": 22,
   "id": "c3712808",
   "metadata": {},
   "outputs": [],
   "source": [
    "# change data type tu numeric if possible\n",
    "for df in [listings_train,listings_val,listings_test]:\n",
    "    for col in listings_train.columns:\n",
    "        try:\n",
    "            for df in [listings_train,listings_val,listings_test]:\n",
    "                df.loc[:,col] = pd.to_numeric(df[col])\n",
    "        except:\n",
    "            pass\n",
    "        "
   ]
  },
  {
   "cell_type": "markdown",
   "id": "65694228",
   "metadata": {},
   "source": [
    "## 3.2 - **Calendar DataFrame**"
   ]
  },
  {
   "cell_type": "code",
   "execution_count": 23,
   "id": "cd8973f7",
   "metadata": {},
   "outputs": [],
   "source": [
    "#changing values in 'available' from 't' and 'f' to 1,0\n",
    "change_to_boolean(calendar,['available'])\n",
    "\n",
    "# changing type of 'date' from object to datetime. (i'll need this later on to manipulate this feature)\n",
    "calendar['date']= pd.to_datetime(calendar['date'])\n",
    "\n",
    "#change format from price\n",
    "change_from_dollar(calendar,['price'])"
   ]
  },
  {
   "cell_type": "code",
   "execution_count": 24,
   "id": "eade809b",
   "metadata": {},
   "outputs": [],
   "source": [
    "avg_price_per_id = calendar.groupby(calendar.listing_id).mean()\n",
    "avg_price_per_id.reset_index(level=0, inplace=True)\n",
    "avg_price_per_id = avg_price_per_id[['listing_id','price']]\n",
    "avg_price_per_id.columns = ['listing_id','avg_price']\n"
   ]
  },
  {
   "cell_type": "code",
   "execution_count": 25,
   "id": "f97acc18",
   "metadata": {},
   "outputs": [],
   "source": [
    "ids_to_delete = list(avg_price_per_id[avg_price_per_id.avg_price.isna()].listing_id)\n",
    "calendar = calendar[~calendar.listing_id.isin(ids_to_delete)]\n"
   ]
  },
  {
   "cell_type": "code",
   "execution_count": 26,
   "id": "69665039",
   "metadata": {},
   "outputs": [],
   "source": [
    "# add avg_price to calendar df\n",
    "calendar = calendar.merge(avg_price_per_id, on='listing_id', how='left')\n",
    "\n",
    "\n",
    "# change value of price feature if it's nan\n",
    "calendar.loc[:,'price'] = calendar.apply(lambda row: row['price'] if not np.isnan(row['price']) else row['avg_price'] ,axis=1)\n",
    "calendar.drop(columns=['avg_price'],inplace=True)\n"
   ]
  },
  {
   "cell_type": "markdown",
   "id": "a4885195",
   "metadata": {},
   "source": [
    "# 4 - Minor Adjustments  \n",
    "##### After deleting the analysis it seems they are out of place, but if you see the jupyter notebook with the full analysis this is the right place."
   ]
  },
  {
   "cell_type": "markdown",
   "id": "cd5a7f52",
   "metadata": {},
   "source": [
    "### 4.1.1 - Price Distribution"
   ]
  },
  {
   "cell_type": "code",
   "execution_count": 28,
   "id": "08c6ce3e",
   "metadata": {},
   "outputs": [
    {
     "name": "stdout",
     "output_type": "stream",
     "text": [
      "41 rows deleted\n"
     ]
    }
   ],
   "source": [
    "# i'll eliminate the rows that are below and above 3 times the std of price (not so many rows).\n",
    "#i'll only do this on the train set\n",
    "mean_price = listings_train.price.mean()\n",
    "std_price = listings_train.price.std()\n",
    "min_price = mean_price-3*std_price\n",
    "max_price = mean_price+3*std_price\n",
    "line_d =listings_train.shape[0] -listings_train[(listings_train.price>=min_price)&(listings_train.price<=max_price)].shape[0]\n",
    "print(f'{line_d} rows deleted')\n",
    "listings_train =  listings_train[(listings_train.price>=min_price)&(listings_train.price<=max_price)]"
   ]
  },
  {
   "cell_type": "code",
   "execution_count": 29,
   "id": "010a7a91",
   "metadata": {},
   "outputs": [],
   "source": [
    "# change the order of the features to see price at the end\n",
    "rest = list(set(listings_train.columns) - set(['price']))\n",
    "features = rest + ['price']\n",
    "listings_train =  listings_train[features]\n",
    "listings_val =  listings_val[features]\n",
    "listings_test =  listings_test[features]\n"
   ]
  },
  {
   "cell_type": "code",
   "execution_count": 30,
   "id": "63abec45",
   "metadata": {},
   "outputs": [],
   "source": [
    "\n",
    "right_df =calendar.available.groupby(calendar['listing_id']).apply(lambda x: x.sum()/x.count()).reset_index(level=0)\n",
    "right_df.columns=['id','occupancy']\n",
    "right_df.head()\n",
    "\n",
    "listings_train = listings_train.merge(right_df, on='id', how='left')\n",
    "listings_val = listings_val.merge(right_df, on='id', how='left')\n",
    "listings_test = listings_test.merge(right_df, on='id', how='left')\n",
    "features = features +['occupancy']\n",
    "# Fill Na in new feature with mean\n",
    "for df in [listings_train,listings_val,listings_test]:\n",
    "    df.fillna(listings_train.occupancy.mean(),inplace=True)\n"
   ]
  },
  {
   "cell_type": "markdown",
   "id": "39cd93a2",
   "metadata": {},
   "source": [
    "# 5 - Data Creation"
   ]
  },
  {
   "cell_type": "code",
   "execution_count": 34,
   "id": "46337f17",
   "metadata": {},
   "outputs": [],
   "source": [
    "#calendar dataframe\n",
    "#we'll add some features to the calendar dataframe\n",
    "calendar['day_of_week'] = pd.DatetimeIndex(calendar.date).dayofweek\n",
    "calendar['month'] = pd.DatetimeIndex(calendar.date).month\n",
    "calendar['week'] = pd.DatetimeIndex(calendar.date).week\n",
    "calendar['weekend'] = calendar['day_of_week'].apply(lambda x: 1 if x>=5 else 0) \n",
    "calendar['summer'] = calendar['week'].apply(lambda x: 1 if ((x>=23) & (x<=34)) else 0) "
   ]
  },
  {
   "cell_type": "code",
   "execution_count": 35,
   "id": "422d58c8",
   "metadata": {},
   "outputs": [],
   "source": [
    "#we'll create features of 'summer', 'weekend'\n",
    "for df in [listings_train,listings_val, listings_test]:\n",
    "    df['weekend'] = 0\n",
    "    df['summer'] = 0"
   ]
  },
  {
   "cell_type": "code",
   "execution_count": 36,
   "id": "2a14ad98",
   "metadata": {},
   "outputs": [],
   "source": [
    "#create dataframe with the price to create new data\n",
    "df_avg_per_id_period = pd.DataFrame(calendar.groupby(['listing_id','summer','weekend']).price.mean()).reset_index(level=[0,1,2])\n",
    "\n",
    "\n",
    "#create dataframe to have the average price in all the combinations (summer=[0,1], weekend =[0,1]) to check if the data is real\n",
    "# meaning that it's highly unlikely that the price would be the same in every mommnent so a fast way to filter  \n",
    "#data that we imputed because it was unavailable it is by filtering listings that have same price than the average\n",
    "check_real_data = df_avg_per_id_period.groupby(df_avg_per_id_period.listing_id).price.mean().reset_index(level=0)\n",
    "check_real_data.columns = ['listing_id','avg_price']\n",
    "\n",
    "# merge the data to have a new column in order to see the rows that represent real data and filtering that\n",
    "df_avg_per_id_period = df_avg_per_id_period.merge(check_real_data,on='listing_id',how='left')\n",
    "df_avg_per_id_period = df_avg_per_id_period[df_avg_per_id_period.price!=df_avg_per_id_period.avg_price]\n"
   ]
  },
  {
   "cell_type": "code",
   "execution_count": 37,
   "id": "a2e758d8",
   "metadata": {},
   "outputs": [],
   "source": [
    "listings_train = get_data_all_period(listings_train,df_avg_per_id_period)\n",
    "listings_val = get_data_all_period(listings_val,df_avg_per_id_period)\n",
    "listings_test = get_data_all_period(listings_test,df_avg_per_id_period)"
   ]
  },
  {
   "cell_type": "markdown",
   "id": "698d70c7",
   "metadata": {},
   "source": [
    "# "
   ]
  },
  {
   "cell_type": "markdown",
   "id": "8cb69cea",
   "metadata": {},
   "source": [
    "# 6 - Feature Eng.\n"
   ]
  },
  {
   "cell_type": "markdown",
   "id": "981dd4f5",
   "metadata": {},
   "source": [
    "## 6.1 - Number of confirmations"
   ]
  },
  {
   "cell_type": "code",
   "execution_count": 38,
   "id": "dda65faa",
   "metadata": {},
   "outputs": [],
   "source": [
    "listings_train.loc[:,'num_conf'] = listings_train.host_verifications.apply(lambda s: s.count(',')+1)\n",
    "listings_val.loc[:,'num_conf'] = listings_val.host_verifications.apply(lambda s: s.count(',')+1)\n",
    "listings_test.loc[:,'num_conf'] = listings_test.host_verifications.apply(lambda s: s.count(',')+1)\n"
   ]
  },
  {
   "cell_type": "markdown",
   "id": "e4cf3157",
   "metadata": {},
   "source": [
    "## 6.2 - Years of host being active"
   ]
  },
  {
   "cell_type": "code",
   "execution_count": 39,
   "id": "0c0b0afd",
   "metadata": {},
   "outputs": [],
   "source": [
    "NOW =2016\n",
    "listings_train.loc[:,'years_host'] = listings_train.host_since.apply(lambda x:(NOW - int(x[:4])))\n",
    "listings_val.loc[:,'years_host'] = listings_val.host_since.apply(lambda x:(NOW - int(x[:4])))\n",
    "listings_test.loc[:,'years_host'] = listings_test.host_since.apply(lambda x:(NOW - int(x[:4])))"
   ]
  },
  {
   "cell_type": "markdown",
   "id": "1cbdda93",
   "metadata": {},
   "source": [
    "## 6.3 - Same Neighbourhood"
   ]
  },
  {
   "cell_type": "markdown",
   "id": "0e81ed72",
   "metadata": {},
   "source": [
    "I want to use the features 'host_neighbourhood','neighbourhood' to create a new feature that is 1 if they are in the same  \n",
    "neighbourhood or not. This makes sense since that adds more value because the host is more available to do things."
   ]
  },
  {
   "cell_type": "code",
   "execution_count": 40,
   "id": "04d70f68",
   "metadata": {},
   "outputs": [],
   "source": [
    "listings_train['same_neighbourhood'] =(listings_train.host_neighbourhood ==listings_train.neighbourhood)\n",
    "listings_train.loc[:,'same_neighbourhood'] = listings_train.same_neighbourhood.apply(lambda x: 1 if x==True else 0)\n",
    "listings_val['same_neighbourhood'] =(listings_val.host_neighbourhood ==listings_val.neighbourhood)\n",
    "listings_val.loc[:,'same_neighbourhood'] = listings_val.same_neighbourhood.apply(lambda x: 1 if x==True else 0)\n",
    "listings_test['same_neighbourhood'] =(listings_test.host_neighbourhood ==listings_test.neighbourhood)\n",
    "listings_test.loc[:,'same_neighbourhood'] = listings_test.same_neighbourhood.apply(lambda x: 1 if x==True else 0)"
   ]
  },
  {
   "cell_type": "markdown",
   "id": "e3c6730c",
   "metadata": {},
   "source": [
    "## 6.4 - Binary features from Amenities"
   ]
  },
  {
   "cell_type": "markdown",
   "id": "2dd31e36",
   "metadata": {},
   "source": [
    "We'll create many binary features"
   ]
  },
  {
   "cell_type": "code",
   "execution_count": 41,
   "id": "87600842",
   "metadata": {},
   "outputs": [],
   "source": [
    "for df in [listings_train,listings_val, listings_test]:\n",
    "    df.loc[:,'has_ac'] = df.amenities.apply(lambda s: 1 if 'conditioning' in s.lower() else 0)\n",
    "    df.loc[:,'has_internet'] = df.amenities.apply(lambda s: 1 if 'internet' in s.lower() else 0)\n",
    "    df.loc[:,'has_pool'] = df.amenities.apply(lambda s: 1 if 'pool' in s.lower() else 0)\n",
    "    df.loc[:,'has_tv'] = df.amenities.apply(lambda s: 1 if 'tv' in s.lower() else 0)\n",
    "    df.loc[:,'smoking_allowed'] = df.amenities.apply(lambda s: 1 if 'smoking' in s.lower() else 0)\n",
    "    df.loc[:,'washer'] = df.amenities.apply(lambda s: 1 if 'washer' in s.lower() else 0)\n",
    "    df.loc[:,'smoke_detector'] = df.amenities.apply(lambda s: 1 if 'detector' in s.lower() else 0)\n",
    "    df.loc[:,'pet_allowed'] = df.amenities.apply(lambda s: 1 if 'pet' in s.lower() else 0)\n",
    "    df.loc[:,'kitchen'] = df.amenities.apply(lambda s: 1 if 'kitchen' in s.lower() else 0)\n",
    "    df.loc[:,'iron'] = df.amenities.apply(lambda s: 1 if 'iron' in s.lower() else 0)\n",
    "    df.loc[:,'fireplace'] = df.amenities.apply(lambda s: 1 if 'fireplace' in s.lower() else 0)\n",
    "    df.loc[:,'hot_tub'] = df.amenities.apply(lambda s: 1 if 'tub' in s.lower() else 0)\n",
    "    df.loc[:,'heating'] = df.amenities.apply(lambda s: 1 if 'heating' in s.lower() else 0)\n",
    "    df.loc[:,'gym'] = df.amenities.apply(lambda s: 1 if 'gym' in s.lower() else 0)\n",
    "    df.loc[:,'parking'] = df.amenities.apply(lambda s: 1 if 'parking' in s.lower() else 0)\n",
    "    df.loc[:,'elevator'] = df.amenities.apply(lambda s: 1 if 'elevator' in s.lower() else 0)\n",
    "    df.loc[:,'doorman'] = df.amenities.apply(lambda s: 1 if 'doorman' in s.lower() else 0)\n",
    "    df.loc[:,'breakfast'] = df.amenities.apply(lambda s: 1 if 'breakfast' in s.lower() else 0)    "
   ]
  },
  {
   "cell_type": "code",
   "execution_count": 42,
   "id": "653e383f",
   "metadata": {},
   "outputs": [],
   "source": [
    "amenities_list = ['has_ac','has_internet','has_pool','has_tv','smoking_allowed','washer','smoke_detector',\n",
    "                 'pet_allowed','kitchen','iron','fireplace','hot_tub','heating','gym','parking',\n",
    "                 'elevator','doorman','breakfast']\n"
   ]
  },
  {
   "cell_type": "markdown",
   "id": "558b9108",
   "metadata": {},
   "source": [
    "## 6.5 - Listing within downtown or not"
   ]
  },
  {
   "cell_type": "markdown",
   "id": "d1a852a4",
   "metadata": {},
   "source": [
    "**is_downtown**  \n",
    "It's values will be 1 if it's in the area and 0 if not."
   ]
  },
  {
   "cell_type": "code",
   "execution_count": 43,
   "id": "c4deaa04",
   "metadata": {},
   "outputs": [],
   "source": [
    "# Checking the Yelp Api , the center of seattle has coordenates :'longitude': -122.3355, 'latitude': 47.6254.\n",
    "min_lat = 47.60\n",
    "max_lat = 47.66\n",
    "min_lon = -122.40\n",
    "max_lon = -122.275\n",
    "\n",
    "for df in [listings_train,listings_val, listings_test]:\n",
    "    df['is_downtown'] =((df.latitude >= min_lat) & (df.latitude <= max_lat)) &((df.longitude >= min_lon) & (df.longitude <= max_lon))\n",
    "    df.loc[:,'is_downtown'] = df.is_downtown.apply(lambda s: 1 if s==True else 0)\n",
    "\n"
   ]
  },
  {
   "cell_type": "markdown",
   "id": "0d7345bf",
   "metadata": {},
   "source": [
    "## 6.6 - Distance of listing to downtown"
   ]
  },
  {
   "cell_type": "markdown",
   "id": "ad076be1",
   "metadata": {},
   "source": [
    "I'll also create the feature **distance_to_downtown**."
   ]
  },
  {
   "cell_type": "code",
   "execution_count": 44,
   "id": "5b2d50ce",
   "metadata": {},
   "outputs": [],
   "source": [
    "CENTER_LAT = 47.6254\n",
    "CENTER_LON = -122.3355\n",
    "listings_train['distance_to_downtown'] =((listings_train.latitude - CENTER_LAT) ** 2 + (listings_train.longitude - CENTER_LON) ** 2)**(1/2)\n",
    "listings_val['distance_to_downtown'] =((listings_val.latitude - CENTER_LAT) ** 2 + (listings_val.longitude - CENTER_LON) ** 2)**(1/2)\n",
    "listings_test['distance_to_downtown'] =((listings_test.latitude - CENTER_LAT) ** 2 + (listings_test.longitude - CENTER_LON) ** 2)**(1/2)\n"
   ]
  },
  {
   "cell_type": "markdown",
   "id": "6c4ba372",
   "metadata": {},
   "source": [
    "## 6.7 - Adding from YELP API"
   ]
  },
  {
   "cell_type": "markdown",
   "id": "d0c95d5e",
   "metadata": {},
   "source": [
    "### 6.7.1 - Creating new auxiliar feature"
   ]
  },
  {
   "cell_type": "code",
   "execution_count": 45,
   "id": "ec94f077",
   "metadata": {},
   "outputs": [],
   "source": [
    "# i'll add a new feature that's really a copy of zipcode to use in the creation of features with Yelp API\n",
    "listings_train['zipcode2'] = listings_train.zipcode\n",
    "listings_val['zipcode2'] = listings_val.zipcode\n",
    "listings_test['zipcode2'] = listings_test.zipcode\n"
   ]
  },
  {
   "cell_type": "markdown",
   "id": "1c54f532",
   "metadata": {},
   "source": [
    "### 6.7.1 - Getting data from API"
   ]
  },
  {
   "cell_type": "code",
   "execution_count": 46,
   "id": "5b8f8c39",
   "metadata": {},
   "outputs": [],
   "source": [
    "if YELP_DATA:\n",
    "\n",
    "\n",
    "    api_key='B6FdYh1q4CLceKS84XrCQMxindMSIThCTT1jWphGoMbMrJAneCxV4D-jrmbxvdwBPrXhbUMHVWcdfC0YtiwaDb1pMEnJn8I4JUmF7w7i9NitlSu0FM4i1OUJRyO7YXYx'\n",
    "    headers = {'Authorization': f'Bearer {api_key}'}\n",
    "    url='https://api.yelp.com/v3/businesses/search'\n",
    "    names = []\n",
    "    ratings = []\n",
    "    latitudes = []\n",
    "    longitudes = []\n",
    "    prices = []\n",
    "    zip_codes = []\n",
    "\n",
    "    # since i saved the data with this already changed i commented this code snippet\n",
    "\n",
    "    offset = 0\n",
    "    while offset <= 30000:\n",
    "        params={'term':'Restaurants', 'location': 'seattle', 'limit': 50, 'radious':10000,'offset': offset}\n",
    "        response = requests.get(url, params=params, headers=headers)\n",
    "        data = response.json()\n",
    "        n = 0\n",
    "        while n < 50:\n",
    "    #         print(n)\n",
    "            try:\n",
    "                restaurant = data['businesses'][n]\n",
    "\n",
    "                #first create variable so in case one element is not there it will go to except\n",
    "\n",
    "                price = restaurant['price']\n",
    "                zipcode = restaurant['location']['zip_code']\n",
    "                name = restaurant['name']\n",
    "                rating = restaurant['rating']\n",
    "                lat = restaurant['coordinates']['latitude']\n",
    "                lon = restaurant['coordinates']['longitude']\n",
    "\n",
    "                prices.append(price)\n",
    "                zip_codes.append(zipcode)\n",
    "                names.append(name)\n",
    "                ratings.append(rating)\n",
    "                latitudes.append(lat)\n",
    "                longitudes.append(lon)\n",
    "                n+=1\n",
    "            except:\n",
    "                ## some of the data gathered are not going to have the necessary information\n",
    "                ## so we skip those \n",
    "                n+=1\n",
    "        offset += 50\n",
    "\n",
    "    yelpdata = pd.DataFrame({'name':names,'rating':ratings,'zipcode':zip_codes,'prices':prices,'lat':latitudes,\n",
    "                             'lon':longitudes})\n",
    "    # we'll drop duplicates just in case\n",
    "    yelpdata = yelpdata.drop_duplicates(ignore_index=True)\n",
    "\n",
    "    # we'll change the price from $,$$.. to 1,2..\n",
    "    # since i saved the data with this already changed i commented this code snippet\n",
    "\n",
    "    yelpdata.loc[:,'prices'] = yelpdata.prices.apply(lambda s:len(s))\n",
    "    \n",
    "else:\n",
    "    with open(\"yelpdata.pkl\", \"rb\") as input_file:\n",
    "        yelpdata= pickle.load(input_file)"
   ]
  },
  {
   "cell_type": "markdown",
   "id": "96512753",
   "metadata": {},
   "source": [
    "### 6.7.2 - Creation of rating and prices features."
   ]
  },
  {
   "cell_type": "code",
   "execution_count": 48,
   "id": "5be6849b",
   "metadata": {},
   "outputs": [],
   "source": [
    "# the easiest way to use this data is by grouping by zipcode and get the average rating and prices\n",
    "rating_df = yelpdata.rating.groupby(yelpdata['zipcode']).mean().reset_index(level=0)\n",
    "price_df = yelpdata.prices.groupby(yelpdata['zipcode']).mean().reset_index(level=0)\n",
    "\n",
    "rating_price_df = rating_df.merge(price_df, on='zipcode')\n",
    "rating_price_df.columns = ['code','avg_rating_per_zipcode','avg_prices_per_zipcode']\n",
    "for df in [listings_train, listings_val, listings_test]:\n",
    "    df.loc[:,'zipcode2'] = df.zipcode2.apply(lambda s: str(s))\n",
    "#     df.loc[:,:] = df.merge(rating_price_df,left_on='zipcode2',right_on='zipcode',how='left')\n",
    "listings_train= listings_train.merge(rating_price_df,left_on='zipcode2',right_on='code',how='left')\n",
    "listings_val = listings_val.merge(rating_price_df,left_on='zipcode2',right_on='code',how='left')\n",
    "listings_test = listings_test.merge(rating_price_df,left_on='zipcode2',right_on='code',how='left')"
   ]
  },
  {
   "cell_type": "markdown",
   "id": "6988e89a",
   "metadata": {},
   "source": [
    "### 6.7.3 - Creation of new features based on restaurants within a specific radius of the property."
   ]
  },
  {
   "cell_type": "code",
   "execution_count": 49,
   "id": "fc66b380",
   "metadata": {},
   "outputs": [],
   "source": [
    "if YELP_DATA:\n",
    "\n",
    "    RADIUS = 5\n",
    "\n",
    "    ratings = [[],[],[]]\n",
    "    prices = [[],[],[]]\n",
    "    counts = [[],[],[]]\n",
    "\n",
    "    for num,df in enumerate([listings_train,listings_val, listings_test]):\n",
    "        for index,elem in (enumerate(list(df.zipcode))):\n",
    "            point1 = (df.latitude[index],df.longitude[index])        \n",
    "            my_data = yelpdata.copy()\n",
    "            my_series = my_data.apply(lambda row: distance_latlon(point1,(row['lat'],row['lon'])),axis=1)\n",
    "            my_series = my_series[my_series <RADIUS]\n",
    "            my_index = my_series.index\n",
    "            my_data = my_data.iloc[my_index]\n",
    "            ratings[num].append(my_data.rating.mean())\n",
    "            prices[num].append(my_data.prices.mean())\n",
    "            counts[num].append(my_data.rating.count())\n",
    "else:\n",
    "    with open(\"ratings.pkl\", \"rb\") as input_file:\n",
    "        ratings= pickle.load(input_file)\n",
    "    with open(\"prices.pkl\", \"rb\") as input_file:\n",
    "        prices= pickle.load(input_file)\n",
    "    with open(\"counts.pkl\", \"rb\") as input_file:\n",
    "        counts= pickle.load(input_file)\n",
    "    \n",
    "\n",
    "       "
   ]
  },
  {
   "cell_type": "code",
   "execution_count": null,
   "id": "867dca94",
   "metadata": {},
   "outputs": [],
   "source": [
    "# # we'll save ratings, prices, and counts, so we won't have to run that code again since it takes time\n",
    "# pickle.dump(ratings,open('ratings.pkl','wb'))\n",
    "# pickle.dump(prices,open('prices.pkl','wb'))\n",
    "# pickle.dump(counts,open('counts.pkl','wb'))"
   ]
  },
  {
   "cell_type": "code",
   "execution_count": 50,
   "id": "5ad1e1d8",
   "metadata": {},
   "outputs": [],
   "source": [
    "listings_train['avg_rating_radius'] = pd.Series(ratings[0])\n",
    "listings_val['avg_rating_radius'] = pd.Series(ratings[1])\n",
    "listings_test['avg_rating_radius'] = pd.Series(ratings[2])\n",
    "\n",
    "listings_train['avg_prices_radius'] = pd.Series(prices[0])\n",
    "listings_val['avg_prices_radius'] = pd.Series(prices[1])\n",
    "listings_test['avg_prices_radius'] = pd.Series(prices[2])\n",
    "\n",
    "listings_train['restaurants_radius'] = pd.Series(counts[0])\n",
    "listings_val['restaurants_radius'] = pd.Series(counts[1])\n",
    "listings_test['restaurants_radius'] = pd.Series(counts[2])"
   ]
  },
  {
   "cell_type": "markdown",
   "id": "e85bbd71",
   "metadata": {},
   "source": [
    "# 7 - **Last adjustments**  "
   ]
  },
  {
   "cell_type": "markdown",
   "id": "62794e30",
   "metadata": {},
   "source": [
    "## 7.1 - Bed Type"
   ]
  },
  {
   "cell_type": "markdown",
   "id": "5d462f21",
   "metadata": {},
   "source": [
    "Bed type really has 1 value with a lot of data and not so much with different kinds of options (couch, futon...etc).  \n",
    "I'll just change it to 1 or 0 depending if it is \"Real bed\" or not"
   ]
  },
  {
   "cell_type": "code",
   "execution_count": 51,
   "id": "43e1f6a0",
   "metadata": {},
   "outputs": [],
   "source": [
    "listings_train.loc[:,'bed_type'] = listings_train.bed_type.apply(lambda s: 1 if s=='Real Bed' else 0)\n",
    "listings_val.loc[:,'bed_type'] = listings_val.bed_type.apply(lambda s: 1 if s=='Real Bed' else 0)\n",
    "listings_test.loc[:,'bed_type'] = listings_test.bed_type.apply(lambda s: 1 if s=='Real Bed' else 0)"
   ]
  },
  {
   "cell_type": "markdown",
   "id": "51009775",
   "metadata": {},
   "source": [
    "## 7.2 **DELETE** features no longer useful"
   ]
  },
  {
   "cell_type": "code",
   "execution_count": 52,
   "id": "39d44729",
   "metadata": {},
   "outputs": [],
   "source": [
    "to_delete = ['host_verifications','host_since','host_neighbourhood','amenities','id','last_scraped',\n",
    "            'zipcode2','code']\n",
    "\n",
    "for df in [listings_train, listings_val, listings_test]:\n",
    "    for col in to_delete:\n",
    "        \n",
    "        #deleting last_scraped, no longer useful\n",
    "        df.drop(columns=[col],inplace=True)\n"
   ]
  },
  {
   "cell_type": "markdown",
   "id": "77c42fa7",
   "metadata": {},
   "source": [
    "## 7.3 - Inpute values in features created.  \n",
    "In some of the features created there are nan values since during the merge (left_joins) some values on the left df were not  \n",
    "in the right df."
   ]
  },
  {
   "cell_type": "code",
   "execution_count": 54,
   "id": "d8aaed2c",
   "metadata": {},
   "outputs": [],
   "source": [
    "for df in [listings_train, listings_val, listings_test]:\n",
    "    for col in ['avg_rating_per_zipcode','avg_prices_per_zipcode','avg_rating_radius','avg_prices_radius']:\n",
    "        df[col].fillna(listings_train[col].mean(),inplace=True)\n"
   ]
  },
  {
   "cell_type": "markdown",
   "id": "e76731b6",
   "metadata": {},
   "source": [
    "## 7.4 - Change categories of features"
   ]
  },
  {
   "cell_type": "code",
   "execution_count": 55,
   "id": "d8a7a98a",
   "metadata": {},
   "outputs": [
    {
     "data": {
      "text/plain": [
       "Apartment    3036\n",
       "House        2645\n",
       "Name: property_type, dtype: int64"
      ]
     },
     "metadata": {},
     "output_type": "display_data"
    }
   ],
   "source": [
    "# property_type change to apartment, house, other\n",
    "#we see that the only categories with more than 5% are Apartment and house\n",
    "display(listings_train.property_type.value_counts()[listings_train.property_type.value_counts()>listings_train.shape[0]*0.05])\n",
    "\n",
    "# we'll change the data\n",
    "for df in [listings_train, listings_val, listings_test]:\n",
    "    df.loc[:,'property_type'] = df.property_type.apply(lambda s: s if ((s=='Apartment') or (s=='House')) else 'Other')"
   ]
  },
  {
   "cell_type": "code",
   "execution_count": 56,
   "id": "37d17bcb",
   "metadata": {},
   "outputs": [],
   "source": [
    "# features with 2 many categories we'll aggragate features with not so many data into \"other\" category.\n",
    "#this could be done more precise, but we'll keep only 5 categories including other  \n",
    "\n",
    "aggregate = ['neighbourhood','zipcode']\n",
    "agregate_categories(listings_train,listings_val, listings_test,aggregate)\n",
    "listings_train.loc[:,'neighbourhood'] = listings_train.neighbourhood.apply(lambda s: s if s!='NA' else 'other')\n",
    "listings_val.loc[:,'neighbourhood'] = listings_val.neighbourhood.apply(lambda s: s if s!='NA' else 'other')\n",
    "listings_test.loc[:,'neighbourhood'] = listings_test.neighbourhood.apply(lambda s: s if s!='NA' else 'other')"
   ]
  },
  {
   "cell_type": "code",
   "execution_count": 57,
   "id": "5dc99f28",
   "metadata": {},
   "outputs": [],
   "source": [
    "#deal with ordinal features\n",
    "\n",
    "host_resp_dict = {'a few days or more':1, 'within a day':2, 'within a few hours':3, 'within an hour':4}\n",
    "listings_train.loc[:,'host_response_time'] = listings_train.host_response_time.apply(lambda x: host_resp_dict[x])\n",
    "listings_val.loc[:,'host_response_time'] = listings_val.host_response_time.apply(lambda x: host_resp_dict[x])\n",
    "listings_test.loc[:,'host_response_time'] = listings_test.host_response_time.apply(lambda x: host_resp_dict[x])\n",
    "\n",
    "cancellation_dict = {'flexible':1, 'moderate':2, 'strict':3}\n",
    "listings_train.loc[:,'cancellation_policy'] = listings_train.cancellation_policy.apply(lambda x: cancellation_dict[x])\n",
    "listings_val.loc[:,'cancellation_policy'] = listings_val.cancellation_policy.apply(lambda x: cancellation_dict[x])\n",
    "listings_test.loc[:,'cancellation_policy'] = listings_test.cancellation_policy.apply(lambda x: cancellation_dict[x])\n"
   ]
  },
  {
   "cell_type": "markdown",
   "id": "c29b41bb",
   "metadata": {},
   "source": [
    "## 7.5 - OneHotEncoding"
   ]
  },
  {
   "cell_type": "code",
   "execution_count": 58,
   "id": "f5bbb377",
   "metadata": {},
   "outputs": [],
   "source": [
    "for df in [listings_train, listings_val, listings_test]:\n",
    "    \n",
    "    #making sure all elements in zipcode are strings so there wont be an error doing onehotencoder\n",
    "    df.loc[:,'zipcode'] = df.zipcode.apply(lambda s: str(s))"
   ]
  },
  {
   "cell_type": "code",
   "execution_count": 59,
   "id": "e4287657",
   "metadata": {},
   "outputs": [],
   "source": [
    "#onehotencoding the nominal features  \n",
    "enc = OneHotEncoder(handle_unknown='ignore')\n",
    "nominal = ['property_type','neighbourhood','zipcode','room_type']\n",
    "enc.fit(listings_train[nominal])\n",
    "features_ = list(set(listings_train.columns) - set(nominal))\n",
    "listings_train =  dataframe_with_dummies(listings_train,nominal,enc,features_)\n",
    "listings_val =  dataframe_with_dummies(listings_val,nominal,enc,features_)\n",
    "listings_test =  dataframe_with_dummies(listings_test,nominal,enc,features_)"
   ]
  },
  {
   "cell_type": "markdown",
   "id": "97c66f51",
   "metadata": {},
   "source": [
    "# 8 - Modelling.\n"
   ]
  },
  {
   "cell_type": "markdown",
   "id": "bf90e037",
   "metadata": {},
   "source": [
    "## 8.1 - Preparation code."
   ]
  },
  {
   "cell_type": "code",
   "execution_count": 60,
   "id": "cf6f6f9c",
   "metadata": {},
   "outputs": [],
   "source": [
    "#need to split in X,y\n",
    "X_train = listings_train.loc[:,listings_train.columns!='price']\n",
    "y_train = listings_train.price\n",
    "y_train=y_train.astype('float')\n",
    "\n",
    "X_val = listings_val.loc[:,listings_val.columns!='price']\n",
    "y_val = listings_val.price\n",
    "y_val=y_val.astype('float')\n",
    "\n",
    "X_test = listings_test.loc[:,listings_test.columns!='price']\n",
    "y_test = listings_test.price\n",
    "y_test=y_test.astype('float')\n"
   ]
  },
  {
   "cell_type": "code",
   "execution_count": 61,
   "id": "6298f2e1",
   "metadata": {},
   "outputs": [],
   "source": [
    "new_features = amenities_list + ['occupancy', 'weekend', 'summer', 'num_conf' ,'years_host' ,  'same_neighbourhood',\n",
    "                                 'is_downtown' ,'distance_to_downtown', 'avg_rating_per_zipcode' ,\n",
    "                                 'avg_prices_per_zipcode', 'avg_rating_radius', 'avg_prices_radius', 'restaurants_radius']\n",
    "old_features = list(set(X_train.columns) - set(new_features))\n"
   ]
  },
  {
   "cell_type": "code",
   "execution_count": 62,
   "id": "607f1a47",
   "metadata": {},
   "outputs": [],
   "source": [
    "X_train = X_train[old_features+new_features]\n",
    "X_val = X_val[old_features+new_features]\n",
    "X_test = X_test[old_features+new_features]"
   ]
  },
  {
   "cell_type": "markdown",
   "id": "c90a4d33",
   "metadata": {},
   "source": [
    "## 8.2 Baseline Model"
   ]
  },
  {
   "cell_type": "markdown",
   "id": "1e1b066a",
   "metadata": {},
   "source": [
    "First i'll run a random forest, but just to get the best 20 features that the model gives as an output. I'll do this in \n",
    "order to choose the features and then run some model with those features to define our baseline model and then see the efect of all the features and of the created features."
   ]
  },
  {
   "cell_type": "code",
   "execution_count": 63,
   "id": "88029f8d",
   "metadata": {},
   "outputs": [],
   "source": [
    "simple_rf = RandomForestRegressor()\n",
    "simple_rf.fit(X_train[old_features],y_train)\n",
    "best_20_features = get_best_features(simple_rf.feature_importances_,X_train[old_features].columns,'RF',20)"
   ]
  },
  {
   "cell_type": "code",
   "execution_count": 64,
   "id": "a3613354",
   "metadata": {},
   "outputs": [
    {
     "name": "stdout",
     "output_type": "stream",
     "text": [
      "Output of Metrics for Ridge model with best 20 features.\n",
      "(without created features)\n",
      "\n",
      "R^2:  0.5902045028338274\n",
      "MSE:  3954.4823163436995\n",
      "MAE:  41.55899066632523\n",
      "MAPE:  0.3080817958982964\n"
     ]
    }
   ],
   "source": [
    "ridge = Ridge()\n",
    "ridge.fit(X_train[best_20_features],y_train)\n",
    "y_preds = ridge.predict(X_val[best_20_features])\n",
    "print('Output of Metrics for Ridge model with best 20 features.')\n",
    "print('(without created features)\\n')\n",
    "model_output(y_val,y_preds)"
   ]
  },
  {
   "cell_type": "code",
   "execution_count": 65,
   "id": "26c1abb0",
   "metadata": {},
   "outputs": [
    {
     "name": "stdout",
     "output_type": "stream",
     "text": [
      "Output of Metrics for Ridge model.\n",
      "(without created features)\n",
      "\n",
      "R^2:  0.6325097045242489\n",
      "MSE:  3546.2416862464706\n",
      "MAE:  39.07662572184812\n",
      "MAPE:  0.28264961661001314\n"
     ]
    }
   ],
   "source": [
    "ridge = Ridge()\n",
    "ridge.fit(X_train[old_features],y_train)\n",
    "y_preds = ridge.predict(X_val[old_features])\n",
    "print('Output of Metrics for Ridge model.')\n",
    "print('(without created features)\\n')\n",
    "model_output(y_val,y_preds)"
   ]
  },
  {
   "cell_type": "code",
   "execution_count": 66,
   "id": "47cd3d0c",
   "metadata": {},
   "outputs": [
    {
     "name": "stdout",
     "output_type": "stream",
     "text": [
      "Output of Metrics for Ridge model.\n",
      "(with created features)\n",
      "\n",
      "R^2:  0.673856050075522\n",
      "MSE:  3147.2539143978106\n",
      "MAE:  37.00786960651886\n",
      "MAPE:  0.2755664690584724\n"
     ]
    }
   ],
   "source": [
    "ridge = Ridge()\n",
    "ridge.fit(X_train[old_features+new_features],y_train)\n",
    "y_preds = ridge.predict(X_val[old_features+new_features])\n",
    "print('Output of Metrics for Ridge model.')\n",
    "print('(with created features)\\n')\n",
    "model_output(y_val,y_preds)"
   ]
  },
  {
   "cell_type": "markdown",
   "id": "dbf07e2f",
   "metadata": {},
   "source": [
    "We can see how the features add value to the model. "
   ]
  },
  {
   "cell_type": "markdown",
   "id": "349e9914",
   "metadata": {},
   "source": [
    "## 8.3 - Random Forest"
   ]
  },
  {
   "cell_type": "markdown",
   "id": "f414b33d",
   "metadata": {},
   "source": [
    "### 8.3.1 - RF with best 20 features"
   ]
  },
  {
   "cell_type": "code",
   "execution_count": 67,
   "id": "1062f521",
   "metadata": {},
   "outputs": [
    {
     "name": "stdout",
     "output_type": "stream",
     "text": [
      "Output of Metrics for Random Forest model with best 20 features.\n",
      "(without created features)\n",
      "\n",
      "R^2:  0.6473182333730092\n",
      "MSE:  3403.3409812156838\n",
      "MAE:  37.41824677713015\n",
      "MAPE:  0.2653750767310685\n"
     ]
    }
   ],
   "source": [
    "rf1 = RandomForestRegressor()\n",
    "rf1.fit(X_train[best_20_features],y_train)\n",
    "y_preds = rf1.predict(X_val[best_20_features])\n",
    "print('Output of Metrics for Random Forest model with best 20 features.')\n",
    "print('(without created features)\\n')\n",
    "model_output(y_val,y_preds)"
   ]
  },
  {
   "cell_type": "markdown",
   "id": "988b91a9",
   "metadata": {},
   "source": [
    "### 8.3.2 - RF with all features (not including created features)"
   ]
  },
  {
   "cell_type": "code",
   "execution_count": 68,
   "id": "18818ce7",
   "metadata": {},
   "outputs": [
    {
     "name": "stdout",
     "output_type": "stream",
     "text": [
      "Output of Metrics for Random Forest.\n",
      "(without created features)\n",
      "\n",
      "R^2:  0.6309963428449552\n",
      "MSE:  3560.8454631068407\n",
      "MAE:  37.87678930164325\n",
      "MAPE:  0.2668800264979816\n"
     ]
    }
   ],
   "source": [
    "rf2 = RandomForestRegressor()\n",
    "rf2.fit(X_train[old_features],y_train)\n",
    "y_preds = rf2.predict(X_val[old_features])\n",
    "print('Output of Metrics for Random Forest.')\n",
    "print('(without created features)\\n')\n",
    "model_output(y_val,y_preds)"
   ]
  },
  {
   "cell_type": "markdown",
   "id": "2a34b36a",
   "metadata": {},
   "source": [
    "Interesting that the RF did worst with all of the original features. That could be because of overfitting."
   ]
  },
  {
   "cell_type": "markdown",
   "id": "3b8d280d",
   "metadata": {},
   "source": [
    "### 8.3.3 - RF including created features."
   ]
  },
  {
   "cell_type": "code",
   "execution_count": 69,
   "id": "58a29849",
   "metadata": {},
   "outputs": [
    {
     "name": "stdout",
     "output_type": "stream",
     "text": [
      "Output of Metrics for Random Forest.\n",
      "(with created features)\n",
      "\n",
      "R^2:  0.705613676605062\n",
      "MSE:  2840.796246149716\n",
      "MAE:  33.275344003667605\n",
      "MAPE:  0.23916638363257878\n"
     ]
    }
   ],
   "source": [
    "rf3 = RandomForestRegressor()\n",
    "rf3.fit(X_train[old_features + new_features],y_train)\n",
    "y_preds = rf3.predict(X_val[old_features + new_features])\n",
    "print('Output of Metrics for Random Forest.')\n",
    "print('(with created features)\\n')\n",
    "model_output(y_val,y_preds)"
   ]
  },
  {
   "cell_type": "markdown",
   "id": "c4a98738",
   "metadata": {},
   "source": [
    "Here we see an incredible improvement with the created features using RF.  "
   ]
  },
  {
   "cell_type": "code",
   "execution_count": 70,
   "id": "53b59fd1",
   "metadata": {},
   "outputs": [
    {
     "data": {
      "image/png": "[encoded data removed]",
      "text/plain": [
       "<Figure size 720x576 with 1 Axes>"
      ]
     },
     "metadata": {
      "needs_background": "light"
     },
     "output_type": "display_data"
    }
   ],
   "source": [
    "# Let's plot it\n",
    "_ =plot_feature_importance(rf3.feature_importances_,X_train[old_features+new_features].columns,'RF',20)"
   ]
  },
  {
   "cell_type": "markdown",
   "id": "0984e3a7",
   "metadata": {},
   "source": [
    "### 8.3.4 - RF best features with created features.   \n",
    "Now let's try to get a subset of features using best features in RF to see if we diminish factors like overfitting.  "
   ]
  },
  {
   "cell_type": "code",
   "execution_count": 71,
   "id": "e78e5e57",
   "metadata": {},
   "outputs": [],
   "source": [
    "best_20_features_nf = get_best_features(rf3.feature_importances_,X_train[old_features+new_features].columns,'RF',20)"
   ]
  },
  {
   "cell_type": "code",
   "execution_count": 72,
   "id": "e44f9383",
   "metadata": {},
   "outputs": [
    {
     "name": "stdout",
     "output_type": "stream",
     "text": [
      "Output of Metrics for Random Forest.\n",
      "(with created features)\n",
      "\n",
      "R^2:  0.7050226620030244\n",
      "MSE:  2846.4994732681707\n",
      "MAE:  34.00451581434481\n",
      "MAPE:  0.2464757934687639\n"
     ]
    }
   ],
   "source": [
    "rf4 = RandomForestRegressor()\n",
    "rf4.fit(X_train[best_20_features_nf],y_train)\n",
    "y_preds = rf4.predict(X_val[best_20_features_nf])\n",
    "print('Output of Metrics for Random Forest.')\n",
    "print('(with created features)\\n')\n",
    "model_output(y_val,y_preds)"
   ]
  },
  {
   "cell_type": "markdown",
   "id": "2eb5c42f",
   "metadata": {},
   "source": [
    "With these features we made the model worst but not by much. Considering we only used 20 features it's not bad."
   ]
  },
  {
   "cell_type": "markdown",
   "id": "9bf632a3",
   "metadata": {},
   "source": [
    "## 8.4 - Catboost"
   ]
  },
  {
   "cell_type": "markdown",
   "id": "fd24cf7f",
   "metadata": {},
   "source": [
    "### 8.4.1 - Catboost with 20 best features."
   ]
  },
  {
   "cell_type": "code",
   "execution_count": 74,
   "id": "b27e61a4",
   "metadata": {},
   "outputs": [
    {
     "name": "stdout",
     "output_type": "stream",
     "text": [
      "Output of Metrics for CatBoost model with best 20 features.\n",
      "(without created features)\n",
      "\n",
      "R^2:  0.696808516204102\n",
      "MSE:  2925.7650936332857\n",
      "MAE:  34.57751985846057\n",
      "MAPE:  0.24051042947533496\n"
     ]
    }
   ],
   "source": [
    "cb1 = CatBoostRegressor(verbose=False)\n",
    "cb1.fit(X_train[old_features],y_train)\n",
    "best_20_features_cb = get_best_features(cb1.feature_importances_,X_train[old_features].columns,'CB',20)\n",
    "cb1.fit(X_train[best_20_features_cb],y_train)\n",
    "y_preds = cb1.predict(X_val[best_20_features_cb])\n",
    "print('Output of Metrics for CatBoost model with best 20 features.')\n",
    "print('(without created features)\\n')\n",
    "model_output(y_val,y_preds)"
   ]
  },
  {
   "cell_type": "markdown",
   "id": "34a2a789",
   "metadata": {},
   "source": [
    "Just with 20 best features, Catboost does very good compared with our previous models."
   ]
  },
  {
   "cell_type": "markdown",
   "id": "501387ed",
   "metadata": {},
   "source": [
    "### 8.4.2 - Catboost with all features not created."
   ]
  },
  {
   "cell_type": "code",
   "execution_count": 75,
   "id": "8fc8de8b",
   "metadata": {},
   "outputs": [
    {
     "name": "stdout",
     "output_type": "stream",
     "text": [
      "Output of Metrics for CatBoost model.\n",
      "(without created features)\n",
      "\n",
      "R^2:  0.690646171556778\n",
      "MSE:  2985.231054346799\n",
      "MAE:  34.757081868947886\n",
      "MAPE:  0.24312989811467134\n"
     ]
    }
   ],
   "source": [
    "cb2 = CatBoostRegressor(verbose=False)\n",
    "cb2.fit(X_train[old_features],y_train)\n",
    "y_preds = cb2.predict(X_val[old_features])\n",
    "print('Output of Metrics for CatBoost model.')\n",
    "print('(without created features)\\n')\n",
    "model_output(y_val,y_preds)"
   ]
  },
  {
   "cell_type": "markdown",
   "id": "ad6b81e9",
   "metadata": {},
   "source": [
    "Very interesting that CatBoost with all of the features (except the ones we created) didn't improve much over the 20  \n",
    "best features."
   ]
  },
  {
   "cell_type": "markdown",
   "id": "dcf9a0a3",
   "metadata": {},
   "source": [
    "### 8.4.3 - Catboost including created features."
   ]
  },
  {
   "cell_type": "code",
   "execution_count": 76,
   "id": "26a6d3a4",
   "metadata": {},
   "outputs": [
    {
     "name": "stdout",
     "output_type": "stream",
     "text": [
      "Output of Metrics for Catboost including created features.\n",
      "(with created features)\n",
      "\n",
      "R^2:  0.7505438813772496\n",
      "MSE:  2407.224619643362\n",
      "MAE:  30.79418419593001\n",
      "MAPE:  0.2189142711663927\n"
     ]
    }
   ],
   "source": [
    "cb3 = CatBoostRegressor(verbose=False)\n",
    "cb3.fit(X_train[old_features + new_features],y_train)\n",
    "y_preds = cb3.predict(X_val[old_features + new_features])\n",
    "print('Output of Metrics for Catboost including created features.')\n",
    "print('(with created features)\\n')\n",
    "model_output(y_val,y_preds)"
   ]
  },
  {
   "cell_type": "markdown",
   "id": "e4cf8e6f",
   "metadata": {},
   "source": [
    "We see that including the created features we increased the R2 by almost 6%."
   ]
  },
  {
   "cell_type": "markdown",
   "id": "54df73c1",
   "metadata": {},
   "source": [
    "### 8.4.4 - Catboost including created features but with best features."
   ]
  },
  {
   "cell_type": "code",
   "execution_count": 77,
   "id": "1af74682",
   "metadata": {},
   "outputs": [
    {
     "data": {
      "image/png": "[encoded data removed]",
      "text/plain": [
       "<Figure size 720x576 with 1 Axes>"
      ]
     },
     "metadata": {
      "needs_background": "light"
     },
     "output_type": "display_data"
    },
    {
     "name": "stdout",
     "output_type": "stream",
     "text": [
      "Output of Metrics for Catboost best features.\n",
      "(with created features)\n",
      "\n",
      "R^2:  0.7387314769481859\n",
      "MSE:  2521.2130474110077\n",
      "MAE:  32.16268662995603\n",
      "MAPE:  0.23038795671918844\n"
     ]
    }
   ],
   "source": [
    "best_20_features_nf_cb = plot_feature_importance(cb3.feature_importances_,X_train[old_features+new_features].columns,'CB',20)\n",
    "cb4 = CatBoostRegressor(verbose=False)\n",
    "cb4.fit(X_train[best_20_features_nf_cb],y_train)\n",
    "y_preds = cb4.predict(X_val[best_20_features_nf_cb])\n",
    "print('Output of Metrics for Catboost best features.')\n",
    "print('(with created features)\\n')\n",
    "model_output(y_val,y_preds)"
   ]
  },
  {
   "cell_type": "code",
   "execution_count": 78,
   "id": "b2e5f371",
   "metadata": {},
   "outputs": [
    {
     "data": {
      "application/vnd.jupyter.widget-view+json": {
       "model_id": "7810eb00e4da4775ae0b2fe79e68789d",
       "version_major": 2,
       "version_minor": 0
      },
      "text/plain": [
       "  0%|          | 0/16 [00:00<?, ?it/s]"
      ]
     },
     "metadata": {},
     "output_type": "display_data"
    }
   ],
   "source": [
    "R2 = []\n",
    "indexes = []\n",
    "best_r2 = 0\n",
    "index_best = 0\n",
    "best_features = []\n",
    "for index in tqdm_notebook(range(70,86,1)):\n",
    "    cbc = CatBoostRegressor(verbose=False)\n",
    "    best_f = get_best_features(cbc.feature_importances_,X_train[old_features+new_features].columns,'CB',index)\n",
    "    cbc = CatBoostRegressor(verbose=False)\n",
    "    cbc.fit(X_train[best_f],y_train)\n",
    "    y_preds = cbc.predict(X_val[best_f])\n",
    "    r2 = r2_score(y_val,y_preds)\n",
    "    R2.append(r2)\n",
    "    indexes.append(index)\n",
    "    if best_r2 < r2 :\n",
    "        best_r2 = r2\n",
    "        index_best = index\n",
    "        best_features = best_f"
   ]
  },
  {
   "cell_type": "code",
   "execution_count": 79,
   "id": "1457c0be",
   "metadata": {},
   "outputs": [
    {
     "data": {
      "image/png": "[encoded data removed]",
      "text/plain": [
       "<Figure size 432x288 with 1 Axes>"
      ]
     },
     "metadata": {
      "needs_background": "light"
     },
     "output_type": "display_data"
    }
   ],
   "source": [
    "plt.plot(np.array(indexes),np.array(R2),marker='o',markerfacecolor='r')\n",
    "plt.title('R2 vs Number of features')\n",
    "plt.xlabel('Number of features')\n",
    "plt.ylabel('R2')\n",
    "plt.show()"
   ]
  },
  {
   "cell_type": "code",
   "execution_count": 80,
   "id": "c1c8c941",
   "metadata": {},
   "outputs": [
    {
     "name": "stdout",
     "output_type": "stream",
     "text": [
      "The best model had  the best 74 features according to Catboost\n",
      "The best R2 score was : 0.7601740027156649\n"
     ]
    }
   ],
   "source": [
    "print(f'The best model had  the best {index_best} features according to Catboost')\n",
    "print(f'The best R2 score was : {best_r2}')\n"
   ]
  },
  {
   "cell_type": "markdown",
   "id": "dd2851a4",
   "metadata": {},
   "source": [
    "# 9 - Hyperparameter Tunning"
   ]
  },
  {
   "cell_type": "markdown",
   "id": "02536afd",
   "metadata": {},
   "source": [
    "We'll use RandomSearch to check some combination of parameters and see the best option it gives as an output."
   ]
  },
  {
   "cell_type": "code",
   "execution_count": 81,
   "id": "3e02e816",
   "metadata": {},
   "outputs": [
    {
     "name": "stdout",
     "output_type": "stream",
     "text": [
      "{'learning_rate': 0.04, 'iterations': 2000, 'depth': 10}\n",
      "0.8511139691334574\n"
     ]
    }
   ],
   "source": [
    "cbc = CatBoostRegressor(verbose=False)\n",
    "\n",
    "param_dist = {'depth'         : [4,5,6,7,8,9, 10],\n",
    "                 'learning_rate' : [0.01,0.02,0.03,0.04],\n",
    "                  'iterations'    : [50,100,300,600,1000,2000]\n",
    "                 }\n",
    "rscv = RandomizedSearchCV(cbc , param_dist, scoring='r2', cv =5)\n",
    "rscv.fit(X_train[best_features],y_train)\n",
    "\n",
    "# Print the tuned parameters and score\n",
    "print(rscv.best_params_)\n",
    "print(rscv.best_score_)"
   ]
  },
  {
   "cell_type": "code",
   "execution_count": 84,
   "id": "d02d1f4b",
   "metadata": {},
   "outputs": [
    {
     "name": "stdout",
     "output_type": "stream",
     "text": [
      "Output of Metrics for Catboost best features .\n",
      "(with created features and hypertunning)\n",
      "\n",
      "R^2:  0.7140390550092521\n",
      "MSE:  2759.4922539431755\n",
      "MAE:  31.869127983841683\n",
      "MAPE:  0.22593041835705702\n"
     ]
    }
   ],
   "source": [
    "cb_final = CatBoostRegressor(verbose=False,**rscv.best_params_)\n",
    "cb_final.fit(X_train[best_features],y_train)\n",
    "y_preds = cb_final.predict(X_val[best_features])\n",
    "print('Output of Metrics for Catboost best features .')\n",
    "print('(with created features and hypertunning)\\n')\n",
    "model_output(y_val,y_preds)"
   ]
  },
  {
   "cell_type": "code",
   "execution_count": null,
   "id": "01cb75a3",
   "metadata": {},
   "outputs": [],
   "source": []
  }
 ],
 "metadata": {
  "kernelspec": {
   "display_name": "P368",
   "language": "python",
   "name": "p368"
  },
  "language_info": {
   "codemirror_mode": {
    "name": "ipython",
    "version": 3
   },
   "file_extension": ".py",
   "mimetype": "text/x-python",
   "name": "python",
   "nbconvert_exporter": "python",
   "pygments_lexer": "ipython3",
   "version": "3.6.8"
  }
 },
 "nbformat": 4,
 "nbformat_minor": 5
}
